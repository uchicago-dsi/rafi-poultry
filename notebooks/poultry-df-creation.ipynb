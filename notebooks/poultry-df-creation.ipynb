{
 "cells": [
  {
   "cell_type": "code",
   "execution_count": 1,
   "metadata": {},
   "outputs": [],
   "source": [
    "import pandas as pd\n",
    "import requests\n",
    "import folium\n",
    "import geopandas as gpd\n",
    "import shapely\n",
    "from shapely.geometry import Polygon"
   ]
  },
  {
   "attachments": {},
   "cell_type": "markdown",
   "metadata": {},
   "source": [
    "This notebook loads the FSIS data, filters it for large poultry processors, calls the Mapbox API for driving distance isochrones, and pickles it so it can be directly loaded into other notebooks."
   ]
  },
  {
   "cell_type": "code",
   "execution_count": 2,
   "metadata": {},
   "outputs": [],
   "source": [
    "PICKLE_PATH = \"../data/pickled-chickens.pickle\"\n",
    "FSIS_DATA = \"../data/fsis-processors-with-location.csv\""
   ]
  },
  {
   "cell_type": "code",
   "execution_count": 3,
   "metadata": {},
   "outputs": [
    {
     "data": {
      "text/html": [
       "<div>\n",
       "<style scoped>\n",
       "    .dataframe tbody tr th:only-of-type {\n",
       "        vertical-align: middle;\n",
       "    }\n",
       "\n",
       "    .dataframe tbody tr th {\n",
       "        vertical-align: top;\n",
       "    }\n",
       "\n",
       "    .dataframe thead th {\n",
       "        text-align: right;\n",
       "    }\n",
       "</style>\n",
       "<table border=\"1\" class=\"dataframe\">\n",
       "  <thead>\n",
       "    <tr style=\"text-align: right;\">\n",
       "      <th></th>\n",
       "      <th>Unnamed: 0</th>\n",
       "      <th>EstNumber</th>\n",
       "      <th>EstID</th>\n",
       "      <th>Parent Corporation</th>\n",
       "      <th>Establishment Name</th>\n",
       "      <th>State</th>\n",
       "      <th>Size</th>\n",
       "      <th>Animals Processed</th>\n",
       "      <th>Processed\\nVolume\\nCategory</th>\n",
       "      <th>Slaughter\\nVolume\\nCategory</th>\n",
       "      <th>Full Address</th>\n",
       "      <th>latitude</th>\n",
       "      <th>longitude</th>\n",
       "    </tr>\n",
       "  </thead>\n",
       "  <tbody>\n",
       "    <tr>\n",
       "      <th>0</th>\n",
       "      <td>0</td>\n",
       "      <td>M267</td>\n",
       "      <td>4802</td>\n",
       "      <td>JBS</td>\n",
       "      <td>JBS Tolleson Inc.</td>\n",
       "      <td>AZ</td>\n",
       "      <td>Large</td>\n",
       "      <td>Beef</td>\n",
       "      <td>5.0</td>\n",
       "      <td>4.0</td>\n",
       "      <td>651 S. 91st Ave, Tolleson, AZ 85353</td>\n",
       "      <td>33.441660</td>\n",
       "      <td>-112.252559</td>\n",
       "    </tr>\n",
       "    <tr>\n",
       "      <th>1</th>\n",
       "      <td>1</td>\n",
       "      <td>M354</td>\n",
       "      <td>5117</td>\n",
       "      <td>Cargill</td>\n",
       "      <td>Cargill Meat Solutions</td>\n",
       "      <td>CA</td>\n",
       "      <td>Large</td>\n",
       "      <td>Beef</td>\n",
       "      <td>5.0</td>\n",
       "      <td>4.0</td>\n",
       "      <td>3115 S. Fig Ave., Fresno, CA 93706</td>\n",
       "      <td>36.689651</td>\n",
       "      <td>-119.801950</td>\n",
       "    </tr>\n",
       "    <tr>\n",
       "      <th>2</th>\n",
       "      <td>2</td>\n",
       "      <td>M6063A</td>\n",
       "      <td>5289</td>\n",
       "      <td>Central Valley Meat Company</td>\n",
       "      <td>Central Valley Meat Co., Inc.</td>\n",
       "      <td>CA</td>\n",
       "      <td>Large</td>\n",
       "      <td>Beef</td>\n",
       "      <td>5.0</td>\n",
       "      <td>4.0</td>\n",
       "      <td>10431 8 3/4 Ave., Hanford, CA 93230</td>\n",
       "      <td>36.321273</td>\n",
       "      <td>-119.612222</td>\n",
       "    </tr>\n",
       "    <tr>\n",
       "      <th>3</th>\n",
       "      <td>3</td>\n",
       "      <td>M783 + P783 + V783</td>\n",
       "      <td>5144</td>\n",
       "      <td>Central Valley Meat Company</td>\n",
       "      <td>Harris Ranch Beef Company</td>\n",
       "      <td>CA</td>\n",
       "      <td>Large</td>\n",
       "      <td>Beef</td>\n",
       "      <td>5.0</td>\n",
       "      <td>4.0</td>\n",
       "      <td>16277 S McCall Ave., Selma, CA 93662</td>\n",
       "      <td>36.499212</td>\n",
       "      <td>-119.614553</td>\n",
       "    </tr>\n",
       "    <tr>\n",
       "      <th>4</th>\n",
       "      <td>4</td>\n",
       "      <td>M21488 + V21488</td>\n",
       "      <td>8349</td>\n",
       "      <td>Independent</td>\n",
       "      <td>OWB Packers LLC</td>\n",
       "      <td>CA</td>\n",
       "      <td>Large</td>\n",
       "      <td>Beef</td>\n",
       "      <td>4.0</td>\n",
       "      <td>4.0</td>\n",
       "      <td>57 East Shank Road, Brawley, CA 92227</td>\n",
       "      <td>33.000969</td>\n",
       "      <td>-115.521786</td>\n",
       "    </tr>\n",
       "  </tbody>\n",
       "</table>\n",
       "</div>"
      ],
      "text/plain": [
       "   Unnamed: 0           EstNumber  EstID           Parent Corporation   \n",
       "0           0                M267   4802                          JBS  \\\n",
       "1           1                M354   5117                      Cargill   \n",
       "2           2              M6063A   5289  Central Valley Meat Company   \n",
       "3           3  M783 + P783 + V783   5144  Central Valley Meat Company   \n",
       "4           4     M21488 + V21488   8349                  Independent   \n",
       "\n",
       "              Establishment Name State   Size Animals Processed   \n",
       "0              JBS Tolleson Inc.    AZ  Large              Beef  \\\n",
       "1         Cargill Meat Solutions    CA  Large              Beef   \n",
       "2  Central Valley Meat Co., Inc.    CA  Large              Beef   \n",
       "3      Harris Ranch Beef Company    CA  Large              Beef   \n",
       "4                OWB Packers LLC    CA  Large              Beef   \n",
       "\n",
       "   Processed\\nVolume\\nCategory  Slaughter\\nVolume\\nCategory   \n",
       "0                          5.0                          4.0  \\\n",
       "1                          5.0                          4.0   \n",
       "2                          5.0                          4.0   \n",
       "3                          5.0                          4.0   \n",
       "4                          4.0                          4.0   \n",
       "\n",
       "                            Full Address   latitude   longitude  \n",
       "0    651 S. 91st Ave, Tolleson, AZ 85353  33.441660 -112.252559  \n",
       "1     3115 S. Fig Ave., Fresno, CA 93706  36.689651 -119.801950  \n",
       "2    10431 8 3/4 Ave., Hanford, CA 93230  36.321273 -119.612222  \n",
       "3   16277 S McCall Ave., Selma, CA 93662  36.499212 -119.614553  \n",
       "4  57 East Shank Road, Brawley, CA 92227  33.000969 -115.521786  "
      ]
     },
     "execution_count": 3,
     "metadata": {},
     "output_type": "execute_result"
    }
   ],
   "source": [
    "df = pd.read_csv(FSIS_DATA)\n",
    "df.head()"
   ]
  },
  {
   "cell_type": "code",
   "execution_count": 4,
   "metadata": {},
   "outputs": [
    {
     "data": {
      "text/plain": [
       "1149"
      ]
     },
     "execution_count": 4,
     "metadata": {},
     "output_type": "execute_result"
    }
   ],
   "source": [
    "len(df)"
   ]
  },
  {
   "cell_type": "code",
   "execution_count": 6,
   "metadata": {},
   "outputs": [
    {
     "data": {
      "text/plain": [
       "258"
      ]
     },
     "execution_count": 6,
     "metadata": {},
     "output_type": "execute_result"
    }
   ],
   "source": [
    "df_chickens = df[df['Animals Processed'].str.contains('Chicken')]\n",
    "len(df_chickens)"
   ]
  },
  {
   "cell_type": "code",
   "execution_count": 7,
   "metadata": {},
   "outputs": [
    {
     "data": {
      "text/html": [
       "<div>\n",
       "<style scoped>\n",
       "    .dataframe tbody tr th:only-of-type {\n",
       "        vertical-align: middle;\n",
       "    }\n",
       "\n",
       "    .dataframe tbody tr th {\n",
       "        vertical-align: top;\n",
       "    }\n",
       "\n",
       "    .dataframe thead th {\n",
       "        text-align: right;\n",
       "    }\n",
       "</style>\n",
       "<table border=\"1\" class=\"dataframe\">\n",
       "  <thead>\n",
       "    <tr style=\"text-align: right;\">\n",
       "      <th></th>\n",
       "      <th>Unnamed: 0</th>\n",
       "      <th>EstNumber</th>\n",
       "      <th>EstID</th>\n",
       "      <th>Parent Corporation</th>\n",
       "      <th>Establishment Name</th>\n",
       "      <th>State</th>\n",
       "      <th>Size</th>\n",
       "      <th>Animals Processed</th>\n",
       "      <th>Processed\\nVolume\\nCategory</th>\n",
       "      <th>Slaughter\\nVolume\\nCategory</th>\n",
       "      <th>Full Address</th>\n",
       "      <th>latitude</th>\n",
       "      <th>longitude</th>\n",
       "    </tr>\n",
       "  </thead>\n",
       "  <tbody>\n",
       "    <tr>\n",
       "      <th>71</th>\n",
       "      <td>71</td>\n",
       "      <td>P1317 + V1317</td>\n",
       "      <td>4495</td>\n",
       "      <td>Cargill</td>\n",
       "      <td>Wayne Farms LLC</td>\n",
       "      <td>AL</td>\n",
       "      <td>Large</td>\n",
       "      <td>Chicken</td>\n",
       "      <td>5.0</td>\n",
       "      <td>5.0</td>\n",
       "      <td>700 McDonald Avenue, Albertville, AL 35950</td>\n",
       "      <td>34.260726</td>\n",
       "      <td>-86.203222</td>\n",
       "    </tr>\n",
       "    <tr>\n",
       "      <th>72</th>\n",
       "      <td>72</td>\n",
       "      <td>P7485 + V7485</td>\n",
       "      <td>4518</td>\n",
       "      <td>Cargill</td>\n",
       "      <td>Wayne Farms LLC</td>\n",
       "      <td>AL</td>\n",
       "      <td>Large</td>\n",
       "      <td>Chicken</td>\n",
       "      <td>5.0</td>\n",
       "      <td>5.0</td>\n",
       "      <td>1020 County Road 114, Jack, AL 36346</td>\n",
       "      <td>31.500628</td>\n",
       "      <td>-85.903438</td>\n",
       "    </tr>\n",
       "    <tr>\n",
       "      <th>73</th>\n",
       "      <td>73</td>\n",
       "      <td>P912</td>\n",
       "      <td>4493</td>\n",
       "      <td>Cargill</td>\n",
       "      <td>Wayne Farms, LLC</td>\n",
       "      <td>AL</td>\n",
       "      <td>Large</td>\n",
       "      <td>Chicken</td>\n",
       "      <td>5.0</td>\n",
       "      <td>5.0</td>\n",
       "      <td>444 Baskin Street  South, Union Springs, AL 36089</td>\n",
       "      <td>32.139166</td>\n",
       "      <td>-85.721704</td>\n",
       "    </tr>\n",
       "    <tr>\n",
       "      <th>74</th>\n",
       "      <td>74</td>\n",
       "      <td>P7342 + V7342</td>\n",
       "      <td>4516</td>\n",
       "      <td>Cargill</td>\n",
       "      <td>Wayne Farms LLC</td>\n",
       "      <td>AL</td>\n",
       "      <td>Large</td>\n",
       "      <td>Chicken</td>\n",
       "      <td>5.0</td>\n",
       "      <td>5.0</td>\n",
       "      <td>808 Ross Clark Circle NE, Dothan, AL 36303</td>\n",
       "      <td>31.225754</td>\n",
       "      <td>-85.362068</td>\n",
       "    </tr>\n",
       "    <tr>\n",
       "      <th>75</th>\n",
       "      <td>75</td>\n",
       "      <td>P1235</td>\n",
       "      <td>4509</td>\n",
       "      <td>Cargill</td>\n",
       "      <td>Wayne Farms LLC</td>\n",
       "      <td>AL</td>\n",
       "      <td>Large</td>\n",
       "      <td>Chicken</td>\n",
       "      <td>5.0</td>\n",
       "      <td>5.0</td>\n",
       "      <td>254 Ipsco Road, Decatur, AL 35601</td>\n",
       "      <td>34.607601</td>\n",
       "      <td>-87.042595</td>\n",
       "    </tr>\n",
       "  </tbody>\n",
       "</table>\n",
       "</div>"
      ],
      "text/plain": [
       "    Unnamed: 0      EstNumber  EstID Parent Corporation Establishment Name   \n",
       "71          71  P1317 + V1317   4495            Cargill    Wayne Farms LLC  \\\n",
       "72          72  P7485 + V7485   4518            Cargill    Wayne Farms LLC   \n",
       "73          73           P912   4493            Cargill   Wayne Farms, LLC   \n",
       "74          74  P7342 + V7342   4516            Cargill    Wayne Farms LLC   \n",
       "75          75          P1235   4509            Cargill    Wayne Farms LLC   \n",
       "\n",
       "   State   Size Animals Processed  Processed\\nVolume\\nCategory   \n",
       "71    AL  Large           Chicken                          5.0  \\\n",
       "72    AL  Large           Chicken                          5.0   \n",
       "73    AL  Large           Chicken                          5.0   \n",
       "74    AL  Large           Chicken                          5.0   \n",
       "75    AL  Large           Chicken                          5.0   \n",
       "\n",
       "    Slaughter\\nVolume\\nCategory   \n",
       "71                          5.0  \\\n",
       "72                          5.0   \n",
       "73                          5.0   \n",
       "74                          5.0   \n",
       "75                          5.0   \n",
       "\n",
       "                                         Full Address   latitude  longitude  \n",
       "71         700 McDonald Avenue, Albertville, AL 35950  34.260726 -86.203222  \n",
       "72               1020 County Road 114, Jack, AL 36346  31.500628 -85.903438  \n",
       "73  444 Baskin Street  South, Union Springs, AL 36089  32.139166 -85.721704  \n",
       "74         808 Ross Clark Circle NE, Dothan, AL 36303  31.225754 -85.362068  \n",
       "75                  254 Ipsco Road, Decatur, AL 35601  34.607601 -87.042595  "
      ]
     },
     "execution_count": 7,
     "metadata": {},
     "output_type": "execute_result"
    }
   ],
   "source": [
    "df_large_chickens = df_chickens.loc[df_chickens.Size == \"Large\"]\n",
    "df_large_chickens.head()"
   ]
  },
  {
   "cell_type": "code",
   "execution_count": 8,
   "metadata": {},
   "outputs": [
    {
     "data": {
      "text/plain": [
       "138"
      ]
     },
     "execution_count": 8,
     "metadata": {},
     "output_type": "execute_result"
    }
   ],
   "source": [
    "len(df_large_chickens)"
   ]
  },
  {
   "attachments": {},
   "cell_type": "markdown",
   "metadata": {},
   "source": [
    "### Save Isochrones to Dataframe"
   ]
  },
  {
   "cell_type": "code",
   "execution_count": 9,
   "metadata": {},
   "outputs": [],
   "source": [
    "# mapbox constants\n",
    "MAPBOX_TOKEN = \"pk.eyJ1IjoidG9kZG5pZWYiLCJhIjoiY2xncGpzbmhhMTBwdzNnbXJjNWlzaTY2aCJ9.UhUELBA2iNIDsTN9YESsIw\"\n",
    "ENDPOINT = \"https://api.mapbox.com/isochrone/v1/mapbox/driving/\"\n",
    "DRIVING_DISTANCE = str(int(60 * 1609.34)) # 60 miles in meters: 90 percent of all birds were produced on farms within 60 miles of the plant, according to 2011 ARMS data"
   ]
  },
  {
   "cell_type": "code",
   "execution_count": null,
   "metadata": {},
   "outputs": [],
   "source": [
    "isochrones = []\n",
    "for index, row in df_large_chickens.iterrows():\n",
    "    lat = str(row['latitude'])\n",
    "    lng = str(row['longitude'])\n",
    "\n",
    "    # add driving radius isochrone to map\n",
    "    url = ENDPOINT + lng + \",\" + lat + \"?\" + \"contours_meters=\" + DRIVING_DISTANCE + \"&access_token=\" + MAPBOX_TOKEN\n",
    "    response = requests.get(url)\n",
    "    isochrone = Polygon(response.json()['features'][0]['geometry']['coordinates'])\n",
    "    isochrones.append(isochrone)"
   ]
  },
  {
   "cell_type": "code",
   "execution_count": null,
   "metadata": {},
   "outputs": [],
   "source": [
    "df_large_chickens = df_large_chickens.copy()\n",
    "df_large_chickens[\"Isochrone\"] = isochrones"
   ]
  },
  {
   "cell_type": "code",
   "execution_count": null,
   "metadata": {},
   "outputs": [],
   "source": [
    "df_large_chickens.head()"
   ]
  },
  {
   "cell_type": "code",
   "execution_count": null,
   "metadata": {},
   "outputs": [],
   "source": [
    "df_large_chickens.to_pickle(PICKLE_PATH)"
   ]
  }
 ],
 "metadata": {
  "kernelspec": {
   "display_name": "base",
   "language": "python",
   "name": "python3"
  },
  "language_info": {
   "codemirror_mode": {
    "name": "ipython",
    "version": 3
   },
   "file_extension": ".py",
   "mimetype": "text/x-python",
   "name": "python",
   "nbconvert_exporter": "python",
   "pygments_lexer": "ipython3",
   "version": "3.10.8"
  },
  "orig_nbformat": 4
 },
 "nbformat": 4,
 "nbformat_minor": 2
}
