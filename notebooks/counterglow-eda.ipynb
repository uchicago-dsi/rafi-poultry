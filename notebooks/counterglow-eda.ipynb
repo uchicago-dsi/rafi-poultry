{
 "cells": [
  {
   "cell_type": "code",
   "execution_count": 14,
   "metadata": {},
   "outputs": [],
   "source": [
    "import pandas as pd\n",
    "import geopandas as gpd\n",
    "from shapely import Point"
   ]
  },
  {
   "cell_type": "code",
   "execution_count": 2,
   "metadata": {},
   "outputs": [],
   "source": [
    "df = pd.read_csv(\"../data/Counterglow+Facility+List+Complete.csv\")"
   ]
  },
  {
   "cell_type": "code",
   "execution_count": 3,
   "metadata": {},
   "outputs": [
    {
     "data": {
      "text/html": [
       "<div>\n",
       "<style scoped>\n",
       "    .dataframe tbody tr th:only-of-type {\n",
       "        vertical-align: middle;\n",
       "    }\n",
       "\n",
       "    .dataframe tbody tr th {\n",
       "        vertical-align: top;\n",
       "    }\n",
       "\n",
       "    .dataframe thead th {\n",
       "        text-align: right;\n",
       "    }\n",
       "</style>\n",
       "<table border=\"1\" class=\"dataframe\">\n",
       "  <thead>\n",
       "    <tr style=\"text-align: right;\">\n",
       "      <th></th>\n",
       "      <th>Name</th>\n",
       "      <th>Lat</th>\n",
       "      <th>Lat.1</th>\n",
       "      <th>Address</th>\n",
       "      <th>City</th>\n",
       "      <th>State</th>\n",
       "      <th>County</th>\n",
       "      <th>Description</th>\n",
       "      <th>Business/company name</th>\n",
       "      <th>Postal address</th>\n",
       "      <th>Phone number</th>\n",
       "      <th>Region</th>\n",
       "      <th>Facility name</th>\n",
       "      <th>Number of animals</th>\n",
       "      <th>Full address</th>\n",
       "      <th>Website URL</th>\n",
       "      <th>Postcode</th>\n",
       "      <th>Suburb/city</th>\n",
       "      <th>Contracted to</th>\n",
       "      <th>Farm Type</th>\n",
       "    </tr>\n",
       "  </thead>\n",
       "  <tbody>\n",
       "    <tr>\n",
       "      <th>0</th>\n",
       "      <td>78</td>\n",
       "      <td>43.396729</td>\n",
       "      <td>-95.923149</td>\n",
       "      <td>1757 Lily Avenue George 51237, United States</td>\n",
       "      <td>NaN</td>\n",
       "      <td>IA</td>\n",
       "      <td>Lyon County</td>\n",
       "      <td>NaN</td>\n",
       "      <td>NaN</td>\n",
       "      <td>NaN</td>\n",
       "      <td>NaN</td>\n",
       "      <td>NaN</td>\n",
       "      <td>NaN</td>\n",
       "      <td>NaN</td>\n",
       "      <td>NaN</td>\n",
       "      <td>NaN</td>\n",
       "      <td>NaN</td>\n",
       "      <td>NaN</td>\n",
       "      <td>NaN</td>\n",
       "      <td>Pigs (Meat)</td>\n",
       "    </tr>\n",
       "    <tr>\n",
       "      <th>1</th>\n",
       "      <td>84</td>\n",
       "      <td>42.925350</td>\n",
       "      <td>-96.429291</td>\n",
       "      <td>1804 500th Street Hawarden 51023, United States</td>\n",
       "      <td>NaN</td>\n",
       "      <td>IA</td>\n",
       "      <td>Sioux County</td>\n",
       "      <td>NaN</td>\n",
       "      <td>NaN</td>\n",
       "      <td>NaN</td>\n",
       "      <td>NaN</td>\n",
       "      <td>NaN</td>\n",
       "      <td>NaN</td>\n",
       "      <td>NaN</td>\n",
       "      <td>NaN</td>\n",
       "      <td>NaN</td>\n",
       "      <td>NaN</td>\n",
       "      <td>NaN</td>\n",
       "      <td>NaN</td>\n",
       "      <td>Pigs (Meat)</td>\n",
       "    </tr>\n",
       "    <tr>\n",
       "      <th>2</th>\n",
       "      <td>87</td>\n",
       "      <td>40.658218</td>\n",
       "      <td>-92.410202</td>\n",
       "      <td>21166 Mahogany Avenue Bloomfield 52537, United...</td>\n",
       "      <td>NaN</td>\n",
       "      <td>IA</td>\n",
       "      <td>Davis County</td>\n",
       "      <td>NaN</td>\n",
       "      <td>NaN</td>\n",
       "      <td>NaN</td>\n",
       "      <td>NaN</td>\n",
       "      <td>NaN</td>\n",
       "      <td>NaN</td>\n",
       "      <td>NaN</td>\n",
       "      <td>NaN</td>\n",
       "      <td>NaN</td>\n",
       "      <td>NaN</td>\n",
       "      <td>NaN</td>\n",
       "      <td>NaN</td>\n",
       "      <td>Pigs (Meat)</td>\n",
       "    </tr>\n",
       "    <tr>\n",
       "      <th>3</th>\n",
       "      <td>88</td>\n",
       "      <td>40.643219</td>\n",
       "      <td>-92.409889</td>\n",
       "      <td>27268 Mahogany Avenue Bloomfield 52537, United...</td>\n",
       "      <td>NaN</td>\n",
       "      <td>IA</td>\n",
       "      <td>Davis County</td>\n",
       "      <td>NaN</td>\n",
       "      <td>NaN</td>\n",
       "      <td>NaN</td>\n",
       "      <td>NaN</td>\n",
       "      <td>NaN</td>\n",
       "      <td>NaN</td>\n",
       "      <td>NaN</td>\n",
       "      <td>NaN</td>\n",
       "      <td>NaN</td>\n",
       "      <td>NaN</td>\n",
       "      <td>NaN</td>\n",
       "      <td>NaN</td>\n",
       "      <td>Pigs (Meat)</td>\n",
       "    </tr>\n",
       "    <tr>\n",
       "      <th>4</th>\n",
       "      <td>89</td>\n",
       "      <td>40.660851</td>\n",
       "      <td>-92.421219</td>\n",
       "      <td>21166 280th Street Bloomfield 52537, United St...</td>\n",
       "      <td>NaN</td>\n",
       "      <td>IA</td>\n",
       "      <td>Davis County</td>\n",
       "      <td>NaN</td>\n",
       "      <td>NaN</td>\n",
       "      <td>NaN</td>\n",
       "      <td>NaN</td>\n",
       "      <td>NaN</td>\n",
       "      <td>NaN</td>\n",
       "      <td>NaN</td>\n",
       "      <td>NaN</td>\n",
       "      <td>NaN</td>\n",
       "      <td>NaN</td>\n",
       "      <td>NaN</td>\n",
       "      <td>NaN</td>\n",
       "      <td>Pigs (Meat)</td>\n",
       "    </tr>\n",
       "  </tbody>\n",
       "</table>\n",
       "</div>"
      ],
      "text/plain": [
       "  Name        Lat      Lat.1  \\\n",
       "0   78  43.396729 -95.923149   \n",
       "1   84  42.925350 -96.429291   \n",
       "2   87  40.658218 -92.410202   \n",
       "3   88  40.643219 -92.409889   \n",
       "4   89  40.660851 -92.421219   \n",
       "\n",
       "                                             Address City State        County  \\\n",
       "0       1757 Lily Avenue George 51237, United States  NaN    IA   Lyon County   \n",
       "1    1804 500th Street Hawarden 51023, United States  NaN    IA  Sioux County   \n",
       "2  21166 Mahogany Avenue Bloomfield 52537, United...  NaN    IA  Davis County   \n",
       "3  27268 Mahogany Avenue Bloomfield 52537, United...  NaN    IA  Davis County   \n",
       "4  21166 280th Street Bloomfield 52537, United St...  NaN    IA  Davis County   \n",
       "\n",
       "   Description Business/company name Postal address Phone number Region  \\\n",
       "0          NaN                   NaN            NaN          NaN    NaN   \n",
       "1          NaN                   NaN            NaN          NaN    NaN   \n",
       "2          NaN                   NaN            NaN          NaN    NaN   \n",
       "3          NaN                   NaN            NaN          NaN    NaN   \n",
       "4          NaN                   NaN            NaN          NaN    NaN   \n",
       "\n",
       "  Facility name Number of animals Full address  Website URL  Postcode  \\\n",
       "0           NaN               NaN          NaN          NaN       NaN   \n",
       "1           NaN               NaN          NaN          NaN       NaN   \n",
       "2           NaN               NaN          NaN          NaN       NaN   \n",
       "3           NaN               NaN          NaN          NaN       NaN   \n",
       "4           NaN               NaN          NaN          NaN       NaN   \n",
       "\n",
       "  Suburb/city Contracted to    Farm Type  \n",
       "0         NaN           NaN  Pigs (Meat)  \n",
       "1         NaN           NaN  Pigs (Meat)  \n",
       "2         NaN           NaN  Pigs (Meat)  \n",
       "3         NaN           NaN  Pigs (Meat)  \n",
       "4         NaN           NaN  Pigs (Meat)  "
      ]
     },
     "execution_count": 3,
     "metadata": {},
     "output_type": "execute_result"
    }
   ],
   "source": [
    "df.head()"
   ]
  },
  {
   "cell_type": "code",
   "execution_count": 4,
   "metadata": {},
   "outputs": [
    {
     "data": {
      "text/plain": [
       "29853"
      ]
     },
     "execution_count": 4,
     "metadata": {},
     "output_type": "execute_result"
    }
   ],
   "source": [
    "len(df)"
   ]
  },
  {
   "cell_type": "code",
   "execution_count": 20,
   "metadata": {},
   "outputs": [
    {
     "data": {
      "text/plain": [
       "array(['Pigs (Meat)', 'Cows (Meat)',\n",
       "       'Cows, Bulls, Horses, Other Animals - Rodeos', 'Unknown',\n",
       "       'Cows (Dairy, Meat)', nan,\n",
       "       'Mink/Foxes/Rabbits/Other Mammals (Fur)', 'Slaughterhouses',\n",
       "       'Chickens (Meat)', 'Chickens (Eggs)',\n",
       "       'Fish & Marine Animals (Meat)', 'Goats (Meat)', 'Turkeys (Meat)',\n",
       "       'Live Animal Saleyards', 'Alligators & Crocodiles (Skin, Meat)',\n",
       "       'Sheep (Meat)', 'Horse Racetracks', 'Scientific Testing Labs',\n",
       "       'Miscellaneous', 'Corporate Office/Hq',\n",
       "       'Chickens & Other Birds (Meat)', 'Honey Bees (Honey)',\n",
       "       'Live Animal Export', 'Rabbits (Fur, Meat)', 'Zoos',\n",
       "       'Ducks (Meat)', 'Horses',\n",
       "       'Rendering (Processing leftover animal body parts from slaughterhouses)',\n",
       "       'Pullets - Birds (Meat)', 'Pigs (Meat) & Cows (Dairy, Meat)',\n",
       "       'Greyhound Racetracks', 'Quails (Meat)',\n",
       "       'Multiple Types of Animals', 'Koalas',\n",
       "       'Deer (Hunting and/or Butchering)', 'Circuses',\n",
       "       'Pigs & Cows (Meat)', 'Mice - Scientific Testing Labs'],\n",
       "      dtype=object)"
      ]
     },
     "execution_count": 20,
     "metadata": {},
     "output_type": "execute_result"
    }
   ],
   "source": [
    "df[\"Farm Type\"].unique()"
   ]
  },
  {
   "cell_type": "code",
   "execution_count": 21,
   "metadata": {},
   "outputs": [],
   "source": [
    "df_poultry = df[(df[\"Farm Type\"] == \"Chickens (Meat)\") | (df[\"Farm Type\"] == \"Chickens & Other Birds (Meat)\")]"
   ]
  },
  {
   "cell_type": "code",
   "execution_count": 22,
   "metadata": {},
   "outputs": [
    {
     "data": {
      "text/plain": [
       "2735"
      ]
     },
     "execution_count": 22,
     "metadata": {},
     "output_type": "execute_result"
    }
   ],
   "source": [
    "len(df_poultry)"
   ]
  },
  {
   "cell_type": "code",
   "execution_count": 27,
   "metadata": {},
   "outputs": [
    {
     "data": {
      "text/plain": [
       "22"
      ]
     },
     "execution_count": 27,
     "metadata": {},
     "output_type": "execute_result"
    }
   ],
   "source": [
    "len(df_poultry[df_poultry.State == \"AR\"])"
   ]
  },
  {
   "cell_type": "code",
   "execution_count": 40,
   "metadata": {},
   "outputs": [
    {
     "data": {
      "text/plain": [
       "array(['IA', 'AL', 'NE', 'MS', 'TX', 'IN', 'IL', 'NC', 'MD', 'MO', 'PA',\n",
       "       'OH', 'WI', 'ID', 'GA', 'OK', 'WA', 'LA', 'VA', nan, 'SD', 'CA',\n",
       "       'AR', 'SC', 'MI', 'KY', 'DE', 'OR', 'TN', 'MN', 'KS', 'NJ', 'MT',\n",
       "       'NY', 'ME', 'VT', 'ND', 'WV', 'CO'], dtype=object)"
      ]
     },
     "execution_count": 40,
     "metadata": {},
     "output_type": "execute_result"
    }
   ],
   "source": [
    "df_poultry.State.unique()"
   ]
  },
  {
   "cell_type": "code",
   "execution_count": 9,
   "metadata": {},
   "outputs": [],
   "source": [
    "df_states = gpd.read_file(\"../data/all_states.geojson\")"
   ]
  },
  {
   "cell_type": "code",
   "execution_count": 28,
   "metadata": {},
   "outputs": [
    {
     "data": {
      "text/html": [
       "<div>\n",
       "<style scoped>\n",
       "    .dataframe tbody tr th:only-of-type {\n",
       "        vertical-align: middle;\n",
       "    }\n",
       "\n",
       "    .dataframe tbody tr th {\n",
       "        vertical-align: top;\n",
       "    }\n",
       "\n",
       "    .dataframe thead th {\n",
       "        text-align: right;\n",
       "    }\n",
       "</style>\n",
       "<table border=\"1\" class=\"dataframe\">\n",
       "  <thead>\n",
       "    <tr style=\"text-align: right;\">\n",
       "      <th></th>\n",
       "      <th>state</th>\n",
       "      <th>plant_access</th>\n",
       "      <th>area</th>\n",
       "      <th>geometry</th>\n",
       "    </tr>\n",
       "  </thead>\n",
       "  <tbody>\n",
       "    <tr>\n",
       "      <th>4</th>\n",
       "      <td>Arkansas</td>\n",
       "      <td>1</td>\n",
       "      <td>4.062816e+10</td>\n",
       "      <td>MULTIPOLYGON (((-94.00708 33.20157, -94.01254 ...</td>\n",
       "    </tr>\n",
       "    <tr>\n",
       "      <th>5</th>\n",
       "      <td>Arkansas</td>\n",
       "      <td>2</td>\n",
       "      <td>2.535141e+10</td>\n",
       "      <td>MULTIPOLYGON (((-94.40061 34.34164, -94.44440 ...</td>\n",
       "    </tr>\n",
       "    <tr>\n",
       "      <th>6</th>\n",
       "      <td>Arkansas</td>\n",
       "      <td>3</td>\n",
       "      <td>2.082532e+10</td>\n",
       "      <td>MULTIPOLYGON (((-90.74369 35.56358, -90.76770 ...</td>\n",
       "    </tr>\n",
       "    <tr>\n",
       "      <th>7</th>\n",
       "      <td>Arkansas</td>\n",
       "      <td>4</td>\n",
       "      <td>1.228056e+10</td>\n",
       "      <td>MULTIPOLYGON (((-94.33686 35.57354, -94.33547 ...</td>\n",
       "    </tr>\n",
       "  </tbody>\n",
       "</table>\n",
       "</div>"
      ],
      "text/plain": [
       "      state  plant_access          area  \\\n",
       "4  Arkansas             1  4.062816e+10   \n",
       "5  Arkansas             2  2.535141e+10   \n",
       "6  Arkansas             3  2.082532e+10   \n",
       "7  Arkansas             4  1.228056e+10   \n",
       "\n",
       "                                            geometry  \n",
       "4  MULTIPOLYGON (((-94.00708 33.20157, -94.01254 ...  \n",
       "5  MULTIPOLYGON (((-94.40061 34.34164, -94.44440 ...  \n",
       "6  MULTIPOLYGON (((-90.74369 35.56358, -90.76770 ...  \n",
       "7  MULTIPOLYGON (((-94.33686 35.57354, -94.33547 ...  "
      ]
     },
     "execution_count": 28,
     "metadata": {},
     "output_type": "execute_result"
    }
   ],
   "source": [
    "df_states[df_states.state == \"Arkansas\"]"
   ]
  },
  {
   "cell_type": "code",
   "execution_count": 38,
   "metadata": {},
   "outputs": [],
   "source": [
    "abb2state = {\"AL\":\"Alabama\",\"AK\":\"Alaska\",\"AZ\":\"Arizona\",\"AR\":\"Arkansas\",\"CA\":\"California\",\"CO\":\"Colorado\",\"CT\":\"Connecticut\",\"DE\":\"Delaware\",\"FL\":\"Florida\",\"GA\":\"Georgia\",\"HI\":\"Hawaii\",\"ID\":\"Idaho\",\"IL\":\"Illinois\",\"IN\":\"Indiana\",\"IA\":\"Iowa\",\"KS\":\"Kansas\",\"KY\":\"Kentucky\",\"LA\":\"Louisiana\",\"ME\":\"Maine\",\"MD\":\"Maryland\",\"MA\":\"Massachusetts\",\"MI\":\"Michigan\",\"MN\":\"Minnesota\",\"MS\":\"Mississippi\",\"MO\":\"Missouri\",\"MT\":\"Montana\",\"NE\":\"Nebraska\",\"NV\":\"Nevada\",\"NH\":\"New Hampshire\",\"NJ\":\"New Jersey\",\"NM\":\"New Mexico\",\"NY\":\"New York\",\"NC\":\"North Carolina\",\"ND\":\"North Dakota\",\"OH\":\"Ohio\",\"OK\":\"Oklahoma\",\"OR\":\"Oregon\",\"PA\":\"Pennsylvania\",\"RI\":\"Rhode Island\",\"SC\":\"South Carolina\",\"SD\":\"South Dakota\",\"TN\":\"Tennessee\",\"TX\":\"Texas\",\"UT\":\"Utah\",\"VT\":\"Vermont\",\"VA\":\"Virginia\",\"WA\":\"Washington\",\"WV\":\"West Virginia\",\"WI\":\"Wisconsin\",\"WY\":\"Wyoming\"}\n"
   ]
  },
  {
   "cell_type": "code",
   "execution_count": 55,
   "metadata": {},
   "outputs": [],
   "source": [
    "# geojson has full state names and Counterglow data has state abbreviations\n",
    "list_of_farms = []\n",
    "for state in df_poultry.State.unique():\n",
    "    for i, farm in df_poultry[df_poultry.State == state].iterrows():\n",
    "        pt = Point(farm[\"Lat.1\"], farm[\"Lat\"])\n",
    "        for k, area in df_states[df_states.state == abb2state[state]].iterrows():\n",
    "            if area.geometry.contains(pt):\n",
    "                farm_data = {\n",
    "                    \"state\": abb2state[state],\n",
    "                    \"geometry\": pt,\n",
    "                    \"address\": farm.Address,\n",
    "                    \"company\": farm[\"Business/company name\"],\n",
    "                    \"plant_access\": area.plant_access\n",
    "                }\n",
    "                # print(farm_data)\n",
    "                list_of_farms.append(farm_data)"
   ]
  },
  {
   "cell_type": "code",
   "execution_count": 54,
   "metadata": {},
   "outputs": [
    {
     "data": {
      "text/plain": [
       "state                                               West Virginia\n",
       "plant_access                                                    4\n",
       "area                                             726692813.153427\n",
       "geometry        MULTIPOLYGON (((-79.05848296706 38.88617476916...\n",
       "Name: 77, dtype: object"
      ]
     },
     "execution_count": 54,
     "metadata": {},
     "output_type": "execute_result"
    }
   ],
   "source": [
    "area"
   ]
  },
  {
   "cell_type": "code",
   "execution_count": 56,
   "metadata": {},
   "outputs": [],
   "source": [
    "contained_poultry_farms = gpd.GeoDataFrame(list_of_farms)"
   ]
  },
  {
   "cell_type": "code",
   "execution_count": 57,
   "metadata": {},
   "outputs": [
    {
     "data": {
      "text/html": [
       "<div>\n",
       "<style scoped>\n",
       "    .dataframe tbody tr th:only-of-type {\n",
       "        vertical-align: middle;\n",
       "    }\n",
       "\n",
       "    .dataframe tbody tr th {\n",
       "        vertical-align: top;\n",
       "    }\n",
       "\n",
       "    .dataframe thead th {\n",
       "        text-align: right;\n",
       "    }\n",
       "</style>\n",
       "<table border=\"1\" class=\"dataframe\">\n",
       "  <thead>\n",
       "    <tr style=\"text-align: right;\">\n",
       "      <th></th>\n",
       "      <th>state</th>\n",
       "      <th>geometry</th>\n",
       "      <th>address</th>\n",
       "      <th>company</th>\n",
       "      <th>plant_access</th>\n",
       "    </tr>\n",
       "  </thead>\n",
       "  <tbody>\n",
       "    <tr>\n",
       "      <th>0</th>\n",
       "      <td>Iowa</td>\n",
       "      <td>POINT (-92.27755 43.46849)</td>\n",
       "      <td>3306 Oak Avenue Lime Springs 52155, United States</td>\n",
       "      <td>NaN</td>\n",
       "      <td>1</td>\n",
       "    </tr>\n",
       "    <tr>\n",
       "      <th>1</th>\n",
       "      <td>Iowa</td>\n",
       "      <td>POINT (-91.57521 43.03394)</td>\n",
       "      <td>13242 Aspen Avenue Postville 52162, United States</td>\n",
       "      <td>NaN</td>\n",
       "      <td>1</td>\n",
       "    </tr>\n",
       "    <tr>\n",
       "      <th>2</th>\n",
       "      <td>Iowa</td>\n",
       "      <td>POINT (-91.55061 42.98755)</td>\n",
       "      <td>12673 160th Street Postville 52162, United States</td>\n",
       "      <td>NaN</td>\n",
       "      <td>1</td>\n",
       "    </tr>\n",
       "    <tr>\n",
       "      <th>3</th>\n",
       "      <td>Iowa</td>\n",
       "      <td>POINT (-91.81220 43.12277)</td>\n",
       "      <td>1286 210th Avenue Ossian 52161, United States</td>\n",
       "      <td>NaN</td>\n",
       "      <td>1</td>\n",
       "    </tr>\n",
       "    <tr>\n",
       "      <th>4</th>\n",
       "      <td>Iowa</td>\n",
       "      <td>POINT (-91.59761 43.07805)</td>\n",
       "      <td>10130 U.S. 18 Postville 52162, United States</td>\n",
       "      <td>NaN</td>\n",
       "      <td>1</td>\n",
       "    </tr>\n",
       "  </tbody>\n",
       "</table>\n",
       "</div>"
      ],
      "text/plain": [
       "  state                    geometry  \\\n",
       "0  Iowa  POINT (-92.27755 43.46849)   \n",
       "1  Iowa  POINT (-91.57521 43.03394)   \n",
       "2  Iowa  POINT (-91.55061 42.98755)   \n",
       "3  Iowa  POINT (-91.81220 43.12277)   \n",
       "4  Iowa  POINT (-91.59761 43.07805)   \n",
       "\n",
       "                                             address  company  plant_access  \n",
       "0  3306 Oak Avenue Lime Springs 52155, United States      NaN             1  \n",
       "1  13242 Aspen Avenue Postville 52162, United States      NaN             1  \n",
       "2  12673 160th Street Postville 52162, United States      NaN             1  \n",
       "3      1286 210th Avenue Ossian 52161, United States      NaN             1  \n",
       "4       10130 U.S. 18 Postville 52162, United States      NaN             1  "
      ]
     },
     "execution_count": 57,
     "metadata": {},
     "output_type": "execute_result"
    }
   ],
   "source": [
    "contained_poultry_farms.head()"
   ]
  },
  {
   "cell_type": "code",
   "execution_count": 59,
   "metadata": {},
   "outputs": [],
   "source": [
    "contained_poultry_farms.to_file(\"../data/counterglow_geojson.geojson\", driver=\"GeoJSON\")"
   ]
  },
  {
   "cell_type": "code",
   "execution_count": null,
   "metadata": {},
   "outputs": [],
   "source": []
  }
 ],
 "metadata": {
  "kernelspec": {
   "display_name": "base",
   "language": "python",
   "name": "python3"
  },
  "language_info": {
   "codemirror_mode": {
    "name": "ipython",
    "version": 3
   },
   "file_extension": ".py",
   "mimetype": "text/x-python",
   "name": "python",
   "nbconvert_exporter": "python",
   "pygments_lexer": "ipython3",
   "version": "3.10.8"
  },
  "orig_nbformat": 4
 },
 "nbformat": 4,
 "nbformat_minor": 2
}
