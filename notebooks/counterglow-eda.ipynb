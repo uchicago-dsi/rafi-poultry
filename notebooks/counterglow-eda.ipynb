{
 "cells": [
  {
   "cell_type": "code",
   "execution_count": 14,
   "metadata": {},
   "outputs": [],
   "source": [
    "import pandas as pd\n",
    "import geopandas as gpd\n",
    "from shapely import Point"
   ]
  },
  {
   "cell_type": "code",
   "execution_count": 2,
   "metadata": {},
   "outputs": [],
   "source": [
    "df = pd.read_csv(\"../data/Counterglow+Facility+List+Complete.csv\")"
   ]
  },
  {
   "cell_type": "code",
   "execution_count": 3,
   "metadata": {},
   "outputs": [
    {
     "data": {
      "text/html": [
       "<div>\n",
       "<style scoped>\n",
       "    .dataframe tbody tr th:only-of-type {\n",
       "        vertical-align: middle;\n",
       "    }\n",
       "\n",
       "    .dataframe tbody tr th {\n",
       "        vertical-align: top;\n",
       "    }\n",
       "\n",
       "    .dataframe thead th {\n",
       "        text-align: right;\n",
       "    }\n",
       "</style>\n",
       "<table border=\"1\" class=\"dataframe\">\n",
       "  <thead>\n",
       "    <tr style=\"text-align: right;\">\n",
       "      <th></th>\n",
       "      <th>Name</th>\n",
       "      <th>Lat</th>\n",
       "      <th>Lat.1</th>\n",
       "      <th>Address</th>\n",
       "      <th>City</th>\n",
       "      <th>State</th>\n",
       "      <th>County</th>\n",
       "      <th>Description</th>\n",
       "      <th>Business/company name</th>\n",
       "      <th>Postal address</th>\n",
       "      <th>Phone number</th>\n",
       "      <th>Region</th>\n",
       "      <th>Facility name</th>\n",
       "      <th>Number of animals</th>\n",
       "      <th>Full address</th>\n",
       "      <th>Website URL</th>\n",
       "      <th>Postcode</th>\n",
       "      <th>Suburb/city</th>\n",
       "      <th>Contracted to</th>\n",
       "      <th>Farm Type</th>\n",
       "    </tr>\n",
       "  </thead>\n",
       "  <tbody>\n",
       "    <tr>\n",
       "      <th>0</th>\n",
       "      <td>78</td>\n",
       "      <td>43.396729</td>\n",
       "      <td>-95.923149</td>\n",
       "      <td>1757 Lily Avenue George 51237, United States</td>\n",
       "      <td>NaN</td>\n",
       "      <td>IA</td>\n",
       "      <td>Lyon County</td>\n",
       "      <td>NaN</td>\n",
       "      <td>NaN</td>\n",
       "      <td>NaN</td>\n",
       "      <td>NaN</td>\n",
       "      <td>NaN</td>\n",
       "      <td>NaN</td>\n",
       "      <td>NaN</td>\n",
       "      <td>NaN</td>\n",
       "      <td>NaN</td>\n",
       "      <td>NaN</td>\n",
       "      <td>NaN</td>\n",
       "      <td>NaN</td>\n",
       "      <td>Pigs (Meat)</td>\n",
       "    </tr>\n",
       "    <tr>\n",
       "      <th>1</th>\n",
       "      <td>84</td>\n",
       "      <td>42.925350</td>\n",
       "      <td>-96.429291</td>\n",
       "      <td>1804 500th Street Hawarden 51023, United States</td>\n",
       "      <td>NaN</td>\n",
       "      <td>IA</td>\n",
       "      <td>Sioux County</td>\n",
       "      <td>NaN</td>\n",
       "      <td>NaN</td>\n",
       "      <td>NaN</td>\n",
       "      <td>NaN</td>\n",
       "      <td>NaN</td>\n",
       "      <td>NaN</td>\n",
       "      <td>NaN</td>\n",
       "      <td>NaN</td>\n",
       "      <td>NaN</td>\n",
       "      <td>NaN</td>\n",
       "      <td>NaN</td>\n",
       "      <td>NaN</td>\n",
       "      <td>Pigs (Meat)</td>\n",
       "    </tr>\n",
       "    <tr>\n",
       "      <th>2</th>\n",
       "      <td>87</td>\n",
       "      <td>40.658218</td>\n",
       "      <td>-92.410202</td>\n",
       "      <td>21166 Mahogany Avenue Bloomfield 52537, United...</td>\n",
       "      <td>NaN</td>\n",
       "      <td>IA</td>\n",
       "      <td>Davis County</td>\n",
       "      <td>NaN</td>\n",
       "      <td>NaN</td>\n",
       "      <td>NaN</td>\n",
       "      <td>NaN</td>\n",
       "      <td>NaN</td>\n",
       "      <td>NaN</td>\n",
       "      <td>NaN</td>\n",
       "      <td>NaN</td>\n",
       "      <td>NaN</td>\n",
       "      <td>NaN</td>\n",
       "      <td>NaN</td>\n",
       "      <td>NaN</td>\n",
       "      <td>Pigs (Meat)</td>\n",
       "    </tr>\n",
       "    <tr>\n",
       "      <th>3</th>\n",
       "      <td>88</td>\n",
       "      <td>40.643219</td>\n",
       "      <td>-92.409889</td>\n",
       "      <td>27268 Mahogany Avenue Bloomfield 52537, United...</td>\n",
       "      <td>NaN</td>\n",
       "      <td>IA</td>\n",
       "      <td>Davis County</td>\n",
       "      <td>NaN</td>\n",
       "      <td>NaN</td>\n",
       "      <td>NaN</td>\n",
       "      <td>NaN</td>\n",
       "      <td>NaN</td>\n",
       "      <td>NaN</td>\n",
       "      <td>NaN</td>\n",
       "      <td>NaN</td>\n",
       "      <td>NaN</td>\n",
       "      <td>NaN</td>\n",
       "      <td>NaN</td>\n",
       "      <td>NaN</td>\n",
       "      <td>Pigs (Meat)</td>\n",
       "    </tr>\n",
       "    <tr>\n",
       "      <th>4</th>\n",
       "      <td>89</td>\n",
       "      <td>40.660851</td>\n",
       "      <td>-92.421219</td>\n",
       "      <td>21166 280th Street Bloomfield 52537, United St...</td>\n",
       "      <td>NaN</td>\n",
       "      <td>IA</td>\n",
       "      <td>Davis County</td>\n",
       "      <td>NaN</td>\n",
       "      <td>NaN</td>\n",
       "      <td>NaN</td>\n",
       "      <td>NaN</td>\n",
       "      <td>NaN</td>\n",
       "      <td>NaN</td>\n",
       "      <td>NaN</td>\n",
       "      <td>NaN</td>\n",
       "      <td>NaN</td>\n",
       "      <td>NaN</td>\n",
       "      <td>NaN</td>\n",
       "      <td>NaN</td>\n",
       "      <td>Pigs (Meat)</td>\n",
       "    </tr>\n",
       "  </tbody>\n",
       "</table>\n",
       "</div>"
      ],
      "text/plain": [
       "  Name        Lat      Lat.1  \\\n",
       "0   78  43.396729 -95.923149   \n",
       "1   84  42.925350 -96.429291   \n",
       "2   87  40.658218 -92.410202   \n",
       "3   88  40.643219 -92.409889   \n",
       "4   89  40.660851 -92.421219   \n",
       "\n",
       "                                             Address City State        County  \\\n",
       "0       1757 Lily Avenue George 51237, United States  NaN    IA   Lyon County   \n",
       "1    1804 500th Street Hawarden 51023, United States  NaN    IA  Sioux County   \n",
       "2  21166 Mahogany Avenue Bloomfield 52537, United...  NaN    IA  Davis County   \n",
       "3  27268 Mahogany Avenue Bloomfield 52537, United...  NaN    IA  Davis County   \n",
       "4  21166 280th Street Bloomfield 52537, United St...  NaN    IA  Davis County   \n",
       "\n",
       "   Description Business/company name Postal address Phone number Region  \\\n",
       "0          NaN                   NaN            NaN          NaN    NaN   \n",
       "1          NaN                   NaN            NaN          NaN    NaN   \n",
       "2          NaN                   NaN            NaN          NaN    NaN   \n",
       "3          NaN                   NaN            NaN          NaN    NaN   \n",
       "4          NaN                   NaN            NaN          NaN    NaN   \n",
       "\n",
       "  Facility name Number of animals Full address  Website URL  Postcode  \\\n",
       "0           NaN               NaN          NaN          NaN       NaN   \n",
       "1           NaN               NaN          NaN          NaN       NaN   \n",
       "2           NaN               NaN          NaN          NaN       NaN   \n",
       "3           NaN               NaN          NaN          NaN       NaN   \n",
       "4           NaN               NaN          NaN          NaN       NaN   \n",
       "\n",
       "  Suburb/city Contracted to    Farm Type  \n",
       "0         NaN           NaN  Pigs (Meat)  \n",
       "1         NaN           NaN  Pigs (Meat)  \n",
       "2         NaN           NaN  Pigs (Meat)  \n",
       "3         NaN           NaN  Pigs (Meat)  \n",
       "4         NaN           NaN  Pigs (Meat)  "
      ]
     },
     "execution_count": 3,
     "metadata": {},
     "output_type": "execute_result"
    }
   ],
   "source": [
    "df.head()"
   ]
  },
  {
   "cell_type": "code",
   "execution_count": 4,
   "metadata": {},
   "outputs": [
    {
     "data": {
      "text/plain": [
       "29853"
      ]
     },
     "execution_count": 4,
     "metadata": {},
     "output_type": "execute_result"
    }
   ],
   "source": [
    "len(df)"
   ]
  },
  {
   "cell_type": "code",
   "execution_count": 20,
   "metadata": {},
   "outputs": [
    {
     "data": {
      "text/plain": [
       "array(['Pigs (Meat)', 'Cows (Meat)',\n",
       "       'Cows, Bulls, Horses, Other Animals - Rodeos', 'Unknown',\n",
       "       'Cows (Dairy, Meat)', nan,\n",
       "       'Mink/Foxes/Rabbits/Other Mammals (Fur)', 'Slaughterhouses',\n",
       "       'Chickens (Meat)', 'Chickens (Eggs)',\n",
       "       'Fish & Marine Animals (Meat)', 'Goats (Meat)', 'Turkeys (Meat)',\n",
       "       'Live Animal Saleyards', 'Alligators & Crocodiles (Skin, Meat)',\n",
       "       'Sheep (Meat)', 'Horse Racetracks', 'Scientific Testing Labs',\n",
       "       'Miscellaneous', 'Corporate Office/Hq',\n",
       "       'Chickens & Other Birds (Meat)', 'Honey Bees (Honey)',\n",
       "       'Live Animal Export', 'Rabbits (Fur, Meat)', 'Zoos',\n",
       "       'Ducks (Meat)', 'Horses',\n",
       "       'Rendering (Processing leftover animal body parts from slaughterhouses)',\n",
       "       'Pullets - Birds (Meat)', 'Pigs (Meat) & Cows (Dairy, Meat)',\n",
       "       'Greyhound Racetracks', 'Quails (Meat)',\n",
       "       'Multiple Types of Animals', 'Koalas',\n",
       "       'Deer (Hunting and/or Butchering)', 'Circuses',\n",
       "       'Pigs & Cows (Meat)', 'Mice - Scientific Testing Labs'],\n",
       "      dtype=object)"
      ]
     },
     "execution_count": 20,
     "metadata": {},
     "output_type": "execute_result"
    }
   ],
   "source": [
    "df[\"Farm Type\"].unique()"
   ]
  },
  {
   "cell_type": "code",
   "execution_count": 21,
   "metadata": {},
   "outputs": [],
   "source": [
    "df_poultry = df[(df[\"Farm Type\"] == \"Chickens (Meat)\") | (df[\"Farm Type\"] == \"Chickens & Other Birds (Meat)\")]"
   ]
  },
  {
   "cell_type": "code",
   "execution_count": 22,
   "metadata": {},
   "outputs": [
    {
     "data": {
      "text/plain": [
       "2735"
      ]
     },
     "execution_count": 22,
     "metadata": {},
     "output_type": "execute_result"
    }
   ],
   "source": [
    "len(df_poultry)"
   ]
  },
  {
   "cell_type": "code",
   "execution_count": 27,
   "metadata": {},
   "outputs": [
    {
     "data": {
      "text/plain": [
       "22"
      ]
     },
     "execution_count": 27,
     "metadata": {},
     "output_type": "execute_result"
    }
   ],
   "source": [
    "len(df_poultry[df_poultry.State == \"AR\"])"
   ]
  },
  {
   "cell_type": "code",
   "execution_count": 40,
   "metadata": {},
   "outputs": [
    {
     "data": {
      "text/plain": [
       "array(['IA', 'AL', 'NE', 'MS', 'TX', 'IN', 'IL', 'NC', 'MD', 'MO', 'PA',\n",
       "       'OH', 'WI', 'ID', 'GA', 'OK', 'WA', 'LA', 'VA', nan, 'SD', 'CA',\n",
       "       'AR', 'SC', 'MI', 'KY', 'DE', 'OR', 'TN', 'MN', 'KS', 'NJ', 'MT',\n",
       "       'NY', 'ME', 'VT', 'ND', 'WV', 'CO'], dtype=object)"
      ]
     },
     "execution_count": 40,
     "metadata": {},
     "output_type": "execute_result"
    }
   ],
   "source": [
    "df_poultry.State.unique()"
   ]
  },
  {
   "cell_type": "code",
   "execution_count": 9,
   "metadata": {},
   "outputs": [],
   "source": [
    "df_states = gpd.read_file(\"../data/all_states.geojson\")"
   ]
  },
  {
   "cell_type": "code",
   "execution_count": 28,
   "metadata": {},
   "outputs": [
    {
     "data": {
      "text/html": [
       "<div>\n",
       "<style scoped>\n",
       "    .dataframe tbody tr th:only-of-type {\n",
       "        vertical-align: middle;\n",
       "    }\n",
       "\n",
       "    .dataframe tbody tr th {\n",
       "        vertical-align: top;\n",
       "    }\n",
       "\n",
       "    .dataframe thead th {\n",
       "        text-align: right;\n",
       "    }\n",
       "</style>\n",
       "<table border=\"1\" class=\"dataframe\">\n",
       "  <thead>\n",
       "    <tr style=\"text-align: right;\">\n",
       "      <th></th>\n",
       "      <th>state</th>\n",
       "      <th>plant_access</th>\n",
       "      <th>area</th>\n",
       "      <th>geometry</th>\n",
       "    </tr>\n",
       "  </thead>\n",
       "  <tbody>\n",
       "    <tr>\n",
       "      <th>4</th>\n",
       "      <td>Arkansas</td>\n",
       "      <td>1</td>\n",
       "      <td>4.062816e+10</td>\n",
       "      <td>MULTIPOLYGON (((-94.00708 33.20157, -94.01254 ...</td>\n",
       "    </tr>\n",
       "    <tr>\n",
       "      <th>5</th>\n",
       "      <td>Arkansas</td>\n",
       "      <td>2</td>\n",
       "      <td>2.535141e+10</td>\n",
       "      <td>MULTIPOLYGON (((-94.40061 34.34164, -94.44440 ...</td>\n",
       "    </tr>\n",
       "    <tr>\n",
       "      <th>6</th>\n",
       "      <td>Arkansas</td>\n",
       "      <td>3</td>\n",
       "      <td>2.082532e+10</td>\n",
       "      <td>MULTIPOLYGON (((-90.74369 35.56358, -90.76770 ...</td>\n",
       "    </tr>\n",
       "    <tr>\n",
       "      <th>7</th>\n",
       "      <td>Arkansas</td>\n",
       "      <td>4</td>\n",
       "      <td>1.228056e+10</td>\n",
       "      <td>MULTIPOLYGON (((-94.33686 35.57354, -94.33547 ...</td>\n",
       "    </tr>\n",
       "  </tbody>\n",
       "</table>\n",
       "</div>"
      ],
      "text/plain": [
       "      state  plant_access          area  \\\n",
       "4  Arkansas             1  4.062816e+10   \n",
       "5  Arkansas             2  2.535141e+10   \n",
       "6  Arkansas             3  2.082532e+10   \n",
       "7  Arkansas             4  1.228056e+10   \n",
       "\n",
       "                                            geometry  \n",
       "4  MULTIPOLYGON (((-94.00708 33.20157, -94.01254 ...  \n",
       "5  MULTIPOLYGON (((-94.40061 34.34164, -94.44440 ...  \n",
       "6  MULTIPOLYGON (((-90.74369 35.56358, -90.76770 ...  \n",
       "7  MULTIPOLYGON (((-94.33686 35.57354, -94.33547 ...  "
      ]
     },
     "execution_count": 28,
     "metadata": {},
     "output_type": "execute_result"
    }
   ],
   "source": [
    "df_states[df_states.state == \"Arkansas\"]"
   ]
  },
  {
   "cell_type": "code",
   "execution_count": 38,
   "metadata": {},
   "outputs": [],
   "source": [
    "abb2state = {\"AL\":\"Alabama\",\"AK\":\"Alaska\",\"AZ\":\"Arizona\",\"AR\":\"Arkansas\",\"CA\":\"California\",\"CO\":\"Colorado\",\"CT\":\"Connecticut\",\"DE\":\"Delaware\",\"FL\":\"Florida\",\"GA\":\"Georgia\",\"HI\":\"Hawaii\",\"ID\":\"Idaho\",\"IL\":\"Illinois\",\"IN\":\"Indiana\",\"IA\":\"Iowa\",\"KS\":\"Kansas\",\"KY\":\"Kentucky\",\"LA\":\"Louisiana\",\"ME\":\"Maine\",\"MD\":\"Maryland\",\"MA\":\"Massachusetts\",\"MI\":\"Michigan\",\"MN\":\"Minnesota\",\"MS\":\"Mississippi\",\"MO\":\"Missouri\",\"MT\":\"Montana\",\"NE\":\"Nebraska\",\"NV\":\"Nevada\",\"NH\":\"New Hampshire\",\"NJ\":\"New Jersey\",\"NM\":\"New Mexico\",\"NY\":\"New York\",\"NC\":\"North Carolina\",\"ND\":\"North Dakota\",\"OH\":\"Ohio\",\"OK\":\"Oklahoma\",\"OR\":\"Oregon\",\"PA\":\"Pennsylvania\",\"RI\":\"Rhode Island\",\"SC\":\"South Carolina\",\"SD\":\"South Dakota\",\"TN\":\"Tennessee\",\"TX\":\"Texas\",\"UT\":\"Utah\",\"VT\":\"Vermont\",\"VA\":\"Virginia\",\"WA\":\"Washington\",\"WV\":\"West Virginia\",\"WI\":\"Wisconsin\",\"WY\":\"Wyoming\"}\n"
   ]
  },
  {
   "cell_type": "code",
   "execution_count": 45,
   "metadata": {},
   "outputs": [
    {
     "name": "stdout",
     "output_type": "stream",
     "text": [
      "{'state': 'Alabama', 'geometry': <POINT (-85.341 33.279)>, 'address': 'Roanoke 36274, United States', 'company': nan}\n",
      "{'state': 'Mississippi', 'geometry': <POINT (-90.789 31.699)>, 'address': 'Unnamed Road Union Church 39668, United States', 'company': nan}\n",
      "{'state': 'Maryland', 'geometry': <POINT (-75.641 38.003)>, 'address': '4461 Shelltown Road Marion Station 21838, United States', 'company': nan}\n",
      "{'state': 'Missouri', 'geometry': <POINT (-94.102 36.777)>, 'address': '20183 Wolf Drive Fairview 64842, United States', 'company': nan}\n",
      "{'state': 'Pennsylvania', 'geometry': <POINT (-77.175 40.683)>, 'address': '307 End Road Richfield 17086, United States', 'company': nan}\n",
      "{'state': 'Georgia', 'geometry': <POINT (-85.344 33.688)>, 'address': 'Tallapoosa 30176, United States', 'company': nan}\n",
      "{'state': 'Oklahoma', 'geometry': <POINT (-94.751 36.894)>, 'address': '8500 South 630 Road Miami 74354, United States', 'company': nan}\n",
      "{'state': 'Louisiana', 'geometry': <POINT (-92.48 32.947)>, 'address': nan, 'company': nan}\n",
      "{'state': 'Virginia', 'geometry': <POINT (-79.073 38.39)>, 'address': '26 Millers Road Bridgewater 22812, United States', 'company': nan}\n",
      "{'state': 'California', 'geometry': <POINT (-120.865 37.713)>, 'address': '5012 Bentley Road Oakdale 95361, United States', 'company': nan}\n",
      "{'state': 'Arkansas', 'geometry': <POINT (-94.475 36.204)>, 'address': '15190 Russell Road Siloam Springs 72761, United States', 'company': nan}\n",
      "{'state': 'South Carolina', 'geometry': <POINT (-79.968 34.226)>, 'address': '1664 Syracuse Community Road Darlington 29532, United States', 'company': nan}\n",
      "{'state': 'Delaware', 'geometry': <POINT (-75.311 38.862)>, 'address': '24625 Sugar Hill Road Milford 19963, United States', 'company': nan}\n",
      "{'state': 'Tennessee', 'geometry': <POINT (-88.268 36.393)>, 'address': '1645 Jim Merrill Road Paris 38242, United States', 'company': nan}\n",
      "{'state': 'West Virginia', 'geometry': <POINT (-79.022 39.052)>, 'address': '174 Frosty Hollow Road Fisher 26818, United States', 'company': nan}\n"
     ]
    }
   ],
   "source": [
    "# geojson has full state names and Counterglow data has state abbreviations\n",
    "list_of_farms = []\n",
    "for state in df_poultry.State.unique():\n",
    "    for i, farm in df_poultry[df_poultry.State == state].iterrows():\n",
    "        pt = Point(farm[\"Lat.1\"], farm[\"Lat\"])\n",
    "        for k, area in df_states[df_states.state == abb2state[state]].iterrows():\n",
    "            if area.geometry.contains(pt):\n",
    "                farm_data = {\n",
    "                    \"state\": abb2state[state],\n",
    "                    \"geometry\": pt,\n",
    "                    \"address\": farm.Address,\n",
    "                    \"company\": farm[\"Business/company name\"]\n",
    "                }\n",
    "                print(farm_data)\n",
    "                list_of_farms.append(farm_data)"
   ]
  },
  {
   "cell_type": "code",
   "execution_count": 46,
   "metadata": {},
   "outputs": [],
   "source": [
    "contained_poultry_farms = gpd.GeoDataFrame(list_of_farms)"
   ]
  },
  {
   "cell_type": "code",
   "execution_count": 47,
   "metadata": {},
   "outputs": [
    {
     "data": {
      "text/html": [
       "<div>\n",
       "<style scoped>\n",
       "    .dataframe tbody tr th:only-of-type {\n",
       "        vertical-align: middle;\n",
       "    }\n",
       "\n",
       "    .dataframe tbody tr th {\n",
       "        vertical-align: top;\n",
       "    }\n",
       "\n",
       "    .dataframe thead th {\n",
       "        text-align: right;\n",
       "    }\n",
       "</style>\n",
       "<table border=\"1\" class=\"dataframe\">\n",
       "  <thead>\n",
       "    <tr style=\"text-align: right;\">\n",
       "      <th></th>\n",
       "      <th>state</th>\n",
       "      <th>geometry</th>\n",
       "      <th>address</th>\n",
       "      <th>company</th>\n",
       "    </tr>\n",
       "  </thead>\n",
       "  <tbody>\n",
       "    <tr>\n",
       "      <th>0</th>\n",
       "      <td>Alabama</td>\n",
       "      <td>POINT (-85.34119 33.27888)</td>\n",
       "      <td>Roanoke 36274, United States</td>\n",
       "      <td>NaN</td>\n",
       "    </tr>\n",
       "    <tr>\n",
       "      <th>1</th>\n",
       "      <td>Mississippi</td>\n",
       "      <td>POINT (-90.78935 31.69891)</td>\n",
       "      <td>Unnamed Road Union Church 39668, United States</td>\n",
       "      <td>NaN</td>\n",
       "    </tr>\n",
       "    <tr>\n",
       "      <th>2</th>\n",
       "      <td>Maryland</td>\n",
       "      <td>POINT (-75.64085 38.00333)</td>\n",
       "      <td>4461 Shelltown Road Marion Station 21838, Unit...</td>\n",
       "      <td>NaN</td>\n",
       "    </tr>\n",
       "    <tr>\n",
       "      <th>3</th>\n",
       "      <td>Missouri</td>\n",
       "      <td>POINT (-94.10210 36.77681)</td>\n",
       "      <td>20183 Wolf Drive Fairview 64842, United States</td>\n",
       "      <td>NaN</td>\n",
       "    </tr>\n",
       "    <tr>\n",
       "      <th>4</th>\n",
       "      <td>Pennsylvania</td>\n",
       "      <td>POINT (-77.17497 40.68262)</td>\n",
       "      <td>307 End Road Richfield 17086, United States</td>\n",
       "      <td>NaN</td>\n",
       "    </tr>\n",
       "    <tr>\n",
       "      <th>5</th>\n",
       "      <td>Georgia</td>\n",
       "      <td>POINT (-85.34396 33.68792)</td>\n",
       "      <td>Tallapoosa 30176, United States</td>\n",
       "      <td>NaN</td>\n",
       "    </tr>\n",
       "    <tr>\n",
       "      <th>6</th>\n",
       "      <td>Oklahoma</td>\n",
       "      <td>POINT (-94.75120 36.89411)</td>\n",
       "      <td>8500 South 630 Road Miami 74354, United States</td>\n",
       "      <td>NaN</td>\n",
       "    </tr>\n",
       "    <tr>\n",
       "      <th>7</th>\n",
       "      <td>Louisiana</td>\n",
       "      <td>POINT (-92.48014 32.94734)</td>\n",
       "      <td>NaN</td>\n",
       "      <td>NaN</td>\n",
       "    </tr>\n",
       "    <tr>\n",
       "      <th>8</th>\n",
       "      <td>Virginia</td>\n",
       "      <td>POINT (-79.07302 38.38982)</td>\n",
       "      <td>26 Millers Road Bridgewater 22812, United States</td>\n",
       "      <td>NaN</td>\n",
       "    </tr>\n",
       "    <tr>\n",
       "      <th>9</th>\n",
       "      <td>California</td>\n",
       "      <td>POINT (-120.86532 37.71307)</td>\n",
       "      <td>5012 Bentley Road Oakdale 95361, United States</td>\n",
       "      <td>NaN</td>\n",
       "    </tr>\n",
       "    <tr>\n",
       "      <th>10</th>\n",
       "      <td>Arkansas</td>\n",
       "      <td>POINT (-94.47548 36.20371)</td>\n",
       "      <td>15190 Russell Road Siloam Springs 72761, Unite...</td>\n",
       "      <td>NaN</td>\n",
       "    </tr>\n",
       "    <tr>\n",
       "      <th>11</th>\n",
       "      <td>South Carolina</td>\n",
       "      <td>POINT (-79.96842 34.22551)</td>\n",
       "      <td>1664 Syracuse Community Road Darlington 29532,...</td>\n",
       "      <td>NaN</td>\n",
       "    </tr>\n",
       "    <tr>\n",
       "      <th>12</th>\n",
       "      <td>Delaware</td>\n",
       "      <td>POINT (-75.31084 38.86223)</td>\n",
       "      <td>24625 Sugar Hill Road Milford 19963, United St...</td>\n",
       "      <td>NaN</td>\n",
       "    </tr>\n",
       "    <tr>\n",
       "      <th>13</th>\n",
       "      <td>Tennessee</td>\n",
       "      <td>POINT (-88.26798 36.39291)</td>\n",
       "      <td>1645 Jim Merrill Road Paris 38242, United States</td>\n",
       "      <td>NaN</td>\n",
       "    </tr>\n",
       "    <tr>\n",
       "      <th>14</th>\n",
       "      <td>West Virginia</td>\n",
       "      <td>POINT (-79.02200 39.05239)</td>\n",
       "      <td>174 Frosty Hollow Road Fisher 26818, United St...</td>\n",
       "      <td>NaN</td>\n",
       "    </tr>\n",
       "  </tbody>\n",
       "</table>\n",
       "</div>"
      ],
      "text/plain": [
       "             state                     geometry  \\\n",
       "0          Alabama   POINT (-85.34119 33.27888)   \n",
       "1      Mississippi   POINT (-90.78935 31.69891)   \n",
       "2         Maryland   POINT (-75.64085 38.00333)   \n",
       "3         Missouri   POINT (-94.10210 36.77681)   \n",
       "4     Pennsylvania   POINT (-77.17497 40.68262)   \n",
       "5          Georgia   POINT (-85.34396 33.68792)   \n",
       "6         Oklahoma   POINT (-94.75120 36.89411)   \n",
       "7        Louisiana   POINT (-92.48014 32.94734)   \n",
       "8         Virginia   POINT (-79.07302 38.38982)   \n",
       "9       California  POINT (-120.86532 37.71307)   \n",
       "10        Arkansas   POINT (-94.47548 36.20371)   \n",
       "11  South Carolina   POINT (-79.96842 34.22551)   \n",
       "12        Delaware   POINT (-75.31084 38.86223)   \n",
       "13       Tennessee   POINT (-88.26798 36.39291)   \n",
       "14   West Virginia   POINT (-79.02200 39.05239)   \n",
       "\n",
       "                                              address  company  \n",
       "0                        Roanoke 36274, United States      NaN  \n",
       "1      Unnamed Road Union Church 39668, United States      NaN  \n",
       "2   4461 Shelltown Road Marion Station 21838, Unit...      NaN  \n",
       "3      20183 Wolf Drive Fairview 64842, United States      NaN  \n",
       "4         307 End Road Richfield 17086, United States      NaN  \n",
       "5                     Tallapoosa 30176, United States      NaN  \n",
       "6      8500 South 630 Road Miami 74354, United States      NaN  \n",
       "7                                                 NaN      NaN  \n",
       "8    26 Millers Road Bridgewater 22812, United States      NaN  \n",
       "9      5012 Bentley Road Oakdale 95361, United States      NaN  \n",
       "10  15190 Russell Road Siloam Springs 72761, Unite...      NaN  \n",
       "11  1664 Syracuse Community Road Darlington 29532,...      NaN  \n",
       "12  24625 Sugar Hill Road Milford 19963, United St...      NaN  \n",
       "13   1645 Jim Merrill Road Paris 38242, United States      NaN  \n",
       "14  174 Frosty Hollow Road Fisher 26818, United St...      NaN  "
      ]
     },
     "execution_count": 47,
     "metadata": {},
     "output_type": "execute_result"
    }
   ],
   "source": [
    "contained_poultry_farms"
   ]
  },
  {
   "cell_type": "code",
   "execution_count": null,
   "metadata": {},
   "outputs": [],
   "source": []
  }
 ],
 "metadata": {
  "kernelspec": {
   "display_name": "base",
   "language": "python",
   "name": "python3"
  },
  "language_info": {
   "codemirror_mode": {
    "name": "ipython",
    "version": 3
   },
   "file_extension": ".py",
   "mimetype": "text/x-python",
   "name": "python",
   "nbconvert_exporter": "python",
   "pygments_lexer": "ipython3",
   "version": "3.10.8"
  },
  "orig_nbformat": 4
 },
 "nbformat": 4,
 "nbformat_minor": 2
}
