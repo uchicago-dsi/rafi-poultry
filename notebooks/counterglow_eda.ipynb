{
 "cells": [
  {
   "cell_type": "code",
   "execution_count": 2,
   "metadata": {},
   "outputs": [
    {
     "data": {
      "text/html": [
       "<details>\n",
       "<summary>Click to view session information</summary>\n",
       "<pre>\n",
       "-----\n",
       "dask                2022.7.0\n",
       "geopandas           0.13.2\n",
       "pandas              1.5.2\n",
       "session_info        1.0.0\n",
       "shapely             2.0.1\n",
       "-----\n",
       "</pre>\n",
       "<details>\n",
       "<summary>Click to view modules imported as dependencies</summary>\n",
       "<pre>\n",
       "appnope                     0.1.2\n",
       "asttokens                   NA\n",
       "backcall                    0.2.0\n",
       "bottleneck                  1.3.5\n",
       "certifi                     2022.12.07\n",
       "cloudpickle                 2.0.0\n",
       "colorama                    0.4.6\n",
       "comm                        0.1.2\n",
       "cython_runtime              NA\n",
       "cytoolz                     0.12.0\n",
       "dateutil                    2.8.2\n",
       "debugpy                     1.5.1\n",
       "decorator                   5.1.1\n",
       "executing                   0.8.3\n",
       "fsspec                      2022.11.0\n",
       "importlib_metadata          NA\n",
       "ipykernel                   6.19.2\n",
       "ipython_genutils            0.2.0\n",
       "ipywidgets                  7.6.5\n",
       "jedi                        0.18.1\n",
       "jinja2                      3.1.2\n",
       "jupyter_server              1.23.4\n",
       "lz4                         3.1.3\n",
       "markupsafe                  2.1.1\n",
       "mkl                         2.4.0\n",
       "mpl_toolkits                NA\n",
       "numexpr                     2.8.4\n",
       "numpy                       1.21.5\n",
       "packaging                   22.0\n",
       "parso                       0.8.3\n",
       "pexpect                     4.8.0\n",
       "pickleshare                 0.7.5\n",
       "pkg_resources               NA\n",
       "platformdirs                2.5.2\n",
       "prompt_toolkit              3.0.36\n",
       "psutil                      5.9.0\n",
       "ptyprocess                  0.7.0\n",
       "pure_eval                   0.2.2\n",
       "pyarrow                     11.0.0\n",
       "pydev_ipython               NA\n",
       "pydevconsole                NA\n",
       "pydevd                      2.6.0\n",
       "pydevd_concurrency_analyser NA\n",
       "pydevd_file_utils           NA\n",
       "pydevd_plugins              NA\n",
       "pydevd_tracing              NA\n",
       "pygments                    2.11.2\n",
       "pyproj                      3.6.0\n",
       "pytz                        2022.7\n",
       "rtree                       1.0.1\n",
       "ruamel                      NA\n",
       "scipy                       1.10.1\n",
       "setuptools                  65.6.3\n",
       "six                         1.16.0\n",
       "snappy                      NA\n",
       "sphinxcontrib               NA\n",
       "stack_data                  0.2.0\n",
       "tblib                       1.7.0\n",
       "tlz                         0.12.0\n",
       "toolz                       0.12.0\n",
       "tornado                     6.1\n",
       "traitlets                   5.7.1\n",
       "typing_extensions           NA\n",
       "wcwidth                     0.2.5\n",
       "yaml                        6.0\n",
       "zipp                        NA\n",
       "zmq                         23.2.0\n",
       "zoneinfo                    NA\n",
       "zope                        NA\n",
       "zstandard                   0.18.0\n",
       "</pre>\n",
       "</details> <!-- seems like this ends pre, so might as well be explicit -->\n",
       "<pre>\n",
       "-----\n",
       "IPython             8.9.0\n",
       "jupyter_client      6.1.12\n",
       "jupyter_core        5.1.1\n",
       "jupyterlab          3.5.3\n",
       "notebook            6.5.2\n",
       "-----\n",
       "Python 3.9.16 (main, Jan 11 2023, 10:02:19) [Clang 14.0.6 ]\n",
       "macOS-10.16-x86_64-i386-64bit\n",
       "-----\n",
       "Session information updated at 2023-07-20 10:28\n",
       "</pre>\n",
       "</details>"
      ],
      "text/plain": [
       "<IPython.core.display.HTML object>"
      ]
     },
     "execution_count": 2,
     "metadata": {},
     "output_type": "execute_result"
    }
   ],
   "source": [
    "import pandas as pd\n",
    "import geopandas as gpd\n",
    "from shapely import Point\n",
    "from math import radians, cos, sin, asin, sqrt\n",
    "import dask.dataframe as dd\n",
    "from pathlib import Path\n",
    "import sys, os\n",
    "sys.path.append(os.path.join(os.path.abspath(\"\"), '..', 'pipeline'))"
   ]
  },
  {
   "cell_type": "code",
   "execution_count": 2,
   "metadata": {},
   "outputs": [],
   "source": [
    "import distances\n",
    "import counterglow_matches as cg"
   ]
  },
  {
   "cell_type": "code",
   "execution_count": 3,
   "metadata": {},
   "outputs": [],
   "source": [
    "# Enter the SIC Code of interest here\n",
    "SIC_CODE = '0291'\n",
    "\n",
    "# radius that is used as a limit of distance between two sets of coordinates\n",
    "RADIUS_KM = 0.3048"
   ]
  },
  {
   "cell_type": "code",
   "execution_count": 4,
   "metadata": {},
   "outputs": [],
   "source": [
    "# establishing the file path in such a way to work universally\n",
    "here = Path().resolve()"
   ]
  },
  {
   "cell_type": "code",
   "execution_count": 5,
   "metadata": {},
   "outputs": [],
   "source": [
    "# load counterglow dataset\n",
    "# df_counterglow = pd.read_csv(\"../data/Counterglow+Facility+List+Complete.csv\")\n",
    "\n",
    "df_counterglow = pd.read_csv(here.parent / \"data/Counterglow+Facility+List+Complete.csv\")"
   ]
  },
  {
   "cell_type": "code",
   "execution_count": 6,
   "metadata": {},
   "outputs": [],
   "source": [
    "# filter counterglow dataset to have poultry/chicken only\n",
    "\n",
    "# Chickens & Other Birds (Meat)\n",
    "# Chickens (Meat)\n",
    "\n",
    "df_counterglow_poultry = df_counterglow[(df_counterglow['Farm Type'] == 'Chickens & Other Birds (Meat)') |\n",
    "                                        (df_counterglow['Farm Type'] == 'Chickens (Meat)')]"
   ]
  },
  {
   "cell_type": "code",
   "execution_count": 7,
   "metadata": {},
   "outputs": [],
   "source": [
    "# list of states we want to observe\n",
    "states = ['IA', 'OK', 'MO', 'OK', 'AL', 'LA', 'MS', 'IL', 'IN', 'OH', 'KY', 'TN', 'AR', 'NC', 'SC', 'GA']\n",
    "\n",
    "# all the dataframes \n",
    "all_df_list = []"
   ]
  },
  {
   "attachments": {},
   "cell_type": "markdown",
   "metadata": {},
   "source": [
    "## SIC Code 0291 Exploration: General Farms, Primarily Livestock and Animal Specialties."
   ]
  },
  {
   "cell_type": "code",
   "execution_count": 10,
   "metadata": {},
   "outputs": [
    {
     "name": "stdout",
     "output_type": "stream",
     "text": [
      "NC: Total number of matches: 1\n"
     ]
    }
   ],
   "source": [
    "# To see how many matches exist within the dataframe consisting of SIC Codes containing SIC_CODE of interest\n",
    "\n",
    "path = \"data/code_\" + SIC_CODE + \".csv\"\n",
    "df_sic = pd.read_csv(here.parent / path)\n",
    "  \n",
    "infogroup_sic_dict, counterglow_dict = cg.infogroup_counterglow_dict(df_sic, df_counterglow_poultry, states, RADIUS_KM)\n"
   ]
  },
  {
   "cell_type": "code",
   "execution_count": 71,
   "metadata": {},
   "outputs": [],
   "source": [
    "# loop through the infogroup dictionary, each key value matches to a dictionary\n",
    "# grab the dictionary and append it to all_df_list\n",
    "\n",
    "all_df_list = list_of_dataframes(infogroup_sic_dict, all_df_list)"
   ]
  },
  {
   "cell_type": "code",
   "execution_count": 72,
   "metadata": {},
   "outputs": [
    {
     "data": {
      "text/plain": [
       "1"
      ]
     },
     "execution_count": 72,
     "metadata": {},
     "output_type": "execute_result"
    }
   ],
   "source": [
    "len(all_df_list)"
   ]
  },
  {
   "cell_type": "code",
   "execution_count": 12,
   "metadata": {},
   "outputs": [
    {
     "data": {
      "text/plain": [
       "dict_keys(['NC'])"
      ]
     },
     "execution_count": 12,
     "metadata": {},
     "output_type": "execute_result"
    }
   ],
   "source": [
    "# View the keys of the dictionary. Int his case, they are the states\n",
    "infogroup_sic_dict.keys()"
   ]
  },
  {
   "cell_type": "code",
   "execution_count": null,
   "metadata": {},
   "outputs": [],
   "source": [
    "# To analyze a specific state, input one of the two letter states in the keys in the above\n",
    "# cell into the line below. Uncomment and run\n",
    "\n",
    "# infogroup_sic_dict['TWO LETTER STATE HERE']"
   ]
  },
  {
   "attachments": {},
   "cell_type": "markdown",
   "metadata": {},
   "source": [
    "## To CSV"
   ]
  },
  {
   "cell_type": "code",
   "execution_count": 98,
   "metadata": {},
   "outputs": [],
   "source": [
    "### concat all DataFrames & convert to csv\n",
    "\n",
    "infogroup_concat = pd.concat(all_df_list)\n",
    "\n",
    "FILEPATH = \"../data/infogroup_matches.csv\"\n",
    "infogroup_concat.to_csv(FILEPATH) # save as CSV file"
   ]
  }
 ],
 "metadata": {
  "kernelspec": {
   "display_name": "Python 3",
   "language": "python",
   "name": "python3"
  },
  "language_info": {
   "codemirror_mode": {
    "name": "ipython",
    "version": 3
   },
   "file_extension": ".py",
   "mimetype": "text/x-python",
   "name": "python",
   "nbconvert_exporter": "python",
   "pygments_lexer": "ipython3",
   "version": "3.9.16"
  },
  "orig_nbformat": 4
 },
 "nbformat": 4,
 "nbformat_minor": 2
}
