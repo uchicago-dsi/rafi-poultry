{
 "cells": [
  {
   "cell_type": "code",
   "execution_count": 1,
   "metadata": {},
   "outputs": [],
   "source": [
    "import pandas as pd\n",
    "import geopandas as gpd\n",
    "from shapely import Point\n",
    "from math import radians, cos, sin, asin, sqrt\n",
    "import dask.dataframe as dd\n",
    "from pathlib import Path\n",
    "import sys, os\n",
    "sys.path.append(os.path.join(os.path.abspath(\"\"), '..', 'pipeline'))"
   ]
  },
  {
   "cell_type": "code",
   "execution_count": 2,
   "metadata": {},
   "outputs": [],
   "source": [
    "import distances\n",
    "import counterglow_matches as cg"
   ]
  },
  {
   "cell_type": "code",
   "execution_count": 3,
   "metadata": {},
   "outputs": [],
   "source": [
    "# Enter the SIC Code of interest here\n",
    "SIC_CODE = '0291'\n",
    "\n",
    "# radius that is used as a limit of distance between two sets of coordinates\n",
    "RADIUS_KM = 0.3048"
   ]
  },
  {
   "cell_type": "code",
   "execution_count": 4,
   "metadata": {},
   "outputs": [],
   "source": [
    "# establishing the file path in such a way to work universally\n",
    "here = Path().resolve()"
   ]
  },
  {
   "cell_type": "code",
   "execution_count": 5,
   "metadata": {},
   "outputs": [],
   "source": [
    "# load counterglow dataset\n",
    "# df_counterglow = pd.read_csv(\"../data/Counterglow+Facility+List+Complete.csv\")\n",
    "\n",
    "df_counterglow = pd.read_csv(here.parent / \"data/Counterglow+Facility+List+Complete.csv\")"
   ]
  },
  {
   "cell_type": "code",
   "execution_count": 6,
   "metadata": {},
   "outputs": [],
   "source": [
    "# filter counterglow dataset to have poultry/chicken only\n",
    "\n",
    "# Chickens & Other Birds (Meat)\n",
    "# Chickens (Meat)\n",
    "\n",
    "df_counterglow_poultry = df_counterglow[(df_counterglow['Farm Type'] == 'Chickens & Other Birds (Meat)') |\n",
    "                                        (df_counterglow['Farm Type'] == 'Chickens (Meat)')]"
   ]
  },
  {
   "cell_type": "code",
   "execution_count": 7,
   "metadata": {},
   "outputs": [],
   "source": [
    "# list of states we want to observe\n",
    "states = ['IA', 'OK', 'MO', 'OK', 'AL', 'LA', 'MS', 'IL', 'IN', 'OH', 'KY', 'TN', 'AR', 'NC', 'SC', 'GA']\n",
    "\n",
    "# all the dataframes \n",
    "all_df_list = []"
   ]
  },
  {
   "attachments": {},
   "cell_type": "markdown",
   "metadata": {},
   "source": [
    "## SIC Code 0291 Exploration: General Farms, Primarily Livestock and Animal Specialties."
   ]
  },
  {
   "cell_type": "code",
   "execution_count": 10,
   "metadata": {},
   "outputs": [
    {
     "name": "stdout",
     "output_type": "stream",
     "text": [
      "NC: Total number of matches: 1\n"
     ]
    }
   ],
   "source": [
    "# To see how many matches exist within the dataframe consisting of SIC Codes containing SIC_CODE of interest\n",
    "\n",
    "path = \"data/code_\" + SIC_CODE + \".csv\"\n",
    "df_sic = pd.read_csv(here.parent / path)\n",
    "  \n",
    "infogroup_sic_dict, counterglow_dict = cg.infogroup_counterglow_dict(df_sic, df_counterglow_poultry, states, RADIUS_KM)\n"
   ]
  },
  {
   "cell_type": "code",
   "execution_count": 71,
   "metadata": {},
   "outputs": [],
   "source": [
    "# loop through the infogroup dictionary, each key value matches to a dictionary\n",
    "# grab the dictionary and append it to all_df_list\n",
    "\n",
    "all_df_list = list_of_dataframes(infogroup_sic_dict, all_df_list)"
   ]
  },
  {
   "cell_type": "code",
   "execution_count": 72,
   "metadata": {},
   "outputs": [
    {
     "data": {
      "text/plain": [
       "1"
      ]
     },
     "execution_count": 72,
     "metadata": {},
     "output_type": "execute_result"
    }
   ],
   "source": [
    "len(all_df_list)"
   ]
  },
  {
   "cell_type": "code",
   "execution_count": 12,
   "metadata": {},
   "outputs": [
    {
     "data": {
      "text/plain": [
       "dict_keys(['NC'])"
      ]
     },
     "execution_count": 12,
     "metadata": {},
     "output_type": "execute_result"
    }
   ],
   "source": [
    "# View the keys of the dictionary. Int his case, they are the states\n",
    "infogroup_sic_dict.keys()"
   ]
  },
  {
   "cell_type": "code",
   "execution_count": null,
   "metadata": {},
   "outputs": [],
   "source": [
    "# To analyze a specific state, input one of the two letter states in the keys in the above\n",
    "# cell into the line below. Uncomment and run\n",
    "\n",
    "# infogroup_sic_dict['TWO LETTER STATE HERE']"
   ]
  },
  {
   "attachments": {},
   "cell_type": "markdown",
   "metadata": {},
   "source": [
    "## To CSV"
   ]
  },
  {
   "cell_type": "code",
   "execution_count": 98,
   "metadata": {},
   "outputs": [],
   "source": [
    "### concat all DataFrames & convert to csv\n",
    "\n",
    "infogroup_concat = pd.concat(all_df_list)\n",
    "\n",
    "FILEPATH = \"../data/infogroup_matches.csv\"\n",
    "infogroup_concat.to_csv(FILEPATH) # save as CSV file"
   ]
  }
 ],
 "metadata": {
  "kernelspec": {
   "display_name": "Python 3",
   "language": "python",
   "name": "python3"
  },
  "language_info": {
   "codemirror_mode": {
    "name": "ipython",
    "version": 3
   },
   "file_extension": ".py",
   "mimetype": "text/x-python",
   "name": "python",
   "nbconvert_exporter": "python",
   "pygments_lexer": "ipython3",
   "version": "3.9.16"
  },
  "orig_nbformat": 4
 },
 "nbformat": 4,
 "nbformat_minor": 2
}
