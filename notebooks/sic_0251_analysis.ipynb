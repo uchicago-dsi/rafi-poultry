{
 "cells": [
  {
   "cell_type": "code",
   "execution_count": 1,
   "metadata": {},
   "outputs": [
    {
     "name": "stderr",
     "output_type": "stream",
     "text": [
      "c:\\Users\\chacon1\\AppData\\Local\\Programs\\Python\\Python39\\lib\\site-packages\\fuzzywuzzy\\fuzz.py:11: UserWarning: Using slow pure-python SequenceMatcher. Install python-Levenshtein to remove this warning\n",
      "  warnings.warn('Using slow pure-python SequenceMatcher. Install python-Levenshtein to remove this warning')\n"
     ]
    }
   ],
   "source": [
    "import pandas as pd\n",
    "from fuzzywuzzy import fuzz\n",
    "import numpy as np"
   ]
  },
  {
   "cell_type": "code",
   "execution_count": 2,
   "metadata": {},
   "outputs": [],
   "source": [
    "# 254 - General Farms, Primarily Crop\n",
    "states = ['IA', 'OK', 'MO', 'OK', 'AL', 'LA', 'MS', 'IL', 'IN', 'OH', 'KY', 'TN', 'AR', 'NC', 'SC', 'GA']\n",
    "FILEPATH = \"../data/code_0251.csv\"\n",
    "df = pd.read_csv(FILEPATH)"
   ]
  },
  {
   "cell_type": "code",
   "execution_count": 3,
   "metadata": {},
   "outputs": [
    {
     "data": {
      "text/html": [
       "<div>\n",
       "<style scoped>\n",
       "    .dataframe tbody tr th:only-of-type {\n",
       "        vertical-align: middle;\n",
       "    }\n",
       "\n",
       "    .dataframe tbody tr th {\n",
       "        vertical-align: top;\n",
       "    }\n",
       "\n",
       "    .dataframe thead th {\n",
       "        text-align: right;\n",
       "    }\n",
       "</style>\n",
       "<table border=\"1\" class=\"dataframe\">\n",
       "  <thead>\n",
       "    <tr style=\"text-align: right;\">\n",
       "      <th></th>\n",
       "      <th>Unnamed: 0</th>\n",
       "      <th>COMPANY</th>\n",
       "      <th>ADDRESS LINE 1</th>\n",
       "      <th>CITY</th>\n",
       "      <th>STATE</th>\n",
       "      <th>ZIPCODE</th>\n",
       "      <th>ZIP4</th>\n",
       "      <th>COUNTY CODE</th>\n",
       "      <th>AREA CODE</th>\n",
       "      <th>IDCODE</th>\n",
       "      <th>...</th>\n",
       "      <th>POPULATION CODE</th>\n",
       "      <th>CENSUS TRACT</th>\n",
       "      <th>CENSUS BLOCK</th>\n",
       "      <th>LATITUDE</th>\n",
       "      <th>LONGITUDE</th>\n",
       "      <th>MATCH CODE</th>\n",
       "      <th>CBSA CODE</th>\n",
       "      <th>CBSA LEVEL</th>\n",
       "      <th>CSA CODE</th>\n",
       "      <th>FIPS CODE</th>\n",
       "    </tr>\n",
       "  </thead>\n",
       "  <tbody>\n",
       "    <tr>\n",
       "      <th>0</th>\n",
       "      <td>53368</td>\n",
       "      <td>SANDERSON FARMS</td>\n",
       "      <td>2535 SANDERSON DR</td>\n",
       "      <td>LAUREL</td>\n",
       "      <td>MS</td>\n",
       "      <td>39440</td>\n",
       "      <td>4741.0</td>\n",
       "      <td>67</td>\n",
       "      <td>601</td>\n",
       "      <td>2</td>\n",
       "      <td>...</td>\n",
       "      <td>7</td>\n",
       "      <td>950600</td>\n",
       "      <td>3</td>\n",
       "      <td>31.667854</td>\n",
       "      <td>-89.163265</td>\n",
       "      <td>0</td>\n",
       "      <td>29860</td>\n",
       "      <td>1.0</td>\n",
       "      <td>279</td>\n",
       "      <td>28067</td>\n",
       "    </tr>\n",
       "    <tr>\n",
       "      <th>1</th>\n",
       "      <td>81980</td>\n",
       "      <td>CONERLY POULTRY</td>\n",
       "      <td>12 MCCRAY RD</td>\n",
       "      <td>JAYESS</td>\n",
       "      <td>MS</td>\n",
       "      <td>39641</td>\n",
       "      <td>8053.0</td>\n",
       "      <td>147</td>\n",
       "      <td>601</td>\n",
       "      <td>2</td>\n",
       "      <td>...</td>\n",
       "      <td>4</td>\n",
       "      <td>950100</td>\n",
       "      <td>2</td>\n",
       "      <td>31.304582</td>\n",
       "      <td>-90.159784</td>\n",
       "      <td>P</td>\n",
       "      <td>0</td>\n",
       "      <td>NaN</td>\n",
       "      <td>0</td>\n",
       "      <td>28147</td>\n",
       "    </tr>\n",
       "    <tr>\n",
       "      <th>2</th>\n",
       "      <td>110002</td>\n",
       "      <td>TRIPLE P RANCH &amp; EQUIPMENT LLC</td>\n",
       "      <td>22211 FIVE BRIDGES AVE</td>\n",
       "      <td>COLE CAMP</td>\n",
       "      <td>MO</td>\n",
       "      <td>65325</td>\n",
       "      <td>2303.0</td>\n",
       "      <td>15</td>\n",
       "      <td>660</td>\n",
       "      <td>2</td>\n",
       "      <td>...</td>\n",
       "      <td>4</td>\n",
       "      <td>460100</td>\n",
       "      <td>1</td>\n",
       "      <td>38.360331</td>\n",
       "      <td>-93.211563</td>\n",
       "      <td>P</td>\n",
       "      <td>0</td>\n",
       "      <td>NaN</td>\n",
       "      <td>0</td>\n",
       "      <td>29015</td>\n",
       "    </tr>\n",
       "    <tr>\n",
       "      <th>3</th>\n",
       "      <td>51821</td>\n",
       "      <td>THREE WAY LIVE POULTRY</td>\n",
       "      <td>3071 WEBSTER AVE</td>\n",
       "      <td>BRONX</td>\n",
       "      <td>NY</td>\n",
       "      <td>10467</td>\n",
       "      <td>4900.0</td>\n",
       "      <td>5</td>\n",
       "      <td>718</td>\n",
       "      <td>2</td>\n",
       "      <td>...</td>\n",
       "      <td>8</td>\n",
       "      <td>42500</td>\n",
       "      <td>1</td>\n",
       "      <td>40.870614</td>\n",
       "      <td>-73.878419</td>\n",
       "      <td>P</td>\n",
       "      <td>35620</td>\n",
       "      <td>2.0</td>\n",
       "      <td>408</td>\n",
       "      <td>36005</td>\n",
       "    </tr>\n",
       "    <tr>\n",
       "      <th>4</th>\n",
       "      <td>42882</td>\n",
       "      <td>GOLDEN-ROD BROILER INC</td>\n",
       "      <td>2352 COUNTY ROAD 719</td>\n",
       "      <td>CULLMAN</td>\n",
       "      <td>AL</td>\n",
       "      <td>35055</td>\n",
       "      <td>9655.0</td>\n",
       "      <td>43</td>\n",
       "      <td>256</td>\n",
       "      <td>2</td>\n",
       "      <td>...</td>\n",
       "      <td>6</td>\n",
       "      <td>964900</td>\n",
       "      <td>6</td>\n",
       "      <td>34.154194</td>\n",
       "      <td>-86.768567</td>\n",
       "      <td>0</td>\n",
       "      <td>18980</td>\n",
       "      <td>1.0</td>\n",
       "      <td>142</td>\n",
       "      <td>1043</td>\n",
       "    </tr>\n",
       "  </tbody>\n",
       "</table>\n",
       "<p>5 rows × 54 columns</p>\n",
       "</div>"
      ],
      "text/plain": [
       "   Unnamed: 0                         COMPANY          ADDRESS LINE 1  \\\n",
       "0       53368                 SANDERSON FARMS       2535 SANDERSON DR   \n",
       "1       81980                 CONERLY POULTRY            12 MCCRAY RD   \n",
       "2      110002  TRIPLE P RANCH & EQUIPMENT LLC  22211 FIVE BRIDGES AVE   \n",
       "3       51821          THREE WAY LIVE POULTRY        3071 WEBSTER AVE   \n",
       "4       42882          GOLDEN-ROD BROILER INC    2352 COUNTY ROAD 719   \n",
       "\n",
       "        CITY STATE  ZIPCODE    ZIP4  COUNTY CODE  AREA CODE  IDCODE  ...  \\\n",
       "0     LAUREL    MS    39440  4741.0           67        601       2  ...   \n",
       "1     JAYESS    MS    39641  8053.0          147        601       2  ...   \n",
       "2  COLE CAMP    MO    65325  2303.0           15        660       2  ...   \n",
       "3      BRONX    NY    10467  4900.0            5        718       2  ...   \n",
       "4    CULLMAN    AL    35055  9655.0           43        256       2  ...   \n",
       "\n",
       "  POPULATION CODE CENSUS TRACT  CENSUS BLOCK   LATITUDE  LONGITUDE MATCH CODE  \\\n",
       "0               7       950600             3  31.667854 -89.163265          0   \n",
       "1               4       950100             2  31.304582 -90.159784          P   \n",
       "2               4       460100             1  38.360331 -93.211563          P   \n",
       "3               8        42500             1  40.870614 -73.878419          P   \n",
       "4               6       964900             6  34.154194 -86.768567          0   \n",
       "\n",
       "   CBSA CODE CBSA LEVEL  CSA CODE FIPS CODE  \n",
       "0      29860        1.0       279     28067  \n",
       "1          0        NaN         0     28147  \n",
       "2          0        NaN         0     29015  \n",
       "3      35620        2.0       408     36005  \n",
       "4      18980        1.0       142      1043  \n",
       "\n",
       "[5 rows x 54 columns]"
      ]
     },
     "execution_count": 3,
     "metadata": {},
     "output_type": "execute_result"
    }
   ],
   "source": [
    "df.head()"
   ]
  },
  {
   "cell_type": "code",
   "execution_count": 4,
   "metadata": {},
   "outputs": [
    {
     "data": {
      "text/plain": [
       "array(['MS', 'MO', 'AL', 'IL', 'IN', 'SC', 'AR', 'NC', 'GA'], dtype=object)"
      ]
     },
     "execution_count": 4,
     "metadata": {},
     "output_type": "execute_result"
    }
   ],
   "source": [
    "# trim out irrelevant states\n",
    "df = df[df['STATE'].isin(states)]\n",
    "df['STATE'].unique()"
   ]
  },
  {
   "cell_type": "code",
   "execution_count": 7,
   "metadata": {},
   "outputs": [
    {
     "data": {
      "text/plain": [
       "<Axes: title={'center': 'Number of SIC Code 0251 by State'}, xlabel='STATE', ylabel='Count'>"
      ]
     },
     "execution_count": 7,
     "metadata": {},
     "output_type": "execute_result"
    },
    {
     "data": {
      "image/png": "[encoded data removed]",
      "text/plain": [
       "<Figure size 640x480 with 1 Axes>"
      ]
     },
     "metadata": {},
     "output_type": "display_data"
    }
   ],
   "source": [
    "df['STATE'].value_counts().plot(kind='bar', ylabel=\"Count\", title=\"Number of SIC Code 0251 by State\")"
   ]
  },
  {
   "cell_type": "code",
   "execution_count": 6,
   "metadata": {},
   "outputs": [
    {
     "data": {
      "text/plain": [
       "SIC6_DESCRIPTIONS\n",
       "BROILER FRYER & ROASTER CHICKENS    11\n",
       "POULTRY PROCESSING PLANTS (MFRS)     4\n",
       "POULTRY-WHOLESALE                    2\n",
       "FARMS                                2\n",
       "FEED-MANUFACTURERS                   1\n",
       "BEEF CATTLE-EXCEPT FEEDLOTS          1\n",
       "CHICKEN EGGS                         1\n",
       "Name: count, dtype: int64"
      ]
     },
     "execution_count": 6,
     "metadata": {},
     "output_type": "execute_result"
    }
   ],
   "source": [
    "df['SIC6_DESCRIPTIONS'].value_counts()"
   ]
  }
 ],
 "metadata": {
  "kernelspec": {
   "display_name": "Python 3",
   "language": "python",
   "name": "python3"
  },
  "language_info": {
   "codemirror_mode": {
    "name": "ipython",
    "version": 3
   },
   "file_extension": ".py",
   "mimetype": "text/x-python",
   "name": "python",
   "nbconvert_exporter": "python",
   "pygments_lexer": "ipython3",
   "version": "3.9.7"
  },
  "orig_nbformat": 4
 },
 "nbformat": 4,
 "nbformat_minor": 2
}
