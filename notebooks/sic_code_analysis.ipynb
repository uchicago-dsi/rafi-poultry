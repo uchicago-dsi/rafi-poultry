{
 "cells": [
  {
   "cell_type": "code",
   "execution_count": 2,
   "metadata": {},
   "outputs": [
    {
     "name": "stderr",
     "output_type": "stream",
     "text": [
      "c:\\Users\\chacon1\\AppData\\Local\\Programs\\Python\\Python39\\lib\\site-packages\\fuzzywuzzy\\fuzz.py:11: UserWarning: Using slow pure-python SequenceMatcher. Install python-Levenshtein to remove this warning\n",
      "  warnings.warn('Using slow pure-python SequenceMatcher. Install python-Levenshtein to remove this warning')\n"
     ]
    }
   ],
   "source": [
    "import pandas as pd\n",
    "from fuzzywuzzy import fuzz\n",
    "import numpy as np"
   ]
  },
  {
   "cell_type": "code",
   "execution_count": 3,
   "metadata": {},
   "outputs": [],
   "source": [
    "# list of the states we are looking at/interested in\n",
    "states = ['IA', 'OK', 'MO', 'OK', 'AL', 'LA', 'MS', 'IL', 'IN', 'OH', 'KY', 'TN', 'AR', 'NC', 'SC', 'GA']"
   ]
  },
  {
   "cell_type": "markdown",
   "metadata": {},
   "source": [
    "### 0191 - General Farms, Primarily Cropm"
   ]
  },
  {
   "cell_type": "code",
   "execution_count": 4,
   "metadata": {},
   "outputs": [],
   "source": [
    "FILEPATH = \"../data/code_0191.csv\"\n",
    "df = pd.read_csv(FILEPATH)"
   ]
  },
  {
   "cell_type": "code",
   "execution_count": 5,
   "metadata": {},
   "outputs": [
    {
     "data": {
      "text/html": [
       "<div>\n",
       "<style scoped>\n",
       "    .dataframe tbody tr th:only-of-type {\n",
       "        vertical-align: middle;\n",
       "    }\n",
       "\n",
       "    .dataframe tbody tr th {\n",
       "        vertical-align: top;\n",
       "    }\n",
       "\n",
       "    .dataframe thead th {\n",
       "        text-align: right;\n",
       "    }\n",
       "</style>\n",
       "<table border=\"1\" class=\"dataframe\">\n",
       "  <thead>\n",
       "    <tr style=\"text-align: right;\">\n",
       "      <th></th>\n",
       "      <th>Unnamed: 0</th>\n",
       "      <th>COMPANY</th>\n",
       "      <th>ADDRESS LINE 1</th>\n",
       "      <th>CITY</th>\n",
       "      <th>STATE</th>\n",
       "      <th>ZIPCODE</th>\n",
       "      <th>ZIP4</th>\n",
       "      <th>COUNTY CODE</th>\n",
       "      <th>AREA CODE</th>\n",
       "      <th>IDCODE</th>\n",
       "      <th>...</th>\n",
       "      <th>POPULATION CODE</th>\n",
       "      <th>CENSUS TRACT</th>\n",
       "      <th>CENSUS BLOCK</th>\n",
       "      <th>LATITUDE</th>\n",
       "      <th>LONGITUDE</th>\n",
       "      <th>MATCH CODE</th>\n",
       "      <th>CBSA CODE</th>\n",
       "      <th>CBSA LEVEL</th>\n",
       "      <th>CSA CODE</th>\n",
       "      <th>FIPS CODE</th>\n",
       "    </tr>\n",
       "  </thead>\n",
       "  <tbody>\n",
       "    <tr>\n",
       "      <th>0</th>\n",
       "      <td>0</td>\n",
       "      <td>OLD RIVER FARM</td>\n",
       "      <td>50 MILLER RD</td>\n",
       "      <td>MIDDLEFIELD</td>\n",
       "      <td>CT</td>\n",
       "      <td>6455</td>\n",
       "      <td>1229.0</td>\n",
       "      <td>7.0</td>\n",
       "      <td>860</td>\n",
       "      <td>2</td>\n",
       "      <td>...</td>\n",
       "      <td>4</td>\n",
       "      <td>580100</td>\n",
       "      <td>4</td>\n",
       "      <td>41.500023</td>\n",
       "      <td>-72.699730</td>\n",
       "      <td>P</td>\n",
       "      <td>25540</td>\n",
       "      <td>2.0</td>\n",
       "      <td>278</td>\n",
       "      <td>9007</td>\n",
       "    </tr>\n",
       "    <tr>\n",
       "      <th>1</th>\n",
       "      <td>1</td>\n",
       "      <td>FELIX CHAC CHUO FARMS INC</td>\n",
       "      <td>89785 80TH AVE</td>\n",
       "      <td>THERMAL</td>\n",
       "      <td>CA</td>\n",
       "      <td>92274</td>\n",
       "      <td>8906.0</td>\n",
       "      <td>65.0</td>\n",
       "      <td>760</td>\n",
       "      <td>2</td>\n",
       "      <td>...</td>\n",
       "      <td>6</td>\n",
       "      <td>45605</td>\n",
       "      <td>5</td>\n",
       "      <td>33.468129</td>\n",
       "      <td>-116.098759</td>\n",
       "      <td>P</td>\n",
       "      <td>40140</td>\n",
       "      <td>2.0</td>\n",
       "      <td>348</td>\n",
       "      <td>6065</td>\n",
       "    </tr>\n",
       "    <tr>\n",
       "      <th>2</th>\n",
       "      <td>2</td>\n",
       "      <td>C &amp; N PETERSON FARMS INC</td>\n",
       "      <td>30310 455TH AVE</td>\n",
       "      <td>WAKONDA</td>\n",
       "      <td>SD</td>\n",
       "      <td>57073</td>\n",
       "      <td>6300.0</td>\n",
       "      <td>27.0</td>\n",
       "      <td>605</td>\n",
       "      <td>2</td>\n",
       "      <td>...</td>\n",
       "      <td>2</td>\n",
       "      <td>965800</td>\n",
       "      <td>3</td>\n",
       "      <td>42.992997</td>\n",
       "      <td>-97.096458</td>\n",
       "      <td>P</td>\n",
       "      <td>46820</td>\n",
       "      <td>1.0</td>\n",
       "      <td>0</td>\n",
       "      <td>46027</td>\n",
       "    </tr>\n",
       "    <tr>\n",
       "      <th>3</th>\n",
       "      <td>3</td>\n",
       "      <td>E-I-E-I-O FARM LLC</td>\n",
       "      <td>1003 NEWFIELD ST</td>\n",
       "      <td>MIDDLETOWN</td>\n",
       "      <td>CT</td>\n",
       "      <td>6457</td>\n",
       "      <td>1817.0</td>\n",
       "      <td>7.0</td>\n",
       "      <td>860</td>\n",
       "      <td>2</td>\n",
       "      <td>...</td>\n",
       "      <td>7</td>\n",
       "      <td>541200</td>\n",
       "      <td>3</td>\n",
       "      <td>41.586472</td>\n",
       "      <td>-72.674690</td>\n",
       "      <td>P</td>\n",
       "      <td>25540</td>\n",
       "      <td>2.0</td>\n",
       "      <td>278</td>\n",
       "      <td>9007</td>\n",
       "    </tr>\n",
       "    <tr>\n",
       "      <th>4</th>\n",
       "      <td>4</td>\n",
       "      <td>DRAGO INDIANA</td>\n",
       "      <td>6147 N COUNTY ROAD 500 W</td>\n",
       "      <td>MULBERRY</td>\n",
       "      <td>IN</td>\n",
       "      <td>46058</td>\n",
       "      <td>9445.0</td>\n",
       "      <td>23.0</td>\n",
       "      <td>765</td>\n",
       "      <td>2</td>\n",
       "      <td>...</td>\n",
       "      <td>3</td>\n",
       "      <td>950300</td>\n",
       "      <td>3</td>\n",
       "      <td>40.377054</td>\n",
       "      <td>-86.596185</td>\n",
       "      <td>P</td>\n",
       "      <td>23140</td>\n",
       "      <td>1.0</td>\n",
       "      <td>320</td>\n",
       "      <td>18023</td>\n",
       "    </tr>\n",
       "  </tbody>\n",
       "</table>\n",
       "<p>5 rows × 54 columns</p>\n",
       "</div>"
      ],
      "text/plain": [
       "   Unnamed: 0                    COMPANY            ADDRESS LINE 1  \\\n",
       "0           0             OLD RIVER FARM              50 MILLER RD   \n",
       "1           1  FELIX CHAC CHUO FARMS INC            89785 80TH AVE   \n",
       "2           2   C & N PETERSON FARMS INC           30310 455TH AVE   \n",
       "3           3         E-I-E-I-O FARM LLC          1003 NEWFIELD ST   \n",
       "4           4              DRAGO INDIANA  6147 N COUNTY ROAD 500 W   \n",
       "\n",
       "          CITY STATE  ZIPCODE    ZIP4  COUNTY CODE  AREA CODE  IDCODE  ...  \\\n",
       "0  MIDDLEFIELD    CT     6455  1229.0          7.0        860       2  ...   \n",
       "1      THERMAL    CA    92274  8906.0         65.0        760       2  ...   \n",
       "2      WAKONDA    SD    57073  6300.0         27.0        605       2  ...   \n",
       "3   MIDDLETOWN    CT     6457  1817.0          7.0        860       2  ...   \n",
       "4     MULBERRY    IN    46058  9445.0         23.0        765       2  ...   \n",
       "\n",
       "  POPULATION CODE CENSUS TRACT  CENSUS BLOCK   LATITUDE   LONGITUDE  \\\n",
       "0               4       580100             4  41.500023  -72.699730   \n",
       "1               6        45605             5  33.468129 -116.098759   \n",
       "2               2       965800             3  42.992997  -97.096458   \n",
       "3               7       541200             3  41.586472  -72.674690   \n",
       "4               3       950300             3  40.377054  -86.596185   \n",
       "\n",
       "  MATCH CODE  CBSA CODE CBSA LEVEL  CSA CODE FIPS CODE  \n",
       "0          P      25540        2.0       278      9007  \n",
       "1          P      40140        2.0       348      6065  \n",
       "2          P      46820        1.0         0     46027  \n",
       "3          P      25540        2.0       278      9007  \n",
       "4          P      23140        1.0       320     18023  \n",
       "\n",
       "[5 rows x 54 columns]"
      ]
     },
     "execution_count": 5,
     "metadata": {},
     "output_type": "execute_result"
    }
   ],
   "source": [
    "df.head()"
   ]
  },
  {
   "cell_type": "code",
   "execution_count": 6,
   "metadata": {},
   "outputs": [
    {
     "data": {
      "text/plain": [
       "array(['IN', 'SC', 'IL', 'OH', 'MO', 'OK', 'NC', 'LA', 'AR', 'MS', 'TN',\n",
       "       'GA', 'IA', 'AL', 'KY'], dtype=object)"
      ]
     },
     "execution_count": 6,
     "metadata": {},
     "output_type": "execute_result"
    }
   ],
   "source": [
    "# trim out irrelevant states\n",
    "df = df[df['STATE'].isin(states)]\n",
    "df['STATE'].unique()"
   ]
  },
  {
   "cell_type": "code",
   "execution_count": 8,
   "metadata": {},
   "outputs": [
    {
     "data": {
      "text/plain": [
       "<Axes: title={'center': 'Number of Businesses (SIC Code 0191) by State'}, xlabel='STATE', ylabel='Count'>"
      ]
     },
     "execution_count": 8,
     "metadata": {},
     "output_type": "execute_result"
    },
    {
     "data": {
      "image/png": "[encoded data removed]",
      "text/plain": [
       "<Figure size 640x480 with 1 Axes>"
      ]
     },
     "metadata": {},
     "output_type": "display_data"
    }
   ],
   "source": [
    "df['STATE'].value_counts().plot(kind='bar', ylabel=\"Count\", title=\"Number of Businesses (SIC Code 0191) by State\")"
   ]
  },
  {
   "cell_type": "code",
   "execution_count": 9,
   "metadata": {},
   "outputs": [
    {
     "data": {
      "text/plain": [
       "SIC6_DESCRIPTIONS\n",
       "FARMS                                    14285\n",
       "GENERAL FARMS-PRIMARILY CROP               780\n",
       "APPLIANCES-HOUSEHOLD-MAJOR-REPAIRING        71\n",
       "ORGANIC FARMS                               50\n",
       "TRUCKING                                    43\n",
       "                                         ...  \n",
       "CHEMICALS-RETAIL                             1\n",
       "CUT STONE & STONE PRODUCTS (MFRS)            1\n",
       "FEED MILL EQUIPMENT & SUPPLIES (MFRS)        1\n",
       "PAINT-RETAIL                                 1\n",
       "CORRECTIONAL INSTITUTIONS-PRIVATE            1\n",
       "Name: count, Length: 366, dtype: int64"
      ]
     },
     "execution_count": 9,
     "metadata": {},
     "output_type": "execute_result"
    }
   ],
   "source": [
    "df['SIC6_DESCRIPTIONS'].value_counts()"
   ]
  },
  {
   "cell_type": "code",
   "execution_count": 10,
   "metadata": {},
   "outputs": [],
   "source": [
    "# filter out SIC6_DESCRIPTIONS that are irrelvant \n",
    "\n",
    "# new dataframe that will contains the filtered set\n",
    "df_filter = pd.DataFrame(columns=df.columns)\n",
    "\n",
    "# remove anything containing a label that only appears less than x amount of times\n",
    "x = 15\n",
    "temp_series = df[\"SIC6_DESCRIPTIONS\"].value_counts()[df[\"SIC6_DESCRIPTIONS\"].value_counts() < x]\n",
    "\n",
    "# extract the labels from the series created above, these are the labels that we will be removing\n",
    "# put them into a list\n",
    "temp_labels = temp_series.index\n",
    "temp_label_list = temp_labels.tolist()\n",
    "\n",
    "# after printing the output at the end, I came back and added label manually taht I wanted to remove\n",
    "temp_label_list += ['APPLIANCES-HOUSEHOLD-MAJOR-REPAIRING', 'ORGANIC FARMS', 'TRUCKING', 'MARIJUANA GROWERS/CULTIVATORS',\n",
    "                    'FARM SUPPLIES (WHLS)', 'STABLES', 'CORN', 'REAL ESTATE', 'AGRICULTURAL PRODUCTS', 'FARM EQUIPMENT (WHLS)']    \n",
    "   \n",
    "labels_to_keep = ['POULTRY PROCESSING PLANTS (MFRS)', 'POULTRY FARMS']\n",
    "\n",
    "# create new dataframe df_filter that does NOT contain the above undesired labels\n",
    "for i in range(len(df)):\n",
    "    if df.iloc[i][\"SIC6_DESCRIPTIONS\"] in labels_to_keep:\n",
    "        df_filter.loc[len(df_filter.index)] = df.iloc[i] # adding it to the new DataFrame\n",
    "    else:\n",
    "        continue"
   ]
  },
  {
   "cell_type": "code",
   "execution_count": 11,
   "metadata": {},
   "outputs": [
    {
     "data": {
      "text/plain": [
       "SIC6_DESCRIPTIONS\n",
       "POULTRY PROCESSING PLANTS (MFRS)    37\n",
       "POULTRY FARMS                       25\n",
       "Name: count, dtype: int64"
      ]
     },
     "execution_count": 11,
     "metadata": {},
     "output_type": "execute_result"
    }
   ],
   "source": [
    "df_filter['SIC6_DESCRIPTIONS'].value_counts()"
   ]
  },
  {
   "cell_type": "code",
   "execution_count": 12,
   "metadata": {},
   "outputs": [
    {
     "data": {
      "text/plain": [
       "<Axes: title={'center': 'Number of SIC Code 0191 by State'}, xlabel='STATE', ylabel='Count'>"
      ]
     },
     "execution_count": 12,
     "metadata": {},
     "output_type": "execute_result"
    },
    {
     "data": {
      "image/png": "[encoded data removed]",
      "text/plain": [
       "<Figure size 640x480 with 1 Axes>"
      ]
     },
     "metadata": {},
     "output_type": "display_data"
    }
   ],
   "source": [
    "df_filter['STATE'].value_counts().plot(kind='bar', ylabel=\"Count\", title=\"Number of SIC Code 0191 by State\")"
   ]
  },
  {
   "cell_type": "markdown",
   "metadata": {},
   "source": [
    "### 0241 - Dairy Farms sits in Division A - Agriculture, Forestry, Fishing and Hunting"
   ]
  },
  {
   "cell_type": "code",
   "execution_count": 13,
   "metadata": {},
   "outputs": [],
   "source": [
    "FILEPATH = \"../data/code_0241.csv\"\n",
    "df = pd.read_csv(FILEPATH)"
   ]
  },
  {
   "cell_type": "code",
   "execution_count": 14,
   "metadata": {},
   "outputs": [
    {
     "data": {
      "text/html": [
       "<div>\n",
       "<style scoped>\n",
       "    .dataframe tbody tr th:only-of-type {\n",
       "        vertical-align: middle;\n",
       "    }\n",
       "\n",
       "    .dataframe tbody tr th {\n",
       "        vertical-align: top;\n",
       "    }\n",
       "\n",
       "    .dataframe thead th {\n",
       "        text-align: right;\n",
       "    }\n",
       "</style>\n",
       "<table border=\"1\" class=\"dataframe\">\n",
       "  <thead>\n",
       "    <tr style=\"text-align: right;\">\n",
       "      <th></th>\n",
       "      <th>Unnamed: 0</th>\n",
       "      <th>COMPANY</th>\n",
       "      <th>ADDRESS LINE 1</th>\n",
       "      <th>CITY</th>\n",
       "      <th>STATE</th>\n",
       "      <th>ZIPCODE</th>\n",
       "      <th>ZIP4</th>\n",
       "      <th>COUNTY CODE</th>\n",
       "      <th>AREA CODE</th>\n",
       "      <th>IDCODE</th>\n",
       "      <th>...</th>\n",
       "      <th>POPULATION CODE</th>\n",
       "      <th>CENSUS TRACT</th>\n",
       "      <th>CENSUS BLOCK</th>\n",
       "      <th>LATITUDE</th>\n",
       "      <th>LONGITUDE</th>\n",
       "      <th>MATCH CODE</th>\n",
       "      <th>CBSA CODE</th>\n",
       "      <th>CBSA LEVEL</th>\n",
       "      <th>CSA CODE</th>\n",
       "      <th>FIPS CODE</th>\n",
       "    </tr>\n",
       "  </thead>\n",
       "  <tbody>\n",
       "    <tr>\n",
       "      <th>0</th>\n",
       "      <td>0</td>\n",
       "      <td>MOSSING'S DAIRY LLC</td>\n",
       "      <td>47447 233A ST</td>\n",
       "      <td>EGAN</td>\n",
       "      <td>SD</td>\n",
       "      <td>57024</td>\n",
       "      <td>6439.0</td>\n",
       "      <td>101</td>\n",
       "      <td>605</td>\n",
       "      <td>2</td>\n",
       "      <td>...</td>\n",
       "      <td>2</td>\n",
       "      <td>959600</td>\n",
       "      <td>2</td>\n",
       "      <td>43.998130</td>\n",
       "      <td>-96.721610</td>\n",
       "      <td>P</td>\n",
       "      <td>0</td>\n",
       "      <td>NaN</td>\n",
       "      <td>0</td>\n",
       "      <td>46101</td>\n",
       "    </tr>\n",
       "    <tr>\n",
       "      <th>1</th>\n",
       "      <td>1</td>\n",
       "      <td>LONG DAIRY FARM INC</td>\n",
       "      <td>27164 477TH AVE</td>\n",
       "      <td>HARRISBURG</td>\n",
       "      <td>SD</td>\n",
       "      <td>57032</td>\n",
       "      <td>8210.0</td>\n",
       "      <td>83</td>\n",
       "      <td>605</td>\n",
       "      <td>2</td>\n",
       "      <td>...</td>\n",
       "      <td>5</td>\n",
       "      <td>10107</td>\n",
       "      <td>3</td>\n",
       "      <td>43.450902</td>\n",
       "      <td>-96.667723</td>\n",
       "      <td>P</td>\n",
       "      <td>43620</td>\n",
       "      <td>2.0</td>\n",
       "      <td>0</td>\n",
       "      <td>46083</td>\n",
       "    </tr>\n",
       "    <tr>\n",
       "      <th>2</th>\n",
       "      <td>2</td>\n",
       "      <td>CYPHER DAIRY CONSULTING LLC</td>\n",
       "      <td>26443 461ST AVE</td>\n",
       "      <td>HARTFORD</td>\n",
       "      <td>SD</td>\n",
       "      <td>57033</td>\n",
       "      <td>6703.0</td>\n",
       "      <td>99</td>\n",
       "      <td>605</td>\n",
       "      <td>2</td>\n",
       "      <td>...</td>\n",
       "      <td>4</td>\n",
       "      <td>10300</td>\n",
       "      <td>2</td>\n",
       "      <td>43.551800</td>\n",
       "      <td>-96.992924</td>\n",
       "      <td>P</td>\n",
       "      <td>43620</td>\n",
       "      <td>2.0</td>\n",
       "      <td>0</td>\n",
       "      <td>46099</td>\n",
       "    </tr>\n",
       "    <tr>\n",
       "      <th>3</th>\n",
       "      <td>3</td>\n",
       "      <td>UNITED DAIRY INC</td>\n",
       "      <td>6 GARVIN DAIRY RD</td>\n",
       "      <td>FAIRMONT</td>\n",
       "      <td>WV</td>\n",
       "      <td>26554</td>\n",
       "      <td>5058.0</td>\n",
       "      <td>49</td>\n",
       "      <td>304</td>\n",
       "      <td>2</td>\n",
       "      <td>...</td>\n",
       "      <td>7</td>\n",
       "      <td>21000</td>\n",
       "      <td>2</td>\n",
       "      <td>39.481453</td>\n",
       "      <td>-80.082759</td>\n",
       "      <td>P</td>\n",
       "      <td>21900</td>\n",
       "      <td>1.0</td>\n",
       "      <td>390</td>\n",
       "      <td>54049</td>\n",
       "    </tr>\n",
       "    <tr>\n",
       "      <th>4</th>\n",
       "      <td>4</td>\n",
       "      <td>DAIRYNET INC</td>\n",
       "      <td>2301 RESEARCH PARK WAY # 155</td>\n",
       "      <td>BROOKINGS</td>\n",
       "      <td>SD</td>\n",
       "      <td>57006</td>\n",
       "      <td>1724.0</td>\n",
       "      <td>11</td>\n",
       "      <td>605</td>\n",
       "      <td>2</td>\n",
       "      <td>...</td>\n",
       "      <td>7</td>\n",
       "      <td>958900</td>\n",
       "      <td>5</td>\n",
       "      <td>44.320347</td>\n",
       "      <td>-96.764656</td>\n",
       "      <td>P</td>\n",
       "      <td>15100</td>\n",
       "      <td>1.0</td>\n",
       "      <td>0</td>\n",
       "      <td>46011</td>\n",
       "    </tr>\n",
       "  </tbody>\n",
       "</table>\n",
       "<p>5 rows × 54 columns</p>\n",
       "</div>"
      ],
      "text/plain": [
       "   Unnamed: 0                      COMPANY                ADDRESS LINE 1  \\\n",
       "0           0          MOSSING'S DAIRY LLC                 47447 233A ST   \n",
       "1           1          LONG DAIRY FARM INC               27164 477TH AVE   \n",
       "2           2  CYPHER DAIRY CONSULTING LLC               26443 461ST AVE   \n",
       "3           3             UNITED DAIRY INC             6 GARVIN DAIRY RD   \n",
       "4           4                 DAIRYNET INC  2301 RESEARCH PARK WAY # 155   \n",
       "\n",
       "         CITY STATE  ZIPCODE    ZIP4  COUNTY CODE  AREA CODE  IDCODE  ...  \\\n",
       "0        EGAN    SD    57024  6439.0          101        605       2  ...   \n",
       "1  HARRISBURG    SD    57032  8210.0           83        605       2  ...   \n",
       "2    HARTFORD    SD    57033  6703.0           99        605       2  ...   \n",
       "3    FAIRMONT    WV    26554  5058.0           49        304       2  ...   \n",
       "4   BROOKINGS    SD    57006  1724.0           11        605       2  ...   \n",
       "\n",
       "  POPULATION CODE CENSUS TRACT  CENSUS BLOCK   LATITUDE  LONGITUDE MATCH CODE  \\\n",
       "0               2       959600             2  43.998130 -96.721610          P   \n",
       "1               5        10107             3  43.450902 -96.667723          P   \n",
       "2               4        10300             2  43.551800 -96.992924          P   \n",
       "3               7        21000             2  39.481453 -80.082759          P   \n",
       "4               7       958900             5  44.320347 -96.764656          P   \n",
       "\n",
       "   CBSA CODE CBSA LEVEL  CSA CODE FIPS CODE  \n",
       "0          0        NaN         0     46101  \n",
       "1      43620        2.0         0     46083  \n",
       "2      43620        2.0         0     46099  \n",
       "3      21900        1.0       390     54049  \n",
       "4      15100        1.0         0     46011  \n",
       "\n",
       "[5 rows x 54 columns]"
      ]
     },
     "execution_count": 14,
     "metadata": {},
     "output_type": "execute_result"
    }
   ],
   "source": [
    "df.head()"
   ]
  },
  {
   "cell_type": "code",
   "execution_count": 15,
   "metadata": {},
   "outputs": [],
   "source": [
    "# filter out SIC6_DESCRIPTIONS that are irrelvant \n",
    "\n",
    "# new dataframe that will contains the filtered set\n",
    "df_filter = pd.DataFrame(columns=df.columns)\n",
    "\n",
    "# remove anything containing a label that only appears less than x amount of times\n",
    "x = 15\n",
    "temp_series = df[\"SIC6_DESCRIPTIONS\"].value_counts()[df[\"SIC6_DESCRIPTIONS\"].value_counts() < x]\n",
    "\n",
    "# extract the labels from the series created above, these are the labels that we will be removing\n",
    "# put them into a list\n",
    "temp_labels = temp_series.index\n",
    "temp_label_list = temp_labels.tolist()\n",
    "\n",
    "# after printing the output at the end, I came back and added label manually taht I wanted to remove\n",
    "temp_label_list += ['DAIRIES (MILK)', 'FLUID MILK (MFRS)', 'RESTAURANTS', 'ICE CREAM PARLORS', 'GROCERS-RETAIL',\n",
    "                    'CONVENIENCE STORES', 'ICE CREAM & FROZEN DESSERTS (MFRS)', 'DAIRY CONSULTANTS',\n",
    "                    'CHEESE PROCESSORS (MFRS)', 'CHEESE', 'DAIRY EQUIPMENT & SUPPLIES (WHLS)']    \n",
    "   \n",
    "\n",
    "# create new dataframe df_filter that does NOT contain the above undesired labels\n",
    "for i in range(len(df)):\n",
    "    if df.iloc[i][\"SIC6_DESCRIPTIONS\"] in temp_label_list:\n",
    "        continue\n",
    "    else:\n",
    "        df_filter.loc[len(df_filter.index)] = df.iloc[i] # adding it to the new DataFrame"
   ]
  },
  {
   "cell_type": "code",
   "execution_count": 16,
   "metadata": {},
   "outputs": [
    {
     "data": {
      "text/plain": [
       "SIC6_DESCRIPTIONS\n",
       "DAIRY FARMS                     1478\n",
       "FARMS                            138\n",
       "DAIRY PRODUCTS-RETAIL             95\n",
       "DAIRY PRODUCTS-WHOLESALE          88\n",
       "GENERAL FARMS-PRIMARILY CROP      23\n",
       "Name: count, dtype: int64"
      ]
     },
     "execution_count": 16,
     "metadata": {},
     "output_type": "execute_result"
    }
   ],
   "source": [
    "df_filter[\"SIC6_DESCRIPTIONS\"].value_counts()"
   ]
  },
  {
   "cell_type": "markdown",
   "metadata": {},
   "source": [
    "### 0251 - Broiler, Fryer, and Roaster Chickens"
   ]
  },
  {
   "cell_type": "code",
   "execution_count": 17,
   "metadata": {},
   "outputs": [],
   "source": [
    "FILEPATH = \"../data/code_0251.csv\"\n",
    "df = pd.read_csv(FILEPATH)"
   ]
  },
  {
   "cell_type": "code",
   "execution_count": 18,
   "metadata": {},
   "outputs": [
    {
     "data": {
      "text/html": [
       "<div>\n",
       "<style scoped>\n",
       "    .dataframe tbody tr th:only-of-type {\n",
       "        vertical-align: middle;\n",
       "    }\n",
       "\n",
       "    .dataframe tbody tr th {\n",
       "        vertical-align: top;\n",
       "    }\n",
       "\n",
       "    .dataframe thead th {\n",
       "        text-align: right;\n",
       "    }\n",
       "</style>\n",
       "<table border=\"1\" class=\"dataframe\">\n",
       "  <thead>\n",
       "    <tr style=\"text-align: right;\">\n",
       "      <th></th>\n",
       "      <th>Unnamed: 0</th>\n",
       "      <th>COMPANY</th>\n",
       "      <th>ADDRESS LINE 1</th>\n",
       "      <th>CITY</th>\n",
       "      <th>STATE</th>\n",
       "      <th>ZIPCODE</th>\n",
       "      <th>ZIP4</th>\n",
       "      <th>COUNTY CODE</th>\n",
       "      <th>AREA CODE</th>\n",
       "      <th>IDCODE</th>\n",
       "      <th>...</th>\n",
       "      <th>POPULATION CODE</th>\n",
       "      <th>CENSUS TRACT</th>\n",
       "      <th>CENSUS BLOCK</th>\n",
       "      <th>LATITUDE</th>\n",
       "      <th>LONGITUDE</th>\n",
       "      <th>MATCH CODE</th>\n",
       "      <th>CBSA CODE</th>\n",
       "      <th>CBSA LEVEL</th>\n",
       "      <th>CSA CODE</th>\n",
       "      <th>FIPS CODE</th>\n",
       "    </tr>\n",
       "  </thead>\n",
       "  <tbody>\n",
       "    <tr>\n",
       "      <th>0</th>\n",
       "      <td>53368</td>\n",
       "      <td>SANDERSON FARMS</td>\n",
       "      <td>2535 SANDERSON DR</td>\n",
       "      <td>LAUREL</td>\n",
       "      <td>MS</td>\n",
       "      <td>39440</td>\n",
       "      <td>4741.0</td>\n",
       "      <td>67</td>\n",
       "      <td>601</td>\n",
       "      <td>2</td>\n",
       "      <td>...</td>\n",
       "      <td>7</td>\n",
       "      <td>950600</td>\n",
       "      <td>3</td>\n",
       "      <td>31.667854</td>\n",
       "      <td>-89.163265</td>\n",
       "      <td>0</td>\n",
       "      <td>29860</td>\n",
       "      <td>1.0</td>\n",
       "      <td>279</td>\n",
       "      <td>28067</td>\n",
       "    </tr>\n",
       "    <tr>\n",
       "      <th>1</th>\n",
       "      <td>81980</td>\n",
       "      <td>CONERLY POULTRY</td>\n",
       "      <td>12 MCCRAY RD</td>\n",
       "      <td>JAYESS</td>\n",
       "      <td>MS</td>\n",
       "      <td>39641</td>\n",
       "      <td>8053.0</td>\n",
       "      <td>147</td>\n",
       "      <td>601</td>\n",
       "      <td>2</td>\n",
       "      <td>...</td>\n",
       "      <td>4</td>\n",
       "      <td>950100</td>\n",
       "      <td>2</td>\n",
       "      <td>31.304582</td>\n",
       "      <td>-90.159784</td>\n",
       "      <td>P</td>\n",
       "      <td>0</td>\n",
       "      <td>NaN</td>\n",
       "      <td>0</td>\n",
       "      <td>28147</td>\n",
       "    </tr>\n",
       "    <tr>\n",
       "      <th>2</th>\n",
       "      <td>110002</td>\n",
       "      <td>TRIPLE P RANCH &amp; EQUIPMENT LLC</td>\n",
       "      <td>22211 FIVE BRIDGES AVE</td>\n",
       "      <td>COLE CAMP</td>\n",
       "      <td>MO</td>\n",
       "      <td>65325</td>\n",
       "      <td>2303.0</td>\n",
       "      <td>15</td>\n",
       "      <td>660</td>\n",
       "      <td>2</td>\n",
       "      <td>...</td>\n",
       "      <td>4</td>\n",
       "      <td>460100</td>\n",
       "      <td>1</td>\n",
       "      <td>38.360331</td>\n",
       "      <td>-93.211563</td>\n",
       "      <td>P</td>\n",
       "      <td>0</td>\n",
       "      <td>NaN</td>\n",
       "      <td>0</td>\n",
       "      <td>29015</td>\n",
       "    </tr>\n",
       "    <tr>\n",
       "      <th>3</th>\n",
       "      <td>51821</td>\n",
       "      <td>THREE WAY LIVE POULTRY</td>\n",
       "      <td>3071 WEBSTER AVE</td>\n",
       "      <td>BRONX</td>\n",
       "      <td>NY</td>\n",
       "      <td>10467</td>\n",
       "      <td>4900.0</td>\n",
       "      <td>5</td>\n",
       "      <td>718</td>\n",
       "      <td>2</td>\n",
       "      <td>...</td>\n",
       "      <td>8</td>\n",
       "      <td>42500</td>\n",
       "      <td>1</td>\n",
       "      <td>40.870614</td>\n",
       "      <td>-73.878419</td>\n",
       "      <td>P</td>\n",
       "      <td>35620</td>\n",
       "      <td>2.0</td>\n",
       "      <td>408</td>\n",
       "      <td>36005</td>\n",
       "    </tr>\n",
       "    <tr>\n",
       "      <th>4</th>\n",
       "      <td>42882</td>\n",
       "      <td>GOLDEN-ROD BROILER INC</td>\n",
       "      <td>2352 COUNTY ROAD 719</td>\n",
       "      <td>CULLMAN</td>\n",
       "      <td>AL</td>\n",
       "      <td>35055</td>\n",
       "      <td>9655.0</td>\n",
       "      <td>43</td>\n",
       "      <td>256</td>\n",
       "      <td>2</td>\n",
       "      <td>...</td>\n",
       "      <td>6</td>\n",
       "      <td>964900</td>\n",
       "      <td>6</td>\n",
       "      <td>34.154194</td>\n",
       "      <td>-86.768567</td>\n",
       "      <td>0</td>\n",
       "      <td>18980</td>\n",
       "      <td>1.0</td>\n",
       "      <td>142</td>\n",
       "      <td>1043</td>\n",
       "    </tr>\n",
       "  </tbody>\n",
       "</table>\n",
       "<p>5 rows × 54 columns</p>\n",
       "</div>"
      ],
      "text/plain": [
       "   Unnamed: 0                         COMPANY          ADDRESS LINE 1  \\\n",
       "0       53368                 SANDERSON FARMS       2535 SANDERSON DR   \n",
       "1       81980                 CONERLY POULTRY            12 MCCRAY RD   \n",
       "2      110002  TRIPLE P RANCH & EQUIPMENT LLC  22211 FIVE BRIDGES AVE   \n",
       "3       51821          THREE WAY LIVE POULTRY        3071 WEBSTER AVE   \n",
       "4       42882          GOLDEN-ROD BROILER INC    2352 COUNTY ROAD 719   \n",
       "\n",
       "        CITY STATE  ZIPCODE    ZIP4  COUNTY CODE  AREA CODE  IDCODE  ...  \\\n",
       "0     LAUREL    MS    39440  4741.0           67        601       2  ...   \n",
       "1     JAYESS    MS    39641  8053.0          147        601       2  ...   \n",
       "2  COLE CAMP    MO    65325  2303.0           15        660       2  ...   \n",
       "3      BRONX    NY    10467  4900.0            5        718       2  ...   \n",
       "4    CULLMAN    AL    35055  9655.0           43        256       2  ...   \n",
       "\n",
       "  POPULATION CODE CENSUS TRACT  CENSUS BLOCK   LATITUDE  LONGITUDE MATCH CODE  \\\n",
       "0               7       950600             3  31.667854 -89.163265          0   \n",
       "1               4       950100             2  31.304582 -90.159784          P   \n",
       "2               4       460100             1  38.360331 -93.211563          P   \n",
       "3               8        42500             1  40.870614 -73.878419          P   \n",
       "4               6       964900             6  34.154194 -86.768567          0   \n",
       "\n",
       "   CBSA CODE CBSA LEVEL  CSA CODE FIPS CODE  \n",
       "0      29860        1.0       279     28067  \n",
       "1          0        NaN         0     28147  \n",
       "2          0        NaN         0     29015  \n",
       "3      35620        2.0       408     36005  \n",
       "4      18980        1.0       142      1043  \n",
       "\n",
       "[5 rows x 54 columns]"
      ]
     },
     "execution_count": 18,
     "metadata": {},
     "output_type": "execute_result"
    }
   ],
   "source": [
    "df.head()"
   ]
  },
  {
   "cell_type": "code",
   "execution_count": 19,
   "metadata": {},
   "outputs": [
    {
     "data": {
      "text/plain": [
       "array(['MS', 'MO', 'AL', 'IL', 'IN', 'SC', 'AR', 'NC', 'GA'], dtype=object)"
      ]
     },
     "execution_count": 19,
     "metadata": {},
     "output_type": "execute_result"
    }
   ],
   "source": [
    "# trim out irrelevant states\n",
    "df = df[df['STATE'].isin(states)]\n",
    "df['STATE'].unique()"
   ]
  },
  {
   "cell_type": "code",
   "execution_count": 21,
   "metadata": {},
   "outputs": [
    {
     "data": {
      "text/plain": [
       "<Axes: title={'center': 'Number of Businesses (SIC Code 0251,) by State'}, xlabel='STATE', ylabel='Count'>"
      ]
     },
     "execution_count": 21,
     "metadata": {},
     "output_type": "execute_result"
    },
    {
     "data": {
      "image/png": "[encoded data removed]",
      "text/plain": [
       "<Figure size 640x480 with 1 Axes>"
      ]
     },
     "metadata": {},
     "output_type": "display_data"
    }
   ],
   "source": [
    "df['STATE'].value_counts().plot(kind='bar', ylabel=\"Count\", title=\"Number of Businesses (SIC Code 0251,) by State\")"
   ]
  },
  {
   "cell_type": "code",
   "execution_count": 22,
   "metadata": {},
   "outputs": [
    {
     "data": {
      "text/plain": [
       "SIC6_DESCRIPTIONS\n",
       "BROILER FRYER & ROASTER CHICKENS    11\n",
       "POULTRY PROCESSING PLANTS (MFRS)     4\n",
       "POULTRY-WHOLESALE                    2\n",
       "FARMS                                2\n",
       "FEED-MANUFACTURERS                   1\n",
       "BEEF CATTLE-EXCEPT FEEDLOTS          1\n",
       "CHICKEN EGGS                         1\n",
       "Name: count, dtype: int64"
      ]
     },
     "execution_count": 22,
     "metadata": {},
     "output_type": "execute_result"
    }
   ],
   "source": [
    "df['SIC6_DESCRIPTIONS'].value_counts()"
   ]
  },
  {
   "cell_type": "markdown",
   "metadata": {},
   "source": [
    "### 254 - General Farms, Primarily Crop"
   ]
  },
  {
   "cell_type": "code",
   "execution_count": 23,
   "metadata": {},
   "outputs": [],
   "source": [
    "FILEPATH = \"../data/code_254.csv\"\n",
    "df = pd.read_csv(FILEPATH)"
   ]
  },
  {
   "cell_type": "code",
   "execution_count": 24,
   "metadata": {},
   "outputs": [
    {
     "data": {
      "text/html": [
       "<div>\n",
       "<style scoped>\n",
       "    .dataframe tbody tr th:only-of-type {\n",
       "        vertical-align: middle;\n",
       "    }\n",
       "\n",
       "    .dataframe tbody tr th {\n",
       "        vertical-align: top;\n",
       "    }\n",
       "\n",
       "    .dataframe thead th {\n",
       "        text-align: right;\n",
       "    }\n",
       "</style>\n",
       "<table border=\"1\" class=\"dataframe\">\n",
       "  <thead>\n",
       "    <tr style=\"text-align: right;\">\n",
       "      <th></th>\n",
       "      <th>Unnamed: 0</th>\n",
       "      <th>COMPANY</th>\n",
       "      <th>ADDRESS LINE 1</th>\n",
       "      <th>CITY</th>\n",
       "      <th>STATE</th>\n",
       "      <th>ZIPCODE</th>\n",
       "      <th>ZIP4</th>\n",
       "      <th>COUNTY CODE</th>\n",
       "      <th>AREA CODE</th>\n",
       "      <th>IDCODE</th>\n",
       "      <th>...</th>\n",
       "      <th>POPULATION CODE</th>\n",
       "      <th>CENSUS TRACT</th>\n",
       "      <th>CENSUS BLOCK</th>\n",
       "      <th>LATITUDE</th>\n",
       "      <th>LONGITUDE</th>\n",
       "      <th>MATCH CODE</th>\n",
       "      <th>CBSA CODE</th>\n",
       "      <th>CBSA LEVEL</th>\n",
       "      <th>CSA CODE</th>\n",
       "      <th>FIPS CODE</th>\n",
       "    </tr>\n",
       "  </thead>\n",
       "  <tbody>\n",
       "    <tr>\n",
       "      <th>0</th>\n",
       "      <td>3129</td>\n",
       "      <td>ACTION BEHAVIOR CTR-ABA THRPY</td>\n",
       "      <td>320 E 1ST AVE # 101</td>\n",
       "      <td>BROOMFIELD</td>\n",
       "      <td>CO</td>\n",
       "      <td>80020</td>\n",
       "      <td>3786.0</td>\n",
       "      <td>14</td>\n",
       "      <td>720</td>\n",
       "      <td>2</td>\n",
       "      <td>...</td>\n",
       "      <td>7</td>\n",
       "      <td>30300</td>\n",
       "      <td>2</td>\n",
       "      <td>39.915481</td>\n",
       "      <td>-105.065944</td>\n",
       "      <td>P</td>\n",
       "      <td>19740</td>\n",
       "      <td>2.0</td>\n",
       "      <td>216</td>\n",
       "      <td>8014</td>\n",
       "    </tr>\n",
       "    <tr>\n",
       "      <th>1</th>\n",
       "      <td>5326</td>\n",
       "      <td>HASSELBACH MEATS</td>\n",
       "      <td>4637 OAK HARBOR RD</td>\n",
       "      <td>FREMONT</td>\n",
       "      <td>OH</td>\n",
       "      <td>43420</td>\n",
       "      <td>9373.0</td>\n",
       "      <td>143</td>\n",
       "      <td>419</td>\n",
       "      <td>2</td>\n",
       "      <td>...</td>\n",
       "      <td>7</td>\n",
       "      <td>960900</td>\n",
       "      <td>2</td>\n",
       "      <td>41.441192</td>\n",
       "      <td>-83.134802</td>\n",
       "      <td>P</td>\n",
       "      <td>23380</td>\n",
       "      <td>1.0</td>\n",
       "      <td>534</td>\n",
       "      <td>39143</td>\n",
       "    </tr>\n",
       "    <tr>\n",
       "      <th>2</th>\n",
       "      <td>6850</td>\n",
       "      <td>MURRAY CABINETRY LUXURY &amp; BATH</td>\n",
       "      <td>407 N BLOOMINGTON ST</td>\n",
       "      <td>STREATOR</td>\n",
       "      <td>IL</td>\n",
       "      <td>61364</td>\n",
       "      <td>2201.0</td>\n",
       "      <td>99</td>\n",
       "      <td>815</td>\n",
       "      <td>2</td>\n",
       "      <td>...</td>\n",
       "      <td>7</td>\n",
       "      <td>963900</td>\n",
       "      <td>4</td>\n",
       "      <td>41.125039</td>\n",
       "      <td>-88.835096</td>\n",
       "      <td>P</td>\n",
       "      <td>36837</td>\n",
       "      <td>1.0</td>\n",
       "      <td>176</td>\n",
       "      <td>17099</td>\n",
       "    </tr>\n",
       "    <tr>\n",
       "      <th>3</th>\n",
       "      <td>11380</td>\n",
       "      <td>COOTERS FARM</td>\n",
       "      <td>1784 TUCK WILKES RD</td>\n",
       "      <td>NOXAPATER</td>\n",
       "      <td>MS</td>\n",
       "      <td>39346</td>\n",
       "      <td>9311.0</td>\n",
       "      <td>159</td>\n",
       "      <td>662</td>\n",
       "      <td>2</td>\n",
       "      <td>...</td>\n",
       "      <td>3</td>\n",
       "      <td>950200</td>\n",
       "      <td>4</td>\n",
       "      <td>33.011665</td>\n",
       "      <td>-89.126923</td>\n",
       "      <td>P</td>\n",
       "      <td>0</td>\n",
       "      <td>NaN</td>\n",
       "      <td>0</td>\n",
       "      <td>28159</td>\n",
       "    </tr>\n",
       "    <tr>\n",
       "      <th>4</th>\n",
       "      <td>11845</td>\n",
       "      <td>MCM POULTRY</td>\n",
       "      <td>711 W FOURTH ST</td>\n",
       "      <td>BEAUMONT</td>\n",
       "      <td>CA</td>\n",
       "      <td>92223</td>\n",
       "      <td>NaN</td>\n",
       "      <td>65</td>\n",
       "      <td>951</td>\n",
       "      <td>2</td>\n",
       "      <td>...</td>\n",
       "      <td>7</td>\n",
       "      <td>43807</td>\n",
       "      <td>2</td>\n",
       "      <td>33.947900</td>\n",
       "      <td>-116.977100</td>\n",
       "      <td>X</td>\n",
       "      <td>40140</td>\n",
       "      <td>2.0</td>\n",
       "      <td>348</td>\n",
       "      <td>6065</td>\n",
       "    </tr>\n",
       "  </tbody>\n",
       "</table>\n",
       "<p>5 rows × 54 columns</p>\n",
       "</div>"
      ],
      "text/plain": [
       "   Unnamed: 0                         COMPANY        ADDRESS LINE 1  \\\n",
       "0        3129   ACTION BEHAVIOR CTR-ABA THRPY   320 E 1ST AVE # 101   \n",
       "1        5326                HASSELBACH MEATS    4637 OAK HARBOR RD   \n",
       "2        6850  MURRAY CABINETRY LUXURY & BATH  407 N BLOOMINGTON ST   \n",
       "3       11380                    COOTERS FARM   1784 TUCK WILKES RD   \n",
       "4       11845                     MCM POULTRY       711 W FOURTH ST   \n",
       "\n",
       "         CITY STATE  ZIPCODE    ZIP4  COUNTY CODE  AREA CODE  IDCODE  ...  \\\n",
       "0  BROOMFIELD    CO    80020  3786.0           14        720       2  ...   \n",
       "1     FREMONT    OH    43420  9373.0          143        419       2  ...   \n",
       "2    STREATOR    IL    61364  2201.0           99        815       2  ...   \n",
       "3   NOXAPATER    MS    39346  9311.0          159        662       2  ...   \n",
       "4    BEAUMONT    CA    92223     NaN           65        951       2  ...   \n",
       "\n",
       "  POPULATION CODE CENSUS TRACT  CENSUS BLOCK   LATITUDE   LONGITUDE  \\\n",
       "0               7        30300             2  39.915481 -105.065944   \n",
       "1               7       960900             2  41.441192  -83.134802   \n",
       "2               7       963900             4  41.125039  -88.835096   \n",
       "3               3       950200             4  33.011665  -89.126923   \n",
       "4               7        43807             2  33.947900 -116.977100   \n",
       "\n",
       "  MATCH CODE  CBSA CODE CBSA LEVEL  CSA CODE FIPS CODE  \n",
       "0          P      19740        2.0       216      8014  \n",
       "1          P      23380        1.0       534     39143  \n",
       "2          P      36837        1.0       176     17099  \n",
       "3          P          0        NaN         0     28159  \n",
       "4          X      40140        2.0       348      6065  \n",
       "\n",
       "[5 rows x 54 columns]"
      ]
     },
     "execution_count": 24,
     "metadata": {},
     "output_type": "execute_result"
    }
   ],
   "source": [
    "df.head()"
   ]
  },
  {
   "cell_type": "code",
   "execution_count": 25,
   "metadata": {},
   "outputs": [
    {
     "data": {
      "text/plain": [
       "array(['OH', 'IL', 'MS', 'IN', 'SC', 'NC', 'TN', 'MO', 'GA', 'OK', 'LA',\n",
       "       'AL', 'IA', 'KY', 'AR'], dtype=object)"
      ]
     },
     "execution_count": 25,
     "metadata": {},
     "output_type": "execute_result"
    }
   ],
   "source": [
    "# trim out irrelevant states\n",
    "df = df[df['STATE'].isin(states)]\n",
    "df['STATE'].unique()"
   ]
  },
  {
   "cell_type": "code",
   "execution_count": 26,
   "metadata": {},
   "outputs": [
    {
     "data": {
      "text/plain": [
       "<Axes: title={'center': 'Number of Businesses (SIC Code 254) by State'}, xlabel='STATE', ylabel='Count'>"
      ]
     },
     "execution_count": 26,
     "metadata": {},
     "output_type": "execute_result"
    },
    {
     "data": {
      "image/png": "[encoded data removed]",
      "text/plain": [
       "<Figure size 640x480 with 1 Axes>"
      ]
     },
     "metadata": {},
     "output_type": "display_data"
    }
   ],
   "source": [
    "df['STATE'].value_counts().plot(kind='bar', ylabel=\"Count\", title=\"Number of Businesses (SIC Code 254) by State\")"
   ]
  },
  {
   "cell_type": "code",
   "execution_count": 27,
   "metadata": {},
   "outputs": [
    {
     "data": {
      "text/plain": [
       "SIC6_DESCRIPTIONS\n",
       "POULTRY FARMS                              403\n",
       "CHILD CARE SERVICE                         129\n",
       "POULTRY PROCESSING PLANTS (MFRS)            87\n",
       "FAMILY & CHILDREN SERVICES                  71\n",
       "CLINICS                                     71\n",
       "                                          ... \n",
       "GAMES TOYS & CHILDREN'S VEHICLES (MFRS)      1\n",
       "MODEL MAKERS (MFRS)                          1\n",
       "TOILET PARTITIONS                            1\n",
       "EMPLOYEES SUGGESTION SYSTEM                  1\n",
       "RESTAURANT EQUIPMENT & SUPPLIES-MFRS         1\n",
       "Name: count, Length: 315, dtype: int64"
      ]
     },
     "execution_count": 27,
     "metadata": {},
     "output_type": "execute_result"
    }
   ],
   "source": [
    "df['SIC6_DESCRIPTIONS'].value_counts()"
   ]
  },
  {
   "cell_type": "code",
   "execution_count": 28,
   "metadata": {},
   "outputs": [],
   "source": [
    "# filter out SIC6_DESCRIPTIONS that are irrelvant \n",
    "\n",
    "# new dataframe that will contains the filtered set\n",
    "df_filter = pd.DataFrame(columns=df.columns)\n",
    "\n",
    "# remove anything containing a label that only appears less than x amount of times\n",
    "x = 28\n",
    "temp_series = df[\"SIC6_DESCRIPTIONS\"].value_counts()[df[\"SIC6_DESCRIPTIONS\"].value_counts() < x]\n",
    "\n",
    "# extract the labels from the series created above, these are the labels that we will be removing\n",
    "# put them into a list\n",
    "temp_labels = temp_series.index\n",
    "temp_label_list = temp_labels.tolist()\n",
    "\n",
    "# after printing the output at the end, I came back and added label manually taht I wanted to remove\n",
    "temp_label_list += ['CHILD CARE SERVICE', 'FAMILY & CHILDREN SERVICES', 'CLINICS', 'COUNTER TOPS-MANUFACTURERS', 'CABINETS-MANUFACTURERS',\n",
    "                    'DISPLAY FIXTURES & MATERIALS-MFRS', 'STORE FIXTURES-MANUFACTURERS', 'OFFICE & STORE FIXTURES-WOOD (MFRS)',\n",
    "                    'SHELVING-MANUFACTURERS']    \n",
    "   \n",
    "\n",
    "# create new dataframe df_filter that does NOT contain the above undesired labels\n",
    "for i in range(len(df)):\n",
    "    if df.iloc[i][\"SIC6_DESCRIPTIONS\"] in temp_label_list:\n",
    "        continue\n",
    "    else:\n",
    "        df_filter.loc[len(df_filter.index)] = df.iloc[i] # adding it to the new DataFrame"
   ]
  },
  {
   "cell_type": "code",
   "execution_count": 29,
   "metadata": {},
   "outputs": [
    {
     "data": {
      "text/plain": [
       "SIC6_DESCRIPTIONS\n",
       "POULTRY FARMS                       403\n",
       "POULTRY PROCESSING PLANTS (MFRS)     87\n",
       "FARMS                                28\n",
       "Name: count, dtype: int64"
      ]
     },
     "execution_count": 29,
     "metadata": {},
     "output_type": "execute_result"
    }
   ],
   "source": [
    "df_filter['SIC6_DESCRIPTIONS'].value_counts()"
   ]
  },
  {
   "cell_type": "code",
   "execution_count": 31,
   "metadata": {},
   "outputs": [
    {
     "data": {
      "text/plain": [
       "<Axes: title={'center': 'Number of Businesses (SIC Code 254) by State'}, xlabel='STATE', ylabel='Count'>"
      ]
     },
     "execution_count": 31,
     "metadata": {},
     "output_type": "execute_result"
    },
    {
     "data": {
      "image/png": "[encoded data removed]",
      "text/plain": [
       "<Figure size 640x480 with 1 Axes>"
      ]
     },
     "metadata": {},
     "output_type": "display_data"
    }
   ],
   "source": [
    "df_filter['STATE'].value_counts().plot(kind='bar', ylabel=\"Count\", title=\"Number of Businesses (SIC Code 254) by State\")"
   ]
  },
  {
   "cell_type": "markdown",
   "metadata": {},
   "source": [
    "### 0291 - General Farms, Primarily Livestock and Animal Specialties"
   ]
  },
  {
   "cell_type": "code",
   "execution_count": 32,
   "metadata": {},
   "outputs": [],
   "source": [
    "FILEPATH = \"../data/code_0291.csv\"\n",
    "df = pd.read_csv(FILEPATH)"
   ]
  },
  {
   "cell_type": "code",
   "execution_count": 33,
   "metadata": {},
   "outputs": [
    {
     "data": {
      "text/html": [
       "<div>\n",
       "<style scoped>\n",
       "    .dataframe tbody tr th:only-of-type {\n",
       "        vertical-align: middle;\n",
       "    }\n",
       "\n",
       "    .dataframe tbody tr th {\n",
       "        vertical-align: top;\n",
       "    }\n",
       "\n",
       "    .dataframe thead th {\n",
       "        text-align: right;\n",
       "    }\n",
       "</style>\n",
       "<table border=\"1\" class=\"dataframe\">\n",
       "  <thead>\n",
       "    <tr style=\"text-align: right;\">\n",
       "      <th></th>\n",
       "      <th>Unnamed: 0</th>\n",
       "      <th>COMPANY</th>\n",
       "      <th>ADDRESS LINE 1</th>\n",
       "      <th>CITY</th>\n",
       "      <th>STATE</th>\n",
       "      <th>ZIPCODE</th>\n",
       "      <th>ZIP4</th>\n",
       "      <th>COUNTY CODE</th>\n",
       "      <th>AREA CODE</th>\n",
       "      <th>IDCODE</th>\n",
       "      <th>...</th>\n",
       "      <th>POPULATION CODE</th>\n",
       "      <th>CENSUS TRACT</th>\n",
       "      <th>CENSUS BLOCK</th>\n",
       "      <th>LATITUDE</th>\n",
       "      <th>LONGITUDE</th>\n",
       "      <th>MATCH CODE</th>\n",
       "      <th>CBSA CODE</th>\n",
       "      <th>CBSA LEVEL</th>\n",
       "      <th>CSA CODE</th>\n",
       "      <th>FIPS CODE</th>\n",
       "    </tr>\n",
       "  </thead>\n",
       "  <tbody>\n",
       "    <tr>\n",
       "      <th>0</th>\n",
       "      <td>0</td>\n",
       "      <td>CHURCH RANCH</td>\n",
       "      <td>20009 HIGHWAY 72</td>\n",
       "      <td>ARVADA</td>\n",
       "      <td>CO</td>\n",
       "      <td>80007</td>\n",
       "      <td>8236.0</td>\n",
       "      <td>59</td>\n",
       "      <td>303</td>\n",
       "      <td>2</td>\n",
       "      <td>...</td>\n",
       "      <td>5</td>\n",
       "      <td>60500.0</td>\n",
       "      <td>3.0</td>\n",
       "      <td>39.869196</td>\n",
       "      <td>-105.230716</td>\n",
       "      <td>P</td>\n",
       "      <td>19740</td>\n",
       "      <td>2.0</td>\n",
       "      <td>216</td>\n",
       "      <td>8059</td>\n",
       "    </tr>\n",
       "    <tr>\n",
       "      <th>1</th>\n",
       "      <td>1</td>\n",
       "      <td>SAN PABLITO RANCH</td>\n",
       "      <td>7660 WOODWAY DR</td>\n",
       "      <td>HOUSTON</td>\n",
       "      <td>TX</td>\n",
       "      <td>77063</td>\n",
       "      <td>1533.0</td>\n",
       "      <td>201</td>\n",
       "      <td>713</td>\n",
       "      <td>2</td>\n",
       "      <td>...</td>\n",
       "      <td>7</td>\n",
       "      <td>430300.0</td>\n",
       "      <td>1.0</td>\n",
       "      <td>29.752743</td>\n",
       "      <td>-95.503489</td>\n",
       "      <td>P</td>\n",
       "      <td>26420</td>\n",
       "      <td>2.0</td>\n",
       "      <td>288</td>\n",
       "      <td>48201</td>\n",
       "    </tr>\n",
       "    <tr>\n",
       "      <th>2</th>\n",
       "      <td>2</td>\n",
       "      <td>REMINGTON CREEK RANCH SALES</td>\n",
       "      <td>1015 STABLE SIDE CT</td>\n",
       "      <td>HOUSTON</td>\n",
       "      <td>TX</td>\n",
       "      <td>77073</td>\n",
       "      <td>6409.0</td>\n",
       "      <td>201</td>\n",
       "      <td>281</td>\n",
       "      <td>2</td>\n",
       "      <td>...</td>\n",
       "      <td>7</td>\n",
       "      <td>240702.0</td>\n",
       "      <td>2.0</td>\n",
       "      <td>29.966813</td>\n",
       "      <td>-95.393341</td>\n",
       "      <td>P</td>\n",
       "      <td>26420</td>\n",
       "      <td>2.0</td>\n",
       "      <td>288</td>\n",
       "      <td>48201</td>\n",
       "    </tr>\n",
       "    <tr>\n",
       "      <th>3</th>\n",
       "      <td>3</td>\n",
       "      <td>MOUNTAIN SHADOWS RANCH</td>\n",
       "      <td>3135 SHADY HOLLOW LN</td>\n",
       "      <td>JAMUL</td>\n",
       "      <td>CA</td>\n",
       "      <td>91935</td>\n",
       "      <td>2236.0</td>\n",
       "      <td>73</td>\n",
       "      <td>619</td>\n",
       "      <td>2</td>\n",
       "      <td>...</td>\n",
       "      <td>5</td>\n",
       "      <td>21302.0</td>\n",
       "      <td>2.0</td>\n",
       "      <td>32.737980</td>\n",
       "      <td>-116.818903</td>\n",
       "      <td>P</td>\n",
       "      <td>41740</td>\n",
       "      <td>2.0</td>\n",
       "      <td>0</td>\n",
       "      <td>6073</td>\n",
       "    </tr>\n",
       "    <tr>\n",
       "      <th>4</th>\n",
       "      <td>4</td>\n",
       "      <td>SMOKE TREE RANCH</td>\n",
       "      <td>1850 SMOKE TREE LN</td>\n",
       "      <td>PALM SPRINGS</td>\n",
       "      <td>CA</td>\n",
       "      <td>92264</td>\n",
       "      <td>9270.0</td>\n",
       "      <td>65</td>\n",
       "      <td>760</td>\n",
       "      <td>2</td>\n",
       "      <td>...</td>\n",
       "      <td>6</td>\n",
       "      <td>44807.0</td>\n",
       "      <td>1.0</td>\n",
       "      <td>33.797426</td>\n",
       "      <td>-116.521896</td>\n",
       "      <td>P</td>\n",
       "      <td>40140</td>\n",
       "      <td>2.0</td>\n",
       "      <td>348</td>\n",
       "      <td>6065</td>\n",
       "    </tr>\n",
       "  </tbody>\n",
       "</table>\n",
       "<p>5 rows × 54 columns</p>\n",
       "</div>"
      ],
      "text/plain": [
       "   Unnamed: 0                      COMPANY        ADDRESS LINE 1  \\\n",
       "0           0                 CHURCH RANCH      20009 HIGHWAY 72   \n",
       "1           1            SAN PABLITO RANCH       7660 WOODWAY DR   \n",
       "2           2  REMINGTON CREEK RANCH SALES   1015 STABLE SIDE CT   \n",
       "3           3       MOUNTAIN SHADOWS RANCH  3135 SHADY HOLLOW LN   \n",
       "4           4             SMOKE TREE RANCH    1850 SMOKE TREE LN   \n",
       "\n",
       "           CITY STATE  ZIPCODE    ZIP4  COUNTY CODE  AREA CODE  IDCODE  ...  \\\n",
       "0        ARVADA    CO    80007  8236.0           59        303       2  ...   \n",
       "1       HOUSTON    TX    77063  1533.0          201        713       2  ...   \n",
       "2       HOUSTON    TX    77073  6409.0          201        281       2  ...   \n",
       "3         JAMUL    CA    91935  2236.0           73        619       2  ...   \n",
       "4  PALM SPRINGS    CA    92264  9270.0           65        760       2  ...   \n",
       "\n",
       "  POPULATION CODE CENSUS TRACT  CENSUS BLOCK   LATITUDE   LONGITUDE  \\\n",
       "0               5      60500.0           3.0  39.869196 -105.230716   \n",
       "1               7     430300.0           1.0  29.752743  -95.503489   \n",
       "2               7     240702.0           2.0  29.966813  -95.393341   \n",
       "3               5      21302.0           2.0  32.737980 -116.818903   \n",
       "4               6      44807.0           1.0  33.797426 -116.521896   \n",
       "\n",
       "  MATCH CODE  CBSA CODE CBSA LEVEL  CSA CODE FIPS CODE  \n",
       "0          P      19740        2.0       216      8059  \n",
       "1          P      26420        2.0       288     48201  \n",
       "2          P      26420        2.0       288     48201  \n",
       "3          P      41740        2.0         0      6073  \n",
       "4          P      40140        2.0       348      6065  \n",
       "\n",
       "[5 rows x 54 columns]"
      ]
     },
     "execution_count": 33,
     "metadata": {},
     "output_type": "execute_result"
    }
   ],
   "source": [
    "df.head()"
   ]
  },
  {
   "cell_type": "code",
   "execution_count": 34,
   "metadata": {},
   "outputs": [],
   "source": [
    "# filter out SIC6_DESCRIPTIONS that are irrelvant \n",
    "\n",
    "# new dataframe that will contains the filtered set\n",
    "df_filter = pd.DataFrame(columns=df.columns)\n",
    "\n",
    "# remove anything containing a label that only appears less than x amount of times\n",
    "x = 18\n",
    "temp_series = df[\"SIC6_DESCRIPTIONS\"].value_counts()[df[\"SIC6_DESCRIPTIONS\"].value_counts() < x]\n",
    "\n",
    "# extract the labels from the series created above, these are the labels that we will be removing\n",
    "# put them into a list\n",
    "temp_labels = temp_series.index\n",
    "temp_label_list = temp_labels.tolist()\n",
    "\n",
    "# after printing the output at the end, I came back and added label manually taht I wanted to remove\n",
    "temp_label_list += ['REPTILES', 'REAL ESTATE', 'ALPACAS', 'GUEST RANCHES', 'RESTAURANTS', 'RESORTS', 'PET SHOPS',\n",
    "                   'HOTELS & MOTELS', 'APARTMENTS', 'BED & BREAKFAST', 'CAMPS', 'HOME BUILDERS', 'PET BOARDING SITTING & KENNELS',\n",
    "                   'BED & BREAKFAST ACCOMMODATIONS', 'EVENT CENTERS', 'WINERIES (MFRS)', 'CAMPGROUNDS', 'TRUCKING']    \n",
    "    \n",
    "\n",
    "# create new dataframe df_filter that does NOT contain the above undesired labels\n",
    "for i in range(len(df)):\n",
    "    if df.iloc[i][\"SIC6_DESCRIPTIONS\"] in temp_label_list:\n",
    "        continue\n",
    "    else:\n",
    "        df_filter.loc[len(df_filter.index)] = df.iloc[i] # adding it to the new DataFrame\n",
    "        \n",
    "    "
   ]
  },
  {
   "cell_type": "code",
   "execution_count": 35,
   "metadata": {},
   "outputs": [
    {
     "data": {
      "text/plain": [
       "12503"
      ]
     },
     "execution_count": 35,
     "metadata": {},
     "output_type": "execute_result"
    }
   ],
   "source": [
    "len(df_filter)"
   ]
  },
  {
   "cell_type": "code",
   "execution_count": 36,
   "metadata": {},
   "outputs": [
    {
     "data": {
      "text/plain": [
       "STATE\n",
       "TX    2804\n",
       "CA    2295\n",
       "MT     875\n",
       "CO     654\n",
       "FL     556\n",
       "WY     444\n",
       "OR     443\n",
       "OK     442\n",
       "NE     337\n",
       "AZ     283\n",
       "SD     280\n",
       "NM     277\n",
       "WA     275\n",
       "ID     267\n",
       "KS     262\n",
       "NV     165\n",
       "ND     158\n",
       "UT     144\n",
       "MO     144\n",
       "LA     103\n",
       "WI      89\n",
       "NC      89\n",
       "AR      86\n",
       "IA      85\n",
       "MN      85\n",
       "MI      80\n",
       "OH      79\n",
       "GA      73\n",
       "NY      71\n",
       "HI      63\n",
       "TN      60\n",
       "PA      52\n",
       "KY      48\n",
       "AL      46\n",
       "IL      45\n",
       "IN      40\n",
       "VA      36\n",
       "MS      23\n",
       "SC      23\n",
       "MD      17\n",
       "NJ      17\n",
       "MA      16\n",
       "AK      15\n",
       "NH      10\n",
       "VT      10\n",
       "WV       9\n",
       "ME       8\n",
       "CT       8\n",
       "DE       6\n",
       "PR       4\n",
       "DC       1\n",
       "RI       1\n",
       "Name: count, dtype: int64"
      ]
     },
     "execution_count": 36,
     "metadata": {},
     "output_type": "execute_result"
    }
   ],
   "source": [
    "df_filter[\"SIC6_DESCRIPTIONS\"].value_counts()\n",
    "df_filter[\"STATE\"].value_counts()"
   ]
  },
  {
   "cell_type": "code",
   "execution_count": 37,
   "metadata": {},
   "outputs": [
    {
     "data": {
      "text/plain": [
       "SIC6_DESCRIPTIONS\n",
       "RANCHES                                    11915\n",
       "FARMS                                        249\n",
       "LIVESTOCK BUYERS (WHLS)                       66\n",
       "STABLES                                       61\n",
       "LIVESTOCK BREEDERS                            51\n",
       "LIVESTOCK BROKERS                             36\n",
       "LIVESTOCK-DEALERS (WHLS)                      24\n",
       "LIVESTOCK FEEDING                             23\n",
       "BEEF CATTLE-EXCEPT FEEDLOTS                   20\n",
       "ANIMAL BROKERS & DEALERS-ZOO CIRCUS ETC       20\n",
       "DUDE RANCHES                                  18\n",
       "FEED-DEALERS (WHLS)                           18\n",
       "Name: count, dtype: int64"
      ]
     },
     "execution_count": 37,
     "metadata": {},
     "output_type": "execute_result"
    }
   ],
   "source": [
    "df_filter['SIC6_DESCRIPTIONS'].value_counts()"
   ]
  }
 ],
 "metadata": {
  "kernelspec": {
   "display_name": "Python 3",
   "language": "python",
   "name": "python3"
  },
  "language_info": {
   "codemirror_mode": {
    "name": "ipython",
    "version": 3
   },
   "file_extension": ".py",
   "mimetype": "text/x-python",
   "name": "python",
   "nbconvert_exporter": "python",
   "pygments_lexer": "ipython3",
   "version": "3.9.7"
  },
  "orig_nbformat": 4
 },
 "nbformat": 4,
 "nbformat_minor": 2
}
