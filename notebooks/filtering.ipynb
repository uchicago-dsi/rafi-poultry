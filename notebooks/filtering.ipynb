{
 "cells": [
  {
   "cell_type": "code",
   "execution_count": 27,
   "metadata": {},
   "outputs": [],
   "source": [
    "import geopandas as gpd"
   ]
  },
  {
   "cell_type": "code",
   "execution_count": 28,
   "metadata": {},
   "outputs": [
    {
     "name": "stdout",
     "output_type": "stream",
     "text": [
      "526\n"
     ]
    }
   ],
   "source": [
    "df = gpd.read_file(\"../data/testing_5_tifs.geojson\")\n",
    "print(len(df))"
   ]
  },
  {
   "cell_type": "code",
   "execution_count": 29,
   "metadata": {},
   "outputs": [
    {
     "name": "stdout",
     "output_type": "stream",
     "text": [
      "The dataframe now has 148 rows\n"
     ]
    },
    {
     "data": {
      "text/html": [
       "<div>\n",
       "<style scoped>\n",
       "    .dataframe tbody tr th:only-of-type {\n",
       "        vertical-align: middle;\n",
       "    }\n",
       "\n",
       "    .dataframe tbody tr th {\n",
       "        vertical-align: top;\n",
       "    }\n",
       "\n",
       "    .dataframe thead th {\n",
       "        text-align: right;\n",
       "    }\n",
       "</style>\n",
       "<table border=\"1\" class=\"dataframe\">\n",
       "  <thead>\n",
       "    <tr style=\"text-align: right;\">\n",
       "      <th></th>\n",
       "      <th>p</th>\n",
       "      <th>rectangle_area</th>\n",
       "      <th>area</th>\n",
       "      <th>rectangle_aspect_ratio</th>\n",
       "      <th>distance_to_nearest_road</th>\n",
       "      <th>year</th>\n",
       "      <th>date</th>\n",
       "      <th>image_url</th>\n",
       "      <th>geometry</th>\n",
       "    </tr>\n",
       "  </thead>\n",
       "  <tbody>\n",
       "    <tr>\n",
       "      <th>0</th>\n",
       "      <td>0.003715</td>\n",
       "      <td>2500.000000</td>\n",
       "      <td>2368.0</td>\n",
       "      <td>6.250000</td>\n",
       "      <td>99.024401</td>\n",
       "      <td>2012</td>\n",
       "      <td>2012-06-28</td>\n",
       "      <td>/home/abigailstarr/poultry-cafos/output/m_3407...</td>\n",
       "      <td>POLYGON ((-78.43715 35.00285, -78.43715 35.002...</td>\n",
       "    </tr>\n",
       "    <tr>\n",
       "      <th>1</th>\n",
       "      <td>0.003699</td>\n",
       "      <td>2500.000000</td>\n",
       "      <td>2358.0</td>\n",
       "      <td>6.250000</td>\n",
       "      <td>69.135552</td>\n",
       "      <td>2012</td>\n",
       "      <td>2012-06-28</td>\n",
       "      <td>/home/abigailstarr/poultry-cafos/output/m_3407...</td>\n",
       "      <td>POLYGON ((-78.43716 35.00244, -78.43717 35.002...</td>\n",
       "    </tr>\n",
       "    <tr>\n",
       "      <th>2</th>\n",
       "      <td>0.003785</td>\n",
       "      <td>2500.000000</td>\n",
       "      <td>2413.0</td>\n",
       "      <td>6.250000</td>\n",
       "      <td>54.361656</td>\n",
       "      <td>2012</td>\n",
       "      <td>2012-06-28</td>\n",
       "      <td>/home/abigailstarr/poultry-cafos/output/m_3407...</td>\n",
       "      <td>POLYGON ((-78.43717 35.00202, -78.43718 35.001...</td>\n",
       "    </tr>\n",
       "    <tr>\n",
       "      <th>3</th>\n",
       "      <td>0.001487</td>\n",
       "      <td>2737.718845</td>\n",
       "      <td>2330.0</td>\n",
       "      <td>5.768323</td>\n",
       "      <td>326.448061</td>\n",
       "      <td>2012</td>\n",
       "      <td>2012-06-28</td>\n",
       "      <td>/home/abigailstarr/poultry-cafos/output/m_3407...</td>\n",
       "      <td>POLYGON ((-78.41993 34.99378, -78.41988 34.993...</td>\n",
       "    </tr>\n",
       "    <tr>\n",
       "      <th>4</th>\n",
       "      <td>0.001457</td>\n",
       "      <td>2684.660956</td>\n",
       "      <td>2300.0</td>\n",
       "      <td>5.903417</td>\n",
       "      <td>323.198585</td>\n",
       "      <td>2012</td>\n",
       "      <td>2012-06-28</td>\n",
       "      <td>/home/abigailstarr/poultry-cafos/output/m_3407...</td>\n",
       "      <td>POLYGON ((-78.42131 34.99391, -78.42136 34.993...</td>\n",
       "    </tr>\n",
       "  </tbody>\n",
       "</table>\n",
       "</div>"
      ],
      "text/plain": [
       "          p  rectangle_area    area  rectangle_aspect_ratio  \\\n",
       "0  0.003715     2500.000000  2368.0                6.250000   \n",
       "1  0.003699     2500.000000  2358.0                6.250000   \n",
       "2  0.003785     2500.000000  2413.0                6.250000   \n",
       "3  0.001487     2737.718845  2330.0                5.768323   \n",
       "4  0.001457     2684.660956  2300.0                5.903417   \n",
       "\n",
       "   distance_to_nearest_road  year        date  \\\n",
       "0                 99.024401  2012  2012-06-28   \n",
       "1                 69.135552  2012  2012-06-28   \n",
       "2                 54.361656  2012  2012-06-28   \n",
       "3                326.448061  2012  2012-06-28   \n",
       "4                323.198585  2012  2012-06-28   \n",
       "\n",
       "                                           image_url  \\\n",
       "0  /home/abigailstarr/poultry-cafos/output/m_3407...   \n",
       "1  /home/abigailstarr/poultry-cafos/output/m_3407...   \n",
       "2  /home/abigailstarr/poultry-cafos/output/m_3407...   \n",
       "3  /home/abigailstarr/poultry-cafos/output/m_3407...   \n",
       "4  /home/abigailstarr/poultry-cafos/output/m_3407...   \n",
       "\n",
       "                                            geometry  \n",
       "0  POLYGON ((-78.43715 35.00285, -78.43715 35.002...  \n",
       "1  POLYGON ((-78.43716 35.00244, -78.43717 35.002...  \n",
       "2  POLYGON ((-78.43717 35.00202, -78.43718 35.001...  \n",
       "3  POLYGON ((-78.41993 34.99378, -78.41988 34.993...  \n",
       "4  POLYGON ((-78.42131 34.99391, -78.42136 34.993...  "
      ]
     },
     "execution_count": 29,
     "metadata": {},
     "output_type": "execute_result"
    }
   ],
   "source": [
    "filtered_df = df.loc[df.rectangle_aspect_ratio.between(3.4, 20.49)].reset_index(drop=True)\n",
    "filtered_df = filtered_df.loc[filtered_df.distance_to_nearest_road != 0].reset_index(drop=True)\n",
    "filtered_df = filtered_df.loc[filtered_df[\"area\"].between(525.69, 8106.53)]\n",
    "print(\"The dataframe now has\", len(filtered_df), \"rows\")\n",
    "filtered_df.head(5)"
   ]
  },
  {
   "cell_type": "code",
   "execution_count": 30,
   "metadata": {},
   "outputs": [],
   "source": [
    "filtered_df.to_file(\"../data/filtered_5_tifs.geojson\", driver=\"GeoJSON\")"
   ]
  }
 ],
 "metadata": {
  "kernelspec": {
   "display_name": "base",
   "language": "python",
   "name": "python3"
  },
  "language_info": {
   "codemirror_mode": {
    "name": "ipython",
    "version": 3
   },
   "file_extension": ".py",
   "mimetype": "text/x-python",
   "name": "python",
   "nbconvert_exporter": "python",
   "pygments_lexer": "ipython3",
   "version": "3.9.16"
  },
  "orig_nbformat": 4
 },
 "nbformat": 4,
 "nbformat_minor": 2
}
