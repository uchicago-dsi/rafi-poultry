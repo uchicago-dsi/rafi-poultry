{
 "cells": [
  {
   "cell_type": "code",
   "execution_count": 4,
   "metadata": {},
   "outputs": [],
   "source": [
    "import pandas as pd\n",
    "import numpy as np\n",
    "import dask.dataframe as dd\n",
    "from pathlib import Path\n",
    "import sys, os\n",
    "sys.path.append(os.path.join(os.path.abspath(\"\"), '..', 'pipeline'))\n",
    "import sic_matcher as sm"
   ]
  },
  {
   "cell_type": "code",
   "execution_count": 2,
   "metadata": {},
   "outputs": [],
   "source": [
    "# establishing the file path in such a way to work universally\n",
    "here = Path().resolve()"
   ]
  },
  {
   "cell_type": "code",
   "execution_count": 3,
   "metadata": {},
   "outputs": [],
   "source": [
    "# change either code to your desired code\n",
    "SIC_CODE = \"2015\" # Poultry Slaughtering and Processing\n",
    "NAICS_CODE = \"311615\" # Poultry Processing"
   ]
  },
  {
   "cell_type": "code",
   "execution_count": 4,
   "metadata": {},
   "outputs": [],
   "source": [
    "FSIS_FILEPATH = \"data/fsis-processors-with-location.csv\"\n",
    "FSIS_DATA = here.parent / FSIS_FILEPATH\n",
    "\n",
    "IG_FILEPATH = \"data/2022_Business_Academic_QCQ.txt\"\n",
    "INFOGROUP_2022 = [here.parent / IG_FILEPATH]"
   ]
  },
  {
   "attachments": {},
   "cell_type": "markdown",
   "metadata": {},
   "source": [
    "## Method Using Dask DataFrames"
   ]
  },
  {
   "cell_type": "code",
   "execution_count": 5,
   "metadata": {},
   "outputs": [],
   "source": [
    "# def dask_sic_matches_df(mst_df, sic_code):\n",
    "    \n",
    "#     \"\"\"\n",
    "#         function will filter the master dataframe input that contains everything read in from csv file.\n",
    "#         This will filter the master dataframe to contain only those rows that contain the SIC Code that\n",
    "#         is input into the function\n",
    "        \n",
    "#         Args:\n",
    "#             mst_df (dataframe): master dataframe resulted from reading in the csv file\n",
    "#             sic_code  (string): SIC Code that the user \n",
    "            \n",
    "#         Returns:\n",
    "#             a dataframe that contains only the rows where the input SIC Code is listed for that row (busienss)\n",
    "#     \"\"\"\n",
    "    \n",
    "#     # reassure SIC Code is a string    \n",
    "#     sic_code = str(sic_code)\n",
    "    \n",
    "#     # this filters checks SIC Code 1 through 4 & Primary SIC Code if they contain desired SIC Code we are searching for\n",
    "#     filtered_df = mst_df[ mst_df['SIC CODE'].str.contains(sic_code, na=False) |\n",
    "#                           mst_df['SIC CODE 1'].str.contains(sic_code, na=False) |\n",
    "#                           mst_df['SIC CODE 2'].str.contains(sic_code, na=False) |\n",
    "#                           mst_df['SIC CODE 3'].str.contains(sic_code, na=False) |\n",
    "#                           mst_df['SIC CODE 4'].str.contains(sic_code, na=False) |\n",
    "#                           mst_df['PRIMARY SIC CODE'].str.contains(sic_code, na=False)\n",
    "#                          ]\n",
    "    \n",
    "#     result = filtered_df.compute()\n",
    "            \n",
    "#     return result"
   ]
  },
  {
   "cell_type": "code",
   "execution_count": 5,
   "metadata": {},
   "outputs": [
    {
     "data": {
      "text/html": [
       "<div>\n",
       "<style scoped>\n",
       "    .dataframe tbody tr th:only-of-type {\n",
       "        vertical-align: middle;\n",
       "    }\n",
       "\n",
       "    .dataframe tbody tr th {\n",
       "        vertical-align: top;\n",
       "    }\n",
       "\n",
       "    .dataframe thead th {\n",
       "        text-align: right;\n",
       "    }\n",
       "</style>\n",
       "<table border=\"1\" class=\"dataframe\">\n",
       "  <thead>\n",
       "    <tr style=\"text-align: right;\">\n",
       "      <th></th>\n",
       "      <th>COMPANY</th>\n",
       "      <th>ADDRESS LINE 1</th>\n",
       "      <th>CITY</th>\n",
       "      <th>STATE</th>\n",
       "      <th>ZIPCODE</th>\n",
       "      <th>ZIP4</th>\n",
       "      <th>COUNTY CODE</th>\n",
       "      <th>AREA CODE</th>\n",
       "      <th>IDCODE</th>\n",
       "      <th>LOCATION EMPLOYEE SIZE CODE</th>\n",
       "      <th>...</th>\n",
       "      <th>POPULATION CODE</th>\n",
       "      <th>CENSUS TRACT</th>\n",
       "      <th>CENSUS BLOCK</th>\n",
       "      <th>LATITUDE</th>\n",
       "      <th>LONGITUDE</th>\n",
       "      <th>MATCH CODE</th>\n",
       "      <th>CBSA CODE</th>\n",
       "      <th>CBSA LEVEL</th>\n",
       "      <th>CSA CODE</th>\n",
       "      <th>FIPS CODE</th>\n",
       "    </tr>\n",
       "  </thead>\n",
       "  <tbody>\n",
       "    <tr>\n",
       "      <th>0</th>\n",
       "      <td>MIRAGE DRAPERIES</td>\n",
       "      <td>4731 E SUNNY DUNES RD</td>\n",
       "      <td>PALM SPRINGS</td>\n",
       "      <td>CA</td>\n",
       "      <td>92264</td>\n",
       "      <td>1536</td>\n",
       "      <td>065</td>\n",
       "      <td>760</td>\n",
       "      <td>2</td>\n",
       "      <td>A</td>\n",
       "      <td>...</td>\n",
       "      <td>6</td>\n",
       "      <td>044804</td>\n",
       "      <td>1</td>\n",
       "      <td>033.812119</td>\n",
       "      <td>-116.494500</td>\n",
       "      <td>0</td>\n",
       "      <td>40140</td>\n",
       "      <td>2</td>\n",
       "      <td>348</td>\n",
       "      <td>06065</td>\n",
       "    </tr>\n",
       "    <tr>\n",
       "      <th>1</th>\n",
       "      <td>NaN</td>\n",
       "      <td>11700 OLIO RD</td>\n",
       "      <td>FISHERS</td>\n",
       "      <td>IN</td>\n",
       "      <td>46037</td>\n",
       "      <td>7618</td>\n",
       "      <td>057</td>\n",
       "      <td>317</td>\n",
       "      <td>1</td>\n",
       "      <td>A</td>\n",
       "      <td>...</td>\n",
       "      <td>7</td>\n",
       "      <td>110808</td>\n",
       "      <td>1</td>\n",
       "      <td>039.959999</td>\n",
       "      <td>-085.921268</td>\n",
       "      <td>P</td>\n",
       "      <td>26900</td>\n",
       "      <td>2</td>\n",
       "      <td>294</td>\n",
       "      <td>18057</td>\n",
       "    </tr>\n",
       "    <tr>\n",
       "      <th>2</th>\n",
       "      <td>STONE RESIN SURFACING LLC</td>\n",
       "      <td>1 MAYFLOWER PL</td>\n",
       "      <td>MILFORD</td>\n",
       "      <td>CT</td>\n",
       "      <td>06460</td>\n",
       "      <td>4520</td>\n",
       "      <td>009</td>\n",
       "      <td>203</td>\n",
       "      <td>2</td>\n",
       "      <td>D</td>\n",
       "      <td>...</td>\n",
       "      <td>7</td>\n",
       "      <td>150200</td>\n",
       "      <td>2</td>\n",
       "      <td>041.207739</td>\n",
       "      <td>-073.070136</td>\n",
       "      <td>P</td>\n",
       "      <td>35300</td>\n",
       "      <td>2</td>\n",
       "      <td>408</td>\n",
       "      <td>09009</td>\n",
       "    </tr>\n",
       "    <tr>\n",
       "      <th>3</th>\n",
       "      <td>NaN</td>\n",
       "      <td>2121 7TH ST</td>\n",
       "      <td>PARKERSBURG</td>\n",
       "      <td>WV</td>\n",
       "      <td>26101</td>\n",
       "      <td>3803</td>\n",
       "      <td>107</td>\n",
       "      <td>740</td>\n",
       "      <td>1</td>\n",
       "      <td>NaN</td>\n",
       "      <td>...</td>\n",
       "      <td>7</td>\n",
       "      <td>000702</td>\n",
       "      <td>1</td>\n",
       "      <td>039.269405</td>\n",
       "      <td>-081.520599</td>\n",
       "      <td>P</td>\n",
       "      <td>37620</td>\n",
       "      <td>2</td>\n",
       "      <td>425</td>\n",
       "      <td>54107</td>\n",
       "    </tr>\n",
       "    <tr>\n",
       "      <th>4</th>\n",
       "      <td>IRONWOOD STATE PRISON</td>\n",
       "      <td>19005 WILEYS WELL RD</td>\n",
       "      <td>BLYTHE</td>\n",
       "      <td>CA</td>\n",
       "      <td>92225</td>\n",
       "      <td>2287</td>\n",
       "      <td>065</td>\n",
       "      <td>760</td>\n",
       "      <td>2</td>\n",
       "      <td>A</td>\n",
       "      <td>...</td>\n",
       "      <td>7</td>\n",
       "      <td>046900</td>\n",
       "      <td>1</td>\n",
       "      <td>033.570065</td>\n",
       "      <td>-114.898031</td>\n",
       "      <td>0</td>\n",
       "      <td>40140</td>\n",
       "      <td>2</td>\n",
       "      <td>348</td>\n",
       "      <td>06065</td>\n",
       "    </tr>\n",
       "  </tbody>\n",
       "</table>\n",
       "<p>5 rows × 53 columns</p>\n",
       "</div>"
      ],
      "text/plain": [
       "                     COMPANY         ADDRESS LINE 1          CITY STATE  \\\n",
       "0           MIRAGE DRAPERIES  4731 E SUNNY DUNES RD  PALM SPRINGS    CA   \n",
       "1                        NaN          11700 OLIO RD       FISHERS    IN   \n",
       "2  STONE RESIN SURFACING LLC         1 MAYFLOWER PL       MILFORD    CT   \n",
       "3                        NaN            2121 7TH ST   PARKERSBURG    WV   \n",
       "4      IRONWOOD STATE PRISON   19005 WILEYS WELL RD        BLYTHE    CA   \n",
       "\n",
       "  ZIPCODE  ZIP4 COUNTY CODE AREA CODE IDCODE LOCATION EMPLOYEE SIZE CODE  ...  \\\n",
       "0   92264  1536         065       760      2                           A  ...   \n",
       "1   46037  7618         057       317      1                           A  ...   \n",
       "2   06460  4520         009       203      2                           D  ...   \n",
       "3   26101  3803         107       740      1                         NaN  ...   \n",
       "4   92225  2287         065       760      2                           A  ...   \n",
       "\n",
       "  POPULATION CODE CENSUS TRACT CENSUS BLOCK    LATITUDE    LONGITUDE  \\\n",
       "0               6       044804            1  033.812119  -116.494500   \n",
       "1               7       110808            1  039.959999  -085.921268   \n",
       "2               7       150200            2  041.207739  -073.070136   \n",
       "3               7       000702            1  039.269405  -081.520599   \n",
       "4               7       046900            1  033.570065  -114.898031   \n",
       "\n",
       "  MATCH CODE CBSA CODE CBSA LEVEL CSA CODE FIPS CODE  \n",
       "0          0     40140          2      348     06065  \n",
       "1          P     26900          2      294     18057  \n",
       "2          P     35300          2      408     09009  \n",
       "3          P     37620          2      425     54107  \n",
       "4          0     40140          2      348     06065  \n",
       "\n",
       "[5 rows x 53 columns]"
      ]
     },
     "execution_count": 5,
     "metadata": {},
     "output_type": "execute_result"
    }
   ],
   "source": [
    "# Read in csv file using Dask dataframe (rather than pandas)\n",
    "df = dd.read_csv(INFOGROUP_2022[0], dtype=str, encoding='unicode_escape')\n",
    "df.columns = df.columns.str.upper() # force all columns to be uppercase\n",
    "df.head()"
   ]
  },
  {
   "cell_type": "code",
   "execution_count": 6,
   "metadata": {},
   "outputs": [],
   "source": [
    "selected_code = sm.dask_sic_matches_df(df, SIC_CODE)"
   ]
  },
  {
   "cell_type": "code",
   "execution_count": 31,
   "metadata": {},
   "outputs": [],
   "source": [
    "FILEPATH = \"data/code_\" + SIC_CODE + \".csv\"\n",
    "selected_code.to_csv(here.parent / FILEPATH) # save as CSV file"
   ]
  },
  {
   "attachments": {},
   "cell_type": "markdown",
   "metadata": {},
   "source": [
    "## Panda Dataframe Method"
   ]
  },
  {
   "cell_type": "code",
   "execution_count": null,
   "metadata": {},
   "outputs": [],
   "source": [
    "# read in entire Infrogroup 2022 file\n",
    "df = pd.read_csv(INFOGROUP_2022[0], dtype=str)"
   ]
  },
  {
   "cell_type": "code",
   "execution_count": 7,
   "metadata": {},
   "outputs": [],
   "source": [
    "df_sic = sm.sic_matches_df(df, '0291')"
   ]
  },
  {
   "cell_type": "code",
   "execution_count": null,
   "metadata": {},
   "outputs": [],
   "source": [
    "df_sic.head()"
   ]
  },
  {
   "cell_type": "code",
   "execution_count": 7,
   "metadata": {},
   "outputs": [],
   "source": [
    "# to convert your dataframe to a csv\n",
    "FILENAME = \"../data/code_\" + SIC_CODE + \".csv\"\n",
    "df_sic.to_csv(here.parent / FILENAME)"
   ]
  },
  {
   "attachments": {},
   "cell_type": "markdown",
   "metadata": {},
   "source": [
    "## New Dataframe containing only certain states (using dask methodology)"
   ]
  },
  {
   "cell_type": "code",
   "execution_count": 5,
   "metadata": {},
   "outputs": [],
   "source": [
    "certain_states = ['IA', 'OK', 'MO', 'OK', 'AL', 'LA', 'MS', 'IL', 'IN', 'OH', 'KY', 'TN', 'AR', 'NC', 'SC', 'GA']"
   ]
  },
  {
   "cell_type": "code",
   "execution_count": null,
   "metadata": {},
   "outputs": [],
   "source": [
    "df = dd.read_csv(INFOGROUP_2022[0], dtype=str, encoding='unicode_escape')\n",
    "df.columns = df.columns.str.upper() # force all columns to be uppercase\n",
    "df.head()"
   ]
  },
  {
   "cell_type": "code",
   "execution_count": 7,
   "metadata": {},
   "outputs": [],
   "source": [
    "df_certain_states = df[df['STATE'].isin(certain_states)]"
   ]
  },
  {
   "cell_type": "code",
   "execution_count": 8,
   "metadata": {},
   "outputs": [],
   "source": [
    "df_certain_states = df_certain_states.compute()"
   ]
  },
  {
   "cell_type": "code",
   "execution_count": 9,
   "metadata": {},
   "outputs": [
    {
     "data": {
      "text/plain": [
       "4651574"
      ]
     },
     "execution_count": 9,
     "metadata": {},
     "output_type": "execute_result"
    }
   ],
   "source": [
    "len(df_certain_states)"
   ]
  },
  {
   "cell_type": "code",
   "execution_count": null,
   "metadata": {},
   "outputs": [],
   "source": [
    "df_certain_states['STATE'].value_counts()"
   ]
  },
  {
   "cell_type": "code",
   "execution_count": 11,
   "metadata": {},
   "outputs": [],
   "source": [
    "df_certain_states.to_csv(here.parent / \"data/certain_states.csv\") # save as CSV file"
   ]
  }
 ],
 "metadata": {
  "kernelspec": {
   "display_name": "Python 3",
   "language": "python",
   "name": "python3"
  },
  "language_info": {
   "codemirror_mode": {
    "name": "ipython",
    "version": 3
   },
   "file_extension": ".py",
   "mimetype": "text/x-python",
   "name": "python",
   "nbconvert_exporter": "python",
   "pygments_lexer": "ipython3",
   "version": "3.9.16"
  },
  "orig_nbformat": 4
 },
 "nbformat": 4,
 "nbformat_minor": 2
}
