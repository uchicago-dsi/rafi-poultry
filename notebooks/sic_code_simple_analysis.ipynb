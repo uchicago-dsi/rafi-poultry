{
 "cells": [
  {
   "cell_type": "code",
   "execution_count": 1,
   "metadata": {},
   "outputs": [],
   "source": [
    "import pandas as pd\n",
    "import numpy as np"
   ]
  },
  {
   "cell_type": "code",
   "execution_count": 2,
   "metadata": {},
   "outputs": [],
   "source": [
    "# list of the states we are looking at/interested in\n",
    "states = ['IA', 'OK', 'MO', 'OK', 'AL', 'LA', 'MS', 'IL', 'IN', 'OH', 'KY', 'TN', 'AR', 'NC', 'SC', 'GA']"
   ]
  },
  {
   "cell_type": "code",
   "execution_count": 3,
   "metadata": {},
   "outputs": [],
   "source": [
    "CODE_NUMBER = \"0191\"\n",
    "FILEPATH = \"../data/code_\" + CODE_NUMBER + \".csv\"\n",
    "df = pd.read_csv(FILEPATH)"
   ]
  },
  {
   "cell_type": "code",
   "execution_count": 4,
   "metadata": {},
   "outputs": [
    {
     "data": {
      "text/html": [
       "<div>\n",
       "<style scoped>\n",
       "    .dataframe tbody tr th:only-of-type {\n",
       "        vertical-align: middle;\n",
       "    }\n",
       "\n",
       "    .dataframe tbody tr th {\n",
       "        vertical-align: top;\n",
       "    }\n",
       "\n",
       "    .dataframe thead th {\n",
       "        text-align: right;\n",
       "    }\n",
       "</style>\n",
       "<table border=\"1\" class=\"dataframe\">\n",
       "  <thead>\n",
       "    <tr style=\"text-align: right;\">\n",
       "      <th></th>\n",
       "      <th>Unnamed: 0</th>\n",
       "      <th>COMPANY</th>\n",
       "      <th>ADDRESS LINE 1</th>\n",
       "      <th>CITY</th>\n",
       "      <th>STATE</th>\n",
       "      <th>ZIPCODE</th>\n",
       "      <th>ZIP4</th>\n",
       "      <th>COUNTY CODE</th>\n",
       "      <th>AREA CODE</th>\n",
       "      <th>IDCODE</th>\n",
       "      <th>...</th>\n",
       "      <th>POPULATION CODE</th>\n",
       "      <th>CENSUS TRACT</th>\n",
       "      <th>CENSUS BLOCK</th>\n",
       "      <th>LATITUDE</th>\n",
       "      <th>LONGITUDE</th>\n",
       "      <th>MATCH CODE</th>\n",
       "      <th>CBSA CODE</th>\n",
       "      <th>CBSA LEVEL</th>\n",
       "      <th>CSA CODE</th>\n",
       "      <th>FIPS CODE</th>\n",
       "    </tr>\n",
       "  </thead>\n",
       "  <tbody>\n",
       "    <tr>\n",
       "      <th>0</th>\n",
       "      <td>0</td>\n",
       "      <td>OLD RIVER FARM</td>\n",
       "      <td>50 MILLER RD</td>\n",
       "      <td>MIDDLEFIELD</td>\n",
       "      <td>CT</td>\n",
       "      <td>6455</td>\n",
       "      <td>1229.0</td>\n",
       "      <td>7.0</td>\n",
       "      <td>860</td>\n",
       "      <td>2</td>\n",
       "      <td>...</td>\n",
       "      <td>4</td>\n",
       "      <td>580100</td>\n",
       "      <td>4</td>\n",
       "      <td>41.500023</td>\n",
       "      <td>-72.699730</td>\n",
       "      <td>P</td>\n",
       "      <td>25540</td>\n",
       "      <td>2.0</td>\n",
       "      <td>278</td>\n",
       "      <td>9007</td>\n",
       "    </tr>\n",
       "    <tr>\n",
       "      <th>1</th>\n",
       "      <td>1</td>\n",
       "      <td>FELIX CHAC CHUO FARMS INC</td>\n",
       "      <td>89785 80TH AVE</td>\n",
       "      <td>THERMAL</td>\n",
       "      <td>CA</td>\n",
       "      <td>92274</td>\n",
       "      <td>8906.0</td>\n",
       "      <td>65.0</td>\n",
       "      <td>760</td>\n",
       "      <td>2</td>\n",
       "      <td>...</td>\n",
       "      <td>6</td>\n",
       "      <td>45605</td>\n",
       "      <td>5</td>\n",
       "      <td>33.468129</td>\n",
       "      <td>-116.098759</td>\n",
       "      <td>P</td>\n",
       "      <td>40140</td>\n",
       "      <td>2.0</td>\n",
       "      <td>348</td>\n",
       "      <td>6065</td>\n",
       "    </tr>\n",
       "    <tr>\n",
       "      <th>2</th>\n",
       "      <td>2</td>\n",
       "      <td>C &amp; N PETERSON FARMS INC</td>\n",
       "      <td>30310 455TH AVE</td>\n",
       "      <td>WAKONDA</td>\n",
       "      <td>SD</td>\n",
       "      <td>57073</td>\n",
       "      <td>6300.0</td>\n",
       "      <td>27.0</td>\n",
       "      <td>605</td>\n",
       "      <td>2</td>\n",
       "      <td>...</td>\n",
       "      <td>2</td>\n",
       "      <td>965800</td>\n",
       "      <td>3</td>\n",
       "      <td>42.992997</td>\n",
       "      <td>-97.096458</td>\n",
       "      <td>P</td>\n",
       "      <td>46820</td>\n",
       "      <td>1.0</td>\n",
       "      <td>0</td>\n",
       "      <td>46027</td>\n",
       "    </tr>\n",
       "    <tr>\n",
       "      <th>3</th>\n",
       "      <td>3</td>\n",
       "      <td>E-I-E-I-O FARM LLC</td>\n",
       "      <td>1003 NEWFIELD ST</td>\n",
       "      <td>MIDDLETOWN</td>\n",
       "      <td>CT</td>\n",
       "      <td>6457</td>\n",
       "      <td>1817.0</td>\n",
       "      <td>7.0</td>\n",
       "      <td>860</td>\n",
       "      <td>2</td>\n",
       "      <td>...</td>\n",
       "      <td>7</td>\n",
       "      <td>541200</td>\n",
       "      <td>3</td>\n",
       "      <td>41.586472</td>\n",
       "      <td>-72.674690</td>\n",
       "      <td>P</td>\n",
       "      <td>25540</td>\n",
       "      <td>2.0</td>\n",
       "      <td>278</td>\n",
       "      <td>9007</td>\n",
       "    </tr>\n",
       "    <tr>\n",
       "      <th>4</th>\n",
       "      <td>4</td>\n",
       "      <td>DRAGO INDIANA</td>\n",
       "      <td>6147 N COUNTY ROAD 500 W</td>\n",
       "      <td>MULBERRY</td>\n",
       "      <td>IN</td>\n",
       "      <td>46058</td>\n",
       "      <td>9445.0</td>\n",
       "      <td>23.0</td>\n",
       "      <td>765</td>\n",
       "      <td>2</td>\n",
       "      <td>...</td>\n",
       "      <td>3</td>\n",
       "      <td>950300</td>\n",
       "      <td>3</td>\n",
       "      <td>40.377054</td>\n",
       "      <td>-86.596185</td>\n",
       "      <td>P</td>\n",
       "      <td>23140</td>\n",
       "      <td>1.0</td>\n",
       "      <td>320</td>\n",
       "      <td>18023</td>\n",
       "    </tr>\n",
       "  </tbody>\n",
       "</table>\n",
       "<p>5 rows × 54 columns</p>\n",
       "</div>"
      ],
      "text/plain": [
       "   Unnamed: 0                    COMPANY            ADDRESS LINE 1  \\\n",
       "0           0             OLD RIVER FARM              50 MILLER RD   \n",
       "1           1  FELIX CHAC CHUO FARMS INC            89785 80TH AVE   \n",
       "2           2   C & N PETERSON FARMS INC           30310 455TH AVE   \n",
       "3           3         E-I-E-I-O FARM LLC          1003 NEWFIELD ST   \n",
       "4           4              DRAGO INDIANA  6147 N COUNTY ROAD 500 W   \n",
       "\n",
       "          CITY STATE  ZIPCODE    ZIP4  COUNTY CODE  AREA CODE  IDCODE  ...  \\\n",
       "0  MIDDLEFIELD    CT     6455  1229.0          7.0        860       2  ...   \n",
       "1      THERMAL    CA    92274  8906.0         65.0        760       2  ...   \n",
       "2      WAKONDA    SD    57073  6300.0         27.0        605       2  ...   \n",
       "3   MIDDLETOWN    CT     6457  1817.0          7.0        860       2  ...   \n",
       "4     MULBERRY    IN    46058  9445.0         23.0        765       2  ...   \n",
       "\n",
       "  POPULATION CODE CENSUS TRACT  CENSUS BLOCK   LATITUDE   LONGITUDE  \\\n",
       "0               4       580100             4  41.500023  -72.699730   \n",
       "1               6        45605             5  33.468129 -116.098759   \n",
       "2               2       965800             3  42.992997  -97.096458   \n",
       "3               7       541200             3  41.586472  -72.674690   \n",
       "4               3       950300             3  40.377054  -86.596185   \n",
       "\n",
       "  MATCH CODE  CBSA CODE CBSA LEVEL  CSA CODE FIPS CODE  \n",
       "0          P      25540        2.0       278      9007  \n",
       "1          P      40140        2.0       348      6065  \n",
       "2          P      46820        1.0         0     46027  \n",
       "3          P      25540        2.0       278      9007  \n",
       "4          P      23140        1.0       320     18023  \n",
       "\n",
       "[5 rows x 54 columns]"
      ]
     },
     "execution_count": 4,
     "metadata": {},
     "output_type": "execute_result"
    }
   ],
   "source": [
    "df.head()"
   ]
  },
  {
   "cell_type": "code",
   "execution_count": 7,
   "metadata": {},
   "outputs": [
    {
     "data": {
      "text/plain": [
       "16482"
      ]
     },
     "execution_count": 7,
     "metadata": {},
     "output_type": "execute_result"
    }
   ],
   "source": [
    "len(df)"
   ]
  },
  {
   "cell_type": "code",
   "execution_count": 5,
   "metadata": {},
   "outputs": [
    {
     "data": {
      "text/plain": [
       "array(['IN', 'SC', 'IL', 'OH', 'MO', 'OK', 'NC', 'LA', 'AR', 'MS', 'TN',\n",
       "       'GA', 'IA', 'AL', 'KY'], dtype=object)"
      ]
     },
     "execution_count": 5,
     "metadata": {},
     "output_type": "execute_result"
    }
   ],
   "source": [
    "# trim out irrelevant states\n",
    "df = df[df['STATE'].isin(states)]\n",
    "df['STATE'].unique()"
   ]
  },
  {
   "cell_type": "code",
   "execution_count": 6,
   "metadata": {},
   "outputs": [
    {
     "data": {
      "text/plain": [
       "<Axes: title={'center': 'Number of Businesses (SIC Code 0191) by State'}, xlabel='STATE', ylabel='Count'>"
      ]
     },
     "execution_count": 6,
     "metadata": {},
     "output_type": "execute_result"
    },
    {
     "data": {
      "image/png": "[encoded data removed]",
      "text/plain": [
       "<Figure size 640x480 with 1 Axes>"
      ]
     },
     "metadata": {},
     "output_type": "display_data"
    }
   ],
   "source": [
    "df['STATE'].value_counts().plot(kind='bar', ylabel=\"Count\", title=\"Number of Businesses (SIC Code 0191) by State\")"
   ]
  },
  {
   "cell_type": "code",
   "execution_count": 9,
   "metadata": {},
   "outputs": [
    {
     "data": {
      "text/plain": [
       "SIC6_DESCRIPTIONS\n",
       "FARMS                                    14285\n",
       "GENERAL FARMS-PRIMARILY CROP               780\n",
       "APPLIANCES-HOUSEHOLD-MAJOR-REPAIRING        71\n",
       "ORGANIC FARMS                               50\n",
       "TRUCKING                                    43\n",
       "                                         ...  \n",
       "CHEMICALS-RETAIL                             1\n",
       "CUT STONE & STONE PRODUCTS (MFRS)            1\n",
       "FEED MILL EQUIPMENT & SUPPLIES (MFRS)        1\n",
       "PAINT-RETAIL                                 1\n",
       "CORRECTIONAL INSTITUTIONS-PRIVATE            1\n",
       "Name: count, Length: 366, dtype: int64"
      ]
     },
     "execution_count": 9,
     "metadata": {},
     "output_type": "execute_result"
    }
   ],
   "source": [
    "df['SIC6_DESCRIPTIONS'].value_counts()"
   ]
  }
 ],
 "metadata": {
  "kernelspec": {
   "display_name": "Python 3",
   "language": "python",
   "name": "python3"
  },
  "language_info": {
   "codemirror_mode": {
    "name": "ipython",
    "version": 3
   },
   "file_extension": ".py",
   "mimetype": "text/x-python",
   "name": "python",
   "nbconvert_exporter": "python",
   "pygments_lexer": "ipython3",
   "version": "3.9.7"
  },
  "orig_nbformat": 4
 },
 "nbformat": 4,
 "nbformat_minor": 2
}
