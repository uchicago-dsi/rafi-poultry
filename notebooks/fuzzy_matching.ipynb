{
 "cells": [
  {
   "cell_type": "code",
   "execution_count": 5,
   "id": "d9b17ab0",
   "metadata": {},
   "outputs": [],
   "source": [
    "import numpy as np\n",
    "import pandas as pd"
   ]
  },
  {
   "cell_type": "markdown",
   "id": "5c5a6c0f",
   "metadata": {},
   "source": [
    "# Input Data and Quick Cleaning"
   ]
  },
  {
   "cell_type": "code",
   "execution_count": 12,
   "id": "1d50660f",
   "metadata": {
    "scrolled": true
   },
   "outputs": [],
   "source": [
    "fsis_df = pd.read_csv(\"../data/clean/fsis_cleaned_vWeek3.csv\")\n",
    "nets_df = pd.read_csv(\"../data/clean/nets_cleaned_vWeek3.csv\")"
   ]
  },
  {
   "cell_type": "code",
   "execution_count": 13,
   "id": "00f0cc9d",
   "metadata": {
    "scrolled": false
   },
   "outputs": [],
   "source": [
    "fsis_df_cleaned = fsis_df.drop(columns=[\"DBAs\",\"LatestMPIActiveDate\",\n",
    "                                        \"GrantDate\"])\n",
    "fsis_df_cleaned = fsis_df_cleaned[fsis_df_cleaned[\"Activities\"].str.contains(\"Poultry Processing\")].copy()\n",
    "#fsis_df_cleaned = fsis_df_cleaned[fsis_df_cleaned[\"Chicken\\nSlaughter\"].notnull()]"
   ]
  },
  {
   "cell_type": "markdown",
   "id": "eaddb6bf",
   "metadata": {},
   "source": [
    "# Fuzzy Matching"
   ]
  },
  {
   "cell_type": "code",
   "execution_count": 14,
   "id": "19c40a06",
   "metadata": {},
   "outputs": [
    {
     "name": "stderr",
     "output_type": "stream",
     "text": [
      "/Users/colin/opt/anaconda3/lib/python3.9/site-packages/fuzzywuzzy/fuzz.py:11: UserWarning: Using slow pure-python SequenceMatcher. Install python-Levenshtein to remove this warning\n",
      "  warnings.warn('Using slow pure-python SequenceMatcher. Install python-Levenshtein to remove this warning')\n"
     ]
    }
   ],
   "source": [
    "from fuzzywuzzy import fuzz\n",
    "from concurrent.futures import ThreadPoolExecutor\n",
    "from tqdm import tqdm as tqdm_progress"
   ]
  },
  {
   "cell_type": "code",
   "execution_count": 15,
   "id": "bbbf6fd2",
   "metadata": {},
   "outputs": [],
   "source": [
    "# The function takes in the fsis and nets datasets and uses fuzzy matching on address to add in\n",
    "# parent company and sales information from the nets dataset to the fsis dataset\n",
    "\n",
    "def find_best_match(df_fsis, df_nets, fuzz_ratio: float=75):\n",
    "    df_fsis[\"Parent Company\"] = np.NaN\n",
    "    df_fsis[\"Sales\"] = np.NaN\n",
    "\n",
    "    for i, fsis in tqdm_progress(df_fsis.iterrows(), total=len(df_fsis)):\n",
    "        fsis_address = fsis[\"Full Address\"].lower()\n",
    "        for k, nets in df_nets.iterrows():\n",
    "            nets_address = nets[\"ADDRESS\"]\n",
    "            if fuzz.token_sort_ratio(nets_address, fsis_address) > fuzz_ratio:\n",
    "                df_fsis.loc[i, \"Parent Company\"] = nets[\"PARENT COMPANY\"]\n",
    "                df_fsis.loc[i, \"Sales\"] = nets[\"SALESHERE\"]\n",
    "                break\n",
    "\n",
    "    return df_fsis"
   ]
  },
  {
   "cell_type": "code",
   "execution_count": 16,
   "id": "cccc7a8f",
   "metadata": {},
   "outputs": [],
   "source": [
    "# The function takes in the fsis and nets datasets and uses fuzzy matching on address to add in\n",
    "# parent company and sales information from the nets dataset to the fsis dataset\n",
    "# This function utilizes multi-threading to speed up the process of iterating through the datasets for matches\n",
    "\n",
    "def find_best_match_threaded(df_fsis, df_nets, fuzz_ratio: float=75, num_threads: int=4):\n",
    "    df_fsis[\"Parent Company\"] = np.NaN\n",
    "    df_fsis[\"Sales\"] = np.NaN\n",
    "\n",
    "    def find_match(i, df_fsis, df_nets):\n",
    "        fsis_address = df_fsis.at[i, \"Full Address\"].lower()\n",
    "        for k, nets in df_nets.iterrows():\n",
    "            nets_address = nets[\"ADDRESS\"]\n",
    "            if fuzz.token_sort_ratio(nets_address, fsis_address) > fuzz_ratio:\n",
    "                return i, {\n",
    "                    \"Parent Company\": nets[\"PARENT COMPANY\"],\n",
    "                    \"Sales\": nets[\"SALESHERE\"]\n",
    "                }\n",
    "        return i, {}\n",
    "\n",
    "    # Create a ThreadPoolExecutor\n",
    "    with ThreadPoolExecutor(max_workers=num_threads) as executor:\n",
    "        results = list(tqdm_progress(executor.map(find_match, df_fsis.index, [df_fsis]*len(df_fsis), [df_nets]*len(df_fsis), chunksize=1), total=len(df_fsis)))\n",
    "\n",
    "    # Update the DataFrame with the results\n",
    "    for i, result in results:\n",
    "        if result:\n",
    "            df_fsis.at[i, \"Parent Company\"] = result[\"Parent Company\"]\n",
    "            df_fsis.at[i, \"Sales\"] = result[\"Sales\"]\n",
    "\n",
    "    return df_fsis"
   ]
  },
  {
   "cell_type": "code",
   "execution_count": 17,
   "id": "93fa0fda",
   "metadata": {
    "scrolled": true
   },
   "outputs": [
    {
     "name": "stderr",
     "output_type": "stream",
     "text": [
      "  0%|          | 9/4189 [00:03<24:14,  2.87it/s]\n"
     ]
    },
    {
     "ename": "KeyboardInterrupt",
     "evalue": "",
     "output_type": "error",
     "traceback": [
      "\u001b[0;31m---------------------------------------------------------------------------\u001b[0m",
      "\u001b[0;31mKeyboardInterrupt\u001b[0m                         Traceback (most recent call last)",
      "\u001b[1;32m/Users/colin/Desktop/Data Science Clinic/rafi-poultry/notebooks/fuzzy_matching.ipynb Cell 9\u001b[0m line \u001b[0;36m<cell line: 1>\u001b[0;34m()\u001b[0m\n\u001b[0;32m----> <a href='vscode-notebook-cell:/Users/colin/Desktop/Data%20Science%20Clinic/rafi-poultry/notebooks/fuzzy_matching.ipynb#X11sZmlsZQ%3D%3D?line=0'>1</a>\u001b[0m df \u001b[39m=\u001b[39m find_best_match(fsis_df_cleaned, nets_df)\n\u001b[1;32m      <a href='vscode-notebook-cell:/Users/colin/Desktop/Data%20Science%20Clinic/rafi-poultry/notebooks/fuzzy_matching.ipynb#X11sZmlsZQ%3D%3D?line=1'>2</a>\u001b[0m df\u001b[39m.\u001b[39mhead(\u001b[39m2\u001b[39m)\n",
      "\u001b[1;32m/Users/colin/Desktop/Data Science Clinic/rafi-poultry/notebooks/fuzzy_matching.ipynb Cell 9\u001b[0m line \u001b[0;36mfind_best_match\u001b[0;34m(df_fsis, df_nets, fuzz_ratio)\u001b[0m\n\u001b[1;32m      <a href='vscode-notebook-cell:/Users/colin/Desktop/Data%20Science%20Clinic/rafi-poultry/notebooks/fuzzy_matching.ipynb#X11sZmlsZQ%3D%3D?line=7'>8</a>\u001b[0m \u001b[39mfor\u001b[39;00m i, fsis \u001b[39min\u001b[39;00m tqdm_progress(df_fsis\u001b[39m.\u001b[39miterrows(), total\u001b[39m=\u001b[39m\u001b[39mlen\u001b[39m(df_fsis)):\n\u001b[1;32m      <a href='vscode-notebook-cell:/Users/colin/Desktop/Data%20Science%20Clinic/rafi-poultry/notebooks/fuzzy_matching.ipynb#X11sZmlsZQ%3D%3D?line=8'>9</a>\u001b[0m     fsis_address \u001b[39m=\u001b[39m fsis[\u001b[39m\"\u001b[39m\u001b[39mFull Address\u001b[39m\u001b[39m\"\u001b[39m]\u001b[39m.\u001b[39mlower()\n\u001b[0;32m---> <a href='vscode-notebook-cell:/Users/colin/Desktop/Data%20Science%20Clinic/rafi-poultry/notebooks/fuzzy_matching.ipynb#X11sZmlsZQ%3D%3D?line=9'>10</a>\u001b[0m     \u001b[39mfor\u001b[39;00m k, nets \u001b[39min\u001b[39;00m df_nets\u001b[39m.\u001b[39miterrows():\n\u001b[1;32m     <a href='vscode-notebook-cell:/Users/colin/Desktop/Data%20Science%20Clinic/rafi-poultry/notebooks/fuzzy_matching.ipynb#X11sZmlsZQ%3D%3D?line=10'>11</a>\u001b[0m         nets_address \u001b[39m=\u001b[39m nets[\u001b[39m\"\u001b[39m\u001b[39mADDRESS\u001b[39m\u001b[39m\"\u001b[39m]\n\u001b[1;32m     <a href='vscode-notebook-cell:/Users/colin/Desktop/Data%20Science%20Clinic/rafi-poultry/notebooks/fuzzy_matching.ipynb#X11sZmlsZQ%3D%3D?line=11'>12</a>\u001b[0m         \u001b[39mif\u001b[39;00m fuzz\u001b[39m.\u001b[39mtoken_sort_ratio(nets_address, fsis_address) \u001b[39m>\u001b[39m fuzz_ratio:\n",
      "File \u001b[0;32m~/opt/anaconda3/lib/python3.9/site-packages/pandas/core/frame.py:1410\u001b[0m, in \u001b[0;36mDataFrame.iterrows\u001b[0;34m(self)\u001b[0m\n\u001b[1;32m   1408\u001b[0m klass \u001b[39m=\u001b[39m \u001b[39mself\u001b[39m\u001b[39m.\u001b[39m_constructor_sliced\n\u001b[1;32m   1409\u001b[0m \u001b[39mfor\u001b[39;00m k, v \u001b[39min\u001b[39;00m \u001b[39mzip\u001b[39m(\u001b[39mself\u001b[39m\u001b[39m.\u001b[39mindex, \u001b[39mself\u001b[39m\u001b[39m.\u001b[39mvalues):\n\u001b[0;32m-> 1410\u001b[0m     s \u001b[39m=\u001b[39m klass(v, index\u001b[39m=\u001b[39;49mcolumns, name\u001b[39m=\u001b[39;49mk)\u001b[39m.\u001b[39m__finalize__(\u001b[39mself\u001b[39m)\n\u001b[1;32m   1411\u001b[0m     \u001b[39myield\u001b[39;00m k, s\n",
      "File \u001b[0;32m~/opt/anaconda3/lib/python3.9/site-packages/pandas/core/series.py:470\u001b[0m, in \u001b[0;36mSeries.__init__\u001b[0;34m(self, data, index, dtype, name, copy, fastpath)\u001b[0m\n\u001b[1;32m    468\u001b[0m         data \u001b[39m=\u001b[39m data\u001b[39m.\u001b[39mcopy()\n\u001b[1;32m    469\u001b[0m \u001b[39melse\u001b[39;00m:\n\u001b[0;32m--> 470\u001b[0m     data \u001b[39m=\u001b[39m sanitize_array(data, index, dtype, copy)\n\u001b[1;32m    472\u001b[0m     manager \u001b[39m=\u001b[39m get_option(\u001b[39m\"\u001b[39m\u001b[39mmode.data_manager\u001b[39m\u001b[39m\"\u001b[39m)\n\u001b[1;32m    473\u001b[0m     \u001b[39mif\u001b[39;00m manager \u001b[39m==\u001b[39m \u001b[39m\"\u001b[39m\u001b[39mblock\u001b[39m\u001b[39m\"\u001b[39m:\n",
      "\u001b[0;31mKeyboardInterrupt\u001b[0m: "
     ]
    }
   ],
   "source": [
    "# Utilizing the multi-threading does not speed up performance\n",
    "\n",
    "df = find_best_match(fsis_df_cleaned, nets_df)\n",
    "df.head(2)"
   ]
  },
  {
   "cell_type": "code",
   "execution_count": null,
   "id": "7b87fb4f",
   "metadata": {
    "scrolled": true
   },
   "outputs": [],
   "source": [
    "print(df.isna().sum())\n",
    "print(df.shape[0])\n",
    "print(df[\"Parent Company\"].value_counts())"
   ]
  },
  {
   "cell_type": "code",
   "execution_count": 13,
   "id": "e1943675",
   "metadata": {},
   "outputs": [],
   "source": [
    "df_vF = df[df.Sales.notnull()]"
   ]
  },
  {
   "cell_type": "code",
   "execution_count": 14,
   "id": "032c4ee6",
   "metadata": {},
   "outputs": [],
   "source": [
    "df_vF.to_csv(\"output/cleaned_matched_plants_v3.csv\")"
   ]
  },
  {
   "cell_type": "code",
   "execution_count": null,
   "id": "27fb911e",
   "metadata": {},
   "outputs": [],
   "source": []
  }
 ],
 "metadata": {
  "kernelspec": {
   "display_name": "Python 3 (ipykernel)",
   "language": "python",
   "name": "python3"
  },
  "language_info": {
   "codemirror_mode": {
    "name": "ipython",
    "version": 3
   },
   "file_extension": ".py",
   "mimetype": "text/x-python",
   "name": "python",
   "nbconvert_exporter": "python",
   "pygments_lexer": "ipython3",
   "version": "3.9.12"
  }
 },
 "nbformat": 4,
 "nbformat_minor": 5
}
