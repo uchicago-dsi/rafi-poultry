{
 "cells": [
  {
   "attachments": {},
   "cell_type": "markdown",
   "metadata": {},
   "source": [
    "# EDA of Infogroup Datasets\n",
    "#### We use this data"
   ]
  },
  {
   "cell_type": "code",
   "execution_count": 82,
   "metadata": {},
   "outputs": [],
   "source": [
    "import pandas as pd\n",
    "import numpy as np\n",
    "import matplotlib.pyplot as plt\n",
    "import clean"
   ]
  },
  {
   "cell_type": "code",
   "execution_count": 83,
   "metadata": {},
   "outputs": [
    {
     "name": "stdout",
     "output_type": "stream",
     "text": [
      "This dataframe has 720 rows\n",
      "The column data types of the variables in this DF are\n",
      " Unnamed: 0                        int64\n",
      "COMPANY                          object\n",
      "ADDRESS LINE 1                   object\n",
      "CITY                             object\n",
      "STATE                            object\n",
      "ZIPCODE                         float64\n",
      "ZIP4                            float64\n",
      "COUNTY CODE                     float64\n",
      "AREA CODE                         int64\n",
      "IDCODE                            int64\n",
      "LOCATION EMPLOYEE SIZE CODE      object\n",
      "LOCATION SALES VOLUME CODE       object\n",
      "PRIMARY SIC CODE                  int64\n",
      "SIC6_DESCRIPTIONS                object\n",
      "PRIMARY NAICS CODE              float64\n",
      "NAICS8 DESCRIPTIONS              object\n",
      "SIC CODE                        float64\n",
      "SIC6_DESCRIPTIONS (SIC)          object\n",
      "SIC CODE 1                      float64\n",
      "SIC6_DESCRIPTIONS (SIC1)         object\n",
      "SIC CODE 2                      float64\n",
      "SIC6_DESCRIPTIONS(SIC2)          object\n",
      "SIC CODE 3                      float64\n",
      "SIC6_DESCRIPTIONS(SIC3)          object\n",
      "SIC CODE 4                      float64\n",
      "SIC6_DESCRIPTIONS(SIC4)          object\n",
      "ARCHIVE VERSION YEAR              int64\n",
      "YELLOW PAGE CODE                float64\n",
      "EMPLOYEE SIZE (5) - LOCATION    float64\n",
      "SALES VOLUME (9) - LOCATION     float64\n",
      "BUSINESS STATUS CODE              int64\n",
      "INDUSTRY SPECIFIC FIRST BYTE    float64\n",
      "YEAR ESTABLISHED                float64\n",
      "OFFICE SIZE CODE                float64\n",
      "COMPANY HOLDING STATUS          float64\n",
      "ABI                               int64\n",
      "SUBSIDIARY NUMBER               float64\n",
      "PARENT NUMBER                   float64\n",
      "PARENT ACTUAL EMPLOYEE SIZE     float64\n",
      "PARENT ACTUAL SALES VOLUME      float64\n",
      "PARENT EMPLOYEE SIZE CODE        object\n",
      "PARENT SALES VOLUME CODE         object\n",
      "SITE NUMBER                     float64\n",
      "ADDRESS TYPE INDICATOR           object\n",
      "POPULATION CODE                   int64\n",
      "CENSUS TRACT                    float64\n",
      "CENSUS BLOCK                    float64\n",
      "LATITUDE                        float64\n",
      "LONGITUDE                       float64\n",
      "MATCH CODE                       object\n",
      "CBSA CODE                       float64\n",
      "CBSA LEVEL                      float64\n",
      "CSA CODE                        float64\n",
      "FIPS CODE                       float64\n",
      "dtype: object\n"
     ]
    }
   ],
   "source": [
    "info_2022 = pd.read_csv(\"../data/raw/infogroup/poultry_plants_2022.csv\")\n",
    "print(\"This dataframe has\", len(info_2022), \"rows\")\n",
    "print(\"The column data types of the variables in this DF are\\n\", info_2022.dtypes)"
   ]
  },
  {
   "attachments": {},
   "cell_type": "markdown",
   "metadata": {},
   "source": [
    "## To clean the infogroup dataset, we:\n",
    "#### Made a large dataframe that contained each individual year's dataset, from 1997 to 2022, standardized column names to be all uppercase, turned NaNs to 0s, and turned float64 categorical variables (such as YEAR ESTABLISHED) into int64s"
   ]
  },
  {
   "cell_type": "code",
   "execution_count": 84,
   "metadata": {},
   "outputs": [
    {
     "data": {
      "text/html": [
       "<div>\n",
       "<style scoped>\n",
       "    .dataframe tbody tr th:only-of-type {\n",
       "        vertical-align: middle;\n",
       "    }\n",
       "\n",
       "    .dataframe tbody tr th {\n",
       "        vertical-align: top;\n",
       "    }\n",
       "\n",
       "    .dataframe thead th {\n",
       "        text-align: right;\n",
       "    }\n",
       "</style>\n",
       "<table border=\"1\" class=\"dataframe\">\n",
       "  <thead>\n",
       "    <tr style=\"text-align: right;\">\n",
       "      <th></th>\n",
       "      <th>Unnamed: 0</th>\n",
       "    </tr>\n",
       "  </thead>\n",
       "  <tbody>\n",
       "  </tbody>\n",
       "</table>\n",
       "</div>"
      ],
      "text/plain": [
       "Empty DataFrame\n",
       "Columns: [Unnamed: 0]\n",
       "Index: []"
      ]
     },
     "execution_count": 84,
     "metadata": {},
     "output_type": "execute_result"
    }
   ],
   "source": [
    "clean.clean_infogroup(\"../data/raw/infogroup/*.csv\")\n",
    "df = pd.read_csv(\"../data/clean/cleaned_infogroup_plants_all_time.csv\")\n",
    "df.head()"
   ]
  },
  {
   "cell_type": "code",
   "execution_count": null,
   "metadata": {},
   "outputs": [],
   "source": []
  },
  {
   "cell_type": "code",
   "execution_count": null,
   "metadata": {},
   "outputs": [],
   "source": []
  },
  {
   "cell_type": "code",
   "execution_count": null,
   "metadata": {},
   "outputs": [],
   "source": []
  }
 ],
 "metadata": {
  "kernelspec": {
   "display_name": "base",
   "language": "python",
   "name": "python3"
  },
  "language_info": {
   "codemirror_mode": {
    "name": "ipython",
    "version": 3
   },
   "file_extension": ".py",
   "mimetype": "text/x-python",
   "name": "python",
   "nbconvert_exporter": "python",
   "pygments_lexer": "ipython3",
   "version": "3.9.16"
  },
  "orig_nbformat": 4
 },
 "nbformat": 4,
 "nbformat_minor": 2
}
