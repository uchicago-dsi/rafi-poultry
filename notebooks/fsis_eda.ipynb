{
 "cells": [
  {
   "attachments": {},
   "cell_type": "markdown",
   "metadata": {},
   "source": [
    "### Exploratory Data Analysis of FSIS Processing Plant Data\n",
    "\n",
    "This notebook analyzes the meat inspection plant records from FSIS by type, location, and parent corporation."
   ]
  },
  {
   "cell_type": "code",
   "execution_count": 1,
   "metadata": {},
   "outputs": [],
   "source": [
    "import pandas as pd\n",
    "import numpy as np"
   ]
  },
  {
   "cell_type": "code",
   "execution_count": 2,
   "metadata": {},
   "outputs": [
    {
     "data": {
      "text/html": [
       "<div>\n",
       "<style scoped>\n",
       "    .dataframe tbody tr th:only-of-type {\n",
       "        vertical-align: middle;\n",
       "    }\n",
       "\n",
       "    .dataframe tbody tr th {\n",
       "        vertical-align: top;\n",
       "    }\n",
       "\n",
       "    .dataframe thead th {\n",
       "        text-align: right;\n",
       "    }\n",
       "</style>\n",
       "<table border=\"1\" class=\"dataframe\">\n",
       "  <thead>\n",
       "    <tr style=\"text-align: right;\">\n",
       "      <th></th>\n",
       "      <th>Unnamed: 0</th>\n",
       "      <th>EstNumber</th>\n",
       "      <th>EstID</th>\n",
       "      <th>Parent Corporation</th>\n",
       "      <th>Establishment Name</th>\n",
       "      <th>State</th>\n",
       "      <th>Size</th>\n",
       "      <th>Animals Processed</th>\n",
       "      <th>Processed\\nVolume\\nCategory</th>\n",
       "      <th>Slaughter\\nVolume\\nCategory</th>\n",
       "      <th>Full Address</th>\n",
       "      <th>latitude</th>\n",
       "      <th>longitude</th>\n",
       "    </tr>\n",
       "  </thead>\n",
       "  <tbody>\n",
       "    <tr>\n",
       "      <th>0</th>\n",
       "      <td>0</td>\n",
       "      <td>M267</td>\n",
       "      <td>4802</td>\n",
       "      <td>JBS</td>\n",
       "      <td>JBS Tolleson Inc.</td>\n",
       "      <td>AZ</td>\n",
       "      <td>Large</td>\n",
       "      <td>Beef</td>\n",
       "      <td>5.0</td>\n",
       "      <td>4.0</td>\n",
       "      <td>651 S. 91st Ave, Tolleson, AZ 85353</td>\n",
       "      <td>33.441660</td>\n",
       "      <td>-112.252559</td>\n",
       "    </tr>\n",
       "    <tr>\n",
       "      <th>1</th>\n",
       "      <td>1</td>\n",
       "      <td>M354</td>\n",
       "      <td>5117</td>\n",
       "      <td>Cargill</td>\n",
       "      <td>Cargill Meat Solutions</td>\n",
       "      <td>CA</td>\n",
       "      <td>Large</td>\n",
       "      <td>Beef</td>\n",
       "      <td>5.0</td>\n",
       "      <td>4.0</td>\n",
       "      <td>3115 S. Fig Ave., Fresno, CA 93706</td>\n",
       "      <td>36.689651</td>\n",
       "      <td>-119.801950</td>\n",
       "    </tr>\n",
       "    <tr>\n",
       "      <th>2</th>\n",
       "      <td>2</td>\n",
       "      <td>M6063A</td>\n",
       "      <td>5289</td>\n",
       "      <td>Central Valley Meat Company</td>\n",
       "      <td>Central Valley Meat Co., Inc.</td>\n",
       "      <td>CA</td>\n",
       "      <td>Large</td>\n",
       "      <td>Beef</td>\n",
       "      <td>5.0</td>\n",
       "      <td>4.0</td>\n",
       "      <td>10431 8 3/4 Ave., Hanford, CA 93230</td>\n",
       "      <td>36.321273</td>\n",
       "      <td>-119.612222</td>\n",
       "    </tr>\n",
       "    <tr>\n",
       "      <th>3</th>\n",
       "      <td>3</td>\n",
       "      <td>M783 + P783 + V783</td>\n",
       "      <td>5144</td>\n",
       "      <td>Central Valley Meat Company</td>\n",
       "      <td>Harris Ranch Beef Company</td>\n",
       "      <td>CA</td>\n",
       "      <td>Large</td>\n",
       "      <td>Beef</td>\n",
       "      <td>5.0</td>\n",
       "      <td>4.0</td>\n",
       "      <td>16277 S McCall Ave., Selma, CA 93662</td>\n",
       "      <td>36.499212</td>\n",
       "      <td>-119.614553</td>\n",
       "    </tr>\n",
       "    <tr>\n",
       "      <th>4</th>\n",
       "      <td>4</td>\n",
       "      <td>M21488 + V21488</td>\n",
       "      <td>8349</td>\n",
       "      <td>Independent</td>\n",
       "      <td>OWB Packers LLC</td>\n",
       "      <td>CA</td>\n",
       "      <td>Large</td>\n",
       "      <td>Beef</td>\n",
       "      <td>4.0</td>\n",
       "      <td>4.0</td>\n",
       "      <td>57 East Shank Road, Brawley, CA 92227</td>\n",
       "      <td>33.000969</td>\n",
       "      <td>-115.521786</td>\n",
       "    </tr>\n",
       "  </tbody>\n",
       "</table>\n",
       "</div>"
      ],
      "text/plain": [
       "   Unnamed: 0           EstNumber  EstID           Parent Corporation  \\\n",
       "0           0                M267   4802                          JBS   \n",
       "1           1                M354   5117                      Cargill   \n",
       "2           2              M6063A   5289  Central Valley Meat Company   \n",
       "3           3  M783 + P783 + V783   5144  Central Valley Meat Company   \n",
       "4           4     M21488 + V21488   8349                  Independent   \n",
       "\n",
       "              Establishment Name State   Size Animals Processed  \\\n",
       "0              JBS Tolleson Inc.    AZ  Large              Beef   \n",
       "1         Cargill Meat Solutions    CA  Large              Beef   \n",
       "2  Central Valley Meat Co., Inc.    CA  Large              Beef   \n",
       "3      Harris Ranch Beef Company    CA  Large              Beef   \n",
       "4                OWB Packers LLC    CA  Large              Beef   \n",
       "\n",
       "   Processed\\nVolume\\nCategory  Slaughter\\nVolume\\nCategory  \\\n",
       "0                          5.0                          4.0   \n",
       "1                          5.0                          4.0   \n",
       "2                          5.0                          4.0   \n",
       "3                          5.0                          4.0   \n",
       "4                          4.0                          4.0   \n",
       "\n",
       "                            Full Address   latitude   longitude  \n",
       "0    651 S. 91st Ave, Tolleson, AZ 85353  33.441660 -112.252559  \n",
       "1     3115 S. Fig Ave., Fresno, CA 93706  36.689651 -119.801950  \n",
       "2    10431 8 3/4 Ave., Hanford, CA 93230  36.321273 -119.612222  \n",
       "3   16277 S McCall Ave., Selma, CA 93662  36.499212 -119.614553  \n",
       "4  57 East Shank Road, Brawley, CA 92227  33.000969 -115.521786  "
      ]
     },
     "execution_count": 2,
     "metadata": {},
     "output_type": "execute_result"
    }
   ],
   "source": [
    "fsis_raw = pd.read_csv(\"../data/raw/fsis-processors-with-location.csv\")\n",
    "fsis_raw.head()"
   ]
  },
  {
   "attachments": {},
   "cell_type": "markdown",
   "metadata": {},
   "source": [
    "#### Looking at types, sizes, and location distribution of plants"
   ]
  },
  {
   "cell_type": "code",
   "execution_count": 3,
   "metadata": {},
   "outputs": [
    {
     "name": "stdout",
     "output_type": "stream",
     "text": [
      "There are 1149 plants in this dataset.\n"
     ]
    },
    {
     "data": {
      "text/plain": [
       "Animals Processed\n",
       "Beef,Pork,Sheep/Lamb                   420\n",
       "Chicken                                184\n",
       "Beef                                   141\n",
       "Pork                                   107\n",
       "Beef,Pork                               92\n",
       "Beef,Sheep/Lamb                         66\n",
       "Turkey                                  39\n",
       "Chicken,Turkey                          29\n",
       "Turkey,Chicken                          21\n",
       "Sheep/Lamb                              17\n",
       "Beef,Pork,Chicken,Turkey,Sheep/Lamb     11\n",
       "Beef,Pork,Sheep/Lamb,Chicken,Turkey      5\n",
       "Sheep/Lamb,Pork                          5\n",
       "Beef,Pork,Chicken,Turkey                 3\n",
       "Pork,Sheep/Lamb                          3\n",
       "Beef,Pork,Sheep/Lamb,Chicken             2\n",
       "Beef,Chicken,Turkey                      1\n",
       "Pork,Turkey                              1\n",
       "Sheep/Lamb,Pork,Chicken,Turkey           1\n",
       "Beef,Sheep/Lamb,Chicken,Turkey           1\n",
       "Name: count, dtype: int64"
      ]
     },
     "execution_count": 3,
     "metadata": {},
     "output_type": "execute_result"
    }
   ],
   "source": [
    "print(\"There are\", len(fsis_raw), \"plants in this dataset.\")\n",
    "fsis_raw[\"Animals Processed\"].value_counts()"
   ]
  },
  {
   "cell_type": "code",
   "execution_count": 4,
   "metadata": {},
   "outputs": [
    {
     "name": "stdout",
     "output_type": "stream",
     "text": [
      "There are 661 combination processing plants in this dataset\n",
      "The most common combination plant produces Beef, Pork, and Sheep\n",
      "Animals Processed\n",
      "Beef,Pork,Sheep/Lamb                   420\n",
      "Beef,Pork                               92\n",
      "Beef,Sheep/Lamb                         66\n",
      "Chicken,Turkey                          29\n",
      "Turkey,Chicken                          21\n",
      "Beef,Pork,Chicken,Turkey,Sheep/Lamb     11\n",
      "Beef,Pork,Sheep/Lamb,Chicken,Turkey      5\n",
      "Sheep/Lamb,Pork                          5\n",
      "Beef,Pork,Chicken,Turkey                 3\n",
      "Pork,Sheep/Lamb                          3\n",
      "Beef,Pork,Sheep/Lamb,Chicken             2\n",
      "Beef,Chicken,Turkey                      1\n",
      "Pork,Turkey                              1\n",
      "Sheep/Lamb,Pork,Chicken,Turkey           1\n",
      "Beef,Sheep/Lamb,Chicken,Turkey           1\n",
      "Name: count, dtype: int64\n",
      "There are 217 plants that process 2 types of animals\n",
      "There are 487 plants that process 3 types of animals\n",
      "There are 23 plants that process 4+ types of animals\n"
     ]
    }
   ],
   "source": [
    "just_combination = fsis_raw[fsis_raw[\"Animals Processed\"].str.contains(\",\")]\n",
    "print(\"There are\", len(just_combination), \"combination processing plants in this dataset\")\n",
    "print(\"The most common combination plant produces Beef, Pork, and Sheep\")\n",
    "print(just_combination[\"Animals Processed\"].value_counts())\n",
    "\n",
    "x = 420 + 66 + 1\n",
    "y = 92 + 66 + 29 + 21 + 5 + 3 + 1\n",
    "z = 11 + 5 + 3 + 2 + 1 + 1\n",
    "print(\"There are\", y, \"plants that process 2 types of animals\")\n",
    "print (\"There are\", x, \"plants that process 3 types of animals\")\n",
    "print (\"There are\", z, \"plants that process 4+ types of animals\")"
   ]
  },
  {
   "cell_type": "code",
   "execution_count": 5,
   "metadata": {},
   "outputs": [
    {
     "name": "stdout",
     "output_type": "stream",
     "text": [
      "The total number of plants that process this type of animal are:\n",
      "{'Beef': 742, 'Pork': 650, 'Sheep/Lamb': 531, 'Chicken': 258, 'Turkey': 112}\n",
      "This analysis has shown us that the majority of plants that process lamb and turkey are combination. There are roughly 100-200 more plants that process Chicken, Beef, and Pork individually than combination plants.\n"
     ]
    }
   ],
   "source": [
    "animals = [\"Beef\", \"Pork\", \"Sheep/Lamb\", \"Chicken\", \"Turkey\"]\n",
    "distrib = {}\n",
    "\n",
    "for animal in animals:\n",
    "    fsis_raw[animal] = fsis_raw['Animals Processed'].str.contains(animal).astype(int)\n",
    "    distrib[animal] = sum(fsis_raw[animal])\n",
    "\n",
    "print(\"The total number of plants that process this type of animal are:\")\n",
    "print(distrib)\n",
    "\n",
    "print(\"This analysis has shown us that the majority of plants that process lamb and turkey are combination. There are roughly 100-200 more plants that process Chicken, Beef, and Pork individually than combination plants.\")"
   ]
  },
  {
   "cell_type": "code",
   "execution_count": 6,
   "metadata": {},
   "outputs": [
    {
     "name": "stdout",
     "output_type": "stream",
     "text": [
      "            Beef  Chicken  Pork  Sheep/Lamb  Turkey\n",
      "Size                                               \n",
      "Large         41      138    31           0      22\n",
      "Small        156       61   144          99      36\n",
      "Very Small   545       59   475         432      54\n",
      "Size\n",
      "Very Small    630\n",
      "Small         289\n",
      "Large         230\n",
      "Name: count, dtype: int64\n"
     ]
    }
   ],
   "source": [
    "print(fsis_raw.pivot_table(values=animals, index=\"Size\", aggfunc=\"sum\"))\n",
    "print(fsis_raw[\"Size\"].value_counts())"
   ]
  },
  {
   "attachments": {},
   "cell_type": "markdown",
   "metadata": {},
   "source": [
    "#### Examining Market Consolidation\n",
    "\n",
    "The following cells visualize the distribution of the parent corporations of processing plants."
   ]
  },
  {
   "cell_type": "code",
   "execution_count": 7,
   "metadata": {},
   "outputs": [
    {
     "data": {
      "text/plain": [
       "33"
      ]
     },
     "execution_count": 7,
     "metadata": {},
     "output_type": "execute_result"
    },
    {
     "data": {
      "image/png": "[encoded data removed]",
      "text/plain": [
       "<Figure size 640x480 with 1 Axes>"
      ]
     },
     "metadata": {},
     "output_type": "display_data"
    }
   ],
   "source": [
    "# Number of large plants but shows only Corps who have 10 or more plants\n",
    "df_large = fsis_raw[fsis_raw[\"Size\"] == \"Large\"]\n",
    "large_plant_corps = df_large[\"Parent Corporation\"].value_counts()\n",
    "large_plant_corps[large_plant_corps >= 10].plot(kind=\"pie\", title=\"Number of Large Plants Owned by Corporations\", ylabel=\"\")\n",
    "\n",
    "len(large_plant_corps)"
   ]
  },
  {
   "cell_type": "code",
   "execution_count": 8,
   "metadata": {},
   "outputs": [
    {
     "data": {
      "text/plain": [
       "<Axes: title={'center': 'Large Tyson Chicken Processing Plants by State'}, xlabel='State', ylabel='Count'>"
      ]
     },
     "execution_count": 8,
     "metadata": {},
     "output_type": "execute_result"
    },
    {
     "data": {
      "image/png": "[encoded data removed]",
      "text/plain": [
       "<Figure size 640x480 with 1 Axes>"
      ]
     },
     "metadata": {},
     "output_type": "display_data"
    }
   ],
   "source": [
    "# State level distribution of Tyson plants\n",
    "\n",
    "df_tyson = df_large[(df_large[\"Parent Corporation\"] == \"Tyson\")]\n",
    "df_tyson_chicken = df_tyson[(df_tyson[\"Animals Processed\"] == \"Chicken\")]\n",
    "df_tyson_chicken[\"State\"].value_counts().plot(kind=\"bar\", title=\"Large Tyson Chicken Processing Plants by State\", ylabel=\"Count\")"
   ]
  }
 ],
 "metadata": {
  "interpreter": {
   "hash": "ff6a62e1632277fca9aa4c01b9be319cf41a108e5552461d926c9f1281db918b"
  },
  "kernelspec": {
   "display_name": "Python 3.10.11 ('rafi')",
   "language": "python",
   "name": "python3"
  },
  "language_info": {
   "codemirror_mode": {
    "name": "ipython",
    "version": 3
   },
   "file_extension": ".py",
   "mimetype": "text/x-python",
   "name": "python",
   "nbconvert_exporter": "python",
   "pygments_lexer": "ipython3",
   "version": "3.10.11"
  },
  "orig_nbformat": 4
 },
 "nbformat": 4,
 "nbformat_minor": 2
}
