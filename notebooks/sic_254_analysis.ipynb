{
 "cells": [
  {
   "cell_type": "code",
   "execution_count": 1,
   "metadata": {},
   "outputs": [
    {
     "name": "stderr",
     "output_type": "stream",
     "text": [
      "c:\\Users\\chacon1\\AppData\\Local\\Programs\\Python\\Python39\\lib\\site-packages\\fuzzywuzzy\\fuzz.py:11: UserWarning: Using slow pure-python SequenceMatcher. Install python-Levenshtein to remove this warning\n",
      "  warnings.warn('Using slow pure-python SequenceMatcher. Install python-Levenshtein to remove this warning')\n"
     ]
    }
   ],
   "source": [
    "import pandas as pd\n",
    "from fuzzywuzzy import fuzz\n",
    "import numpy as np"
   ]
  },
  {
   "cell_type": "code",
   "execution_count": 4,
   "metadata": {},
   "outputs": [],
   "source": [
    "# 254 - General Farms, Primarily Crop\n",
    "states = ['IA', 'OK', 'MO', 'OK', 'AL', 'LA', 'MS', 'IL', 'IN', 'OH', 'KY', 'TN', 'AR', 'NC', 'SC', 'GA']\n",
    "FILEPATH = \"../data/code_254.csv\"\n",
    "df = pd.read_csv(FILEPATH)"
   ]
  },
  {
   "cell_type": "code",
   "execution_count": 14,
   "metadata": {},
   "outputs": [
    {
     "data": {
      "text/html": [
       "<div>\n",
       "<style scoped>\n",
       "    .dataframe tbody tr th:only-of-type {\n",
       "        vertical-align: middle;\n",
       "    }\n",
       "\n",
       "    .dataframe tbody tr th {\n",
       "        vertical-align: top;\n",
       "    }\n",
       "\n",
       "    .dataframe thead th {\n",
       "        text-align: right;\n",
       "    }\n",
       "</style>\n",
       "<table border=\"1\" class=\"dataframe\">\n",
       "  <thead>\n",
       "    <tr style=\"text-align: right;\">\n",
       "      <th></th>\n",
       "      <th>Unnamed: 0</th>\n",
       "      <th>COMPANY</th>\n",
       "      <th>ADDRESS LINE 1</th>\n",
       "      <th>CITY</th>\n",
       "      <th>STATE</th>\n",
       "      <th>ZIPCODE</th>\n",
       "      <th>ZIP4</th>\n",
       "      <th>COUNTY CODE</th>\n",
       "      <th>AREA CODE</th>\n",
       "      <th>IDCODE</th>\n",
       "      <th>...</th>\n",
       "      <th>POPULATION CODE</th>\n",
       "      <th>CENSUS TRACT</th>\n",
       "      <th>CENSUS BLOCK</th>\n",
       "      <th>LATITUDE</th>\n",
       "      <th>LONGITUDE</th>\n",
       "      <th>MATCH CODE</th>\n",
       "      <th>CBSA CODE</th>\n",
       "      <th>CBSA LEVEL</th>\n",
       "      <th>CSA CODE</th>\n",
       "      <th>FIPS CODE</th>\n",
       "    </tr>\n",
       "  </thead>\n",
       "  <tbody>\n",
       "    <tr>\n",
       "      <th>1</th>\n",
       "      <td>5326</td>\n",
       "      <td>HASSELBACH MEATS</td>\n",
       "      <td>4637 OAK HARBOR RD</td>\n",
       "      <td>FREMONT</td>\n",
       "      <td>OH</td>\n",
       "      <td>43420</td>\n",
       "      <td>9373.0</td>\n",
       "      <td>143</td>\n",
       "      <td>419</td>\n",
       "      <td>2</td>\n",
       "      <td>...</td>\n",
       "      <td>7</td>\n",
       "      <td>960900</td>\n",
       "      <td>2</td>\n",
       "      <td>41.441192</td>\n",
       "      <td>-83.134802</td>\n",
       "      <td>P</td>\n",
       "      <td>23380</td>\n",
       "      <td>1.0</td>\n",
       "      <td>534</td>\n",
       "      <td>39143</td>\n",
       "    </tr>\n",
       "    <tr>\n",
       "      <th>2</th>\n",
       "      <td>6850</td>\n",
       "      <td>MURRAY CABINETRY LUXURY &amp; BATH</td>\n",
       "      <td>407 N BLOOMINGTON ST</td>\n",
       "      <td>STREATOR</td>\n",
       "      <td>IL</td>\n",
       "      <td>61364</td>\n",
       "      <td>2201.0</td>\n",
       "      <td>99</td>\n",
       "      <td>815</td>\n",
       "      <td>2</td>\n",
       "      <td>...</td>\n",
       "      <td>7</td>\n",
       "      <td>963900</td>\n",
       "      <td>4</td>\n",
       "      <td>41.125039</td>\n",
       "      <td>-88.835096</td>\n",
       "      <td>P</td>\n",
       "      <td>36837</td>\n",
       "      <td>1.0</td>\n",
       "      <td>176</td>\n",
       "      <td>17099</td>\n",
       "    </tr>\n",
       "    <tr>\n",
       "      <th>3</th>\n",
       "      <td>11380</td>\n",
       "      <td>COOTERS FARM</td>\n",
       "      <td>1784 TUCK WILKES RD</td>\n",
       "      <td>NOXAPATER</td>\n",
       "      <td>MS</td>\n",
       "      <td>39346</td>\n",
       "      <td>9311.0</td>\n",
       "      <td>159</td>\n",
       "      <td>662</td>\n",
       "      <td>2</td>\n",
       "      <td>...</td>\n",
       "      <td>3</td>\n",
       "      <td>950200</td>\n",
       "      <td>4</td>\n",
       "      <td>33.011665</td>\n",
       "      <td>-89.126923</td>\n",
       "      <td>P</td>\n",
       "      <td>0</td>\n",
       "      <td>NaN</td>\n",
       "      <td>0</td>\n",
       "      <td>28159</td>\n",
       "    </tr>\n",
       "    <tr>\n",
       "      <th>5</th>\n",
       "      <td>15246</td>\n",
       "      <td>MODERNFOLD</td>\n",
       "      <td>215 W NEW RD</td>\n",
       "      <td>GREENFIELD</td>\n",
       "      <td>IN</td>\n",
       "      <td>46140</td>\n",
       "      <td>1095.0</td>\n",
       "      <td>59</td>\n",
       "      <td>317</td>\n",
       "      <td>2</td>\n",
       "      <td>...</td>\n",
       "      <td>7</td>\n",
       "      <td>410400</td>\n",
       "      <td>5</td>\n",
       "      <td>39.813328</td>\n",
       "      <td>-85.774158</td>\n",
       "      <td>P</td>\n",
       "      <td>26900</td>\n",
       "      <td>2.0</td>\n",
       "      <td>294</td>\n",
       "      <td>18059</td>\n",
       "    </tr>\n",
       "    <tr>\n",
       "      <th>6</th>\n",
       "      <td>20763</td>\n",
       "      <td>SHELFGENIE OF SAVANNAH</td>\n",
       "      <td>77 FORDING CT</td>\n",
       "      <td>BLUFFTON</td>\n",
       "      <td>SC</td>\n",
       "      <td>29910</td>\n",
       "      <td>9583.0</td>\n",
       "      <td>13</td>\n",
       "      <td>615</td>\n",
       "      <td>2</td>\n",
       "      <td>...</td>\n",
       "      <td>7</td>\n",
       "      <td>2103</td>\n",
       "      <td>2</td>\n",
       "      <td>32.263876</td>\n",
       "      <td>-80.928000</td>\n",
       "      <td>P</td>\n",
       "      <td>25940</td>\n",
       "      <td>2.0</td>\n",
       "      <td>0</td>\n",
       "      <td>45013</td>\n",
       "    </tr>\n",
       "  </tbody>\n",
       "</table>\n",
       "<p>5 rows × 54 columns</p>\n",
       "</div>"
      ],
      "text/plain": [
       "   Unnamed: 0                         COMPANY        ADDRESS LINE 1  \\\n",
       "1        5326                HASSELBACH MEATS    4637 OAK HARBOR RD   \n",
       "2        6850  MURRAY CABINETRY LUXURY & BATH  407 N BLOOMINGTON ST   \n",
       "3       11380                    COOTERS FARM   1784 TUCK WILKES RD   \n",
       "5       15246                      MODERNFOLD          215 W NEW RD   \n",
       "6       20763          SHELFGENIE OF SAVANNAH         77 FORDING CT   \n",
       "\n",
       "         CITY STATE  ZIPCODE    ZIP4  COUNTY CODE  AREA CODE  IDCODE  ...  \\\n",
       "1     FREMONT    OH    43420  9373.0          143        419       2  ...   \n",
       "2    STREATOR    IL    61364  2201.0           99        815       2  ...   \n",
       "3   NOXAPATER    MS    39346  9311.0          159        662       2  ...   \n",
       "5  GREENFIELD    IN    46140  1095.0           59        317       2  ...   \n",
       "6    BLUFFTON    SC    29910  9583.0           13        615       2  ...   \n",
       "\n",
       "  POPULATION CODE CENSUS TRACT  CENSUS BLOCK   LATITUDE  LONGITUDE MATCH CODE  \\\n",
       "1               7       960900             2  41.441192 -83.134802          P   \n",
       "2               7       963900             4  41.125039 -88.835096          P   \n",
       "3               3       950200             4  33.011665 -89.126923          P   \n",
       "5               7       410400             5  39.813328 -85.774158          P   \n",
       "6               7         2103             2  32.263876 -80.928000          P   \n",
       "\n",
       "   CBSA CODE CBSA LEVEL  CSA CODE FIPS CODE  \n",
       "1      23380        1.0       534     39143  \n",
       "2      36837        1.0       176     17099  \n",
       "3          0        NaN         0     28159  \n",
       "5      26900        2.0       294     18059  \n",
       "6      25940        2.0         0     45013  \n",
       "\n",
       "[5 rows x 54 columns]"
      ]
     },
     "execution_count": 14,
     "metadata": {},
     "output_type": "execute_result"
    }
   ],
   "source": [
    "df.head()"
   ]
  },
  {
   "cell_type": "code",
   "execution_count": 6,
   "metadata": {},
   "outputs": [
    {
     "data": {
      "text/plain": [
       "array(['OH', 'IL', 'MS', 'IN', 'SC', 'NC', 'TN', 'MO', 'GA', 'OK', 'LA',\n",
       "       'AL', 'IA', 'KY', 'AR'], dtype=object)"
      ]
     },
     "execution_count": 6,
     "metadata": {},
     "output_type": "execute_result"
    }
   ],
   "source": [
    "# trim out irrelevant states\n",
    "df = df[df['STATE'].isin(states)]\n",
    "df['STATE'].unique()"
   ]
  },
  {
   "cell_type": "code",
   "execution_count": 25,
   "metadata": {},
   "outputs": [
    {
     "data": {
      "text/plain": [
       "<Axes: title={'center': 'Number of SIC Code 254 by State'}, xlabel='STATE', ylabel='Count'>"
      ]
     },
     "execution_count": 25,
     "metadata": {},
     "output_type": "execute_result"
    },
    {
     "data": {
      "image/png": "[encoded data removed]",
      "text/plain": [
       "<Figure size 640x480 with 1 Axes>"
      ]
     },
     "metadata": {},
     "output_type": "display_data"
    }
   ],
   "source": [
    "df['STATE'].value_counts().plot(kind='bar', ylabel=\"Count\", title=\"Number of SIC Code 254 by State\")"
   ]
  },
  {
   "cell_type": "code",
   "execution_count": 8,
   "metadata": {},
   "outputs": [
    {
     "data": {
      "text/plain": [
       "SIC6_DESCRIPTIONS\n",
       "POULTRY FARMS                              403\n",
       "CHILD CARE SERVICE                         129\n",
       "POULTRY PROCESSING PLANTS (MFRS)            87\n",
       "FAMILY & CHILDREN SERVICES                  71\n",
       "CLINICS                                     71\n",
       "                                          ... \n",
       "GAMES TOYS & CHILDREN'S VEHICLES (MFRS)      1\n",
       "MODEL MAKERS (MFRS)                          1\n",
       "TOILET PARTITIONS                            1\n",
       "EMPLOYEES SUGGESTION SYSTEM                  1\n",
       "RESTAURANT EQUIPMENT & SUPPLIES-MFRS         1\n",
       "Name: count, Length: 315, dtype: int64"
      ]
     },
     "execution_count": 8,
     "metadata": {},
     "output_type": "execute_result"
    }
   ],
   "source": [
    "df['SIC6_DESCRIPTIONS'].value_counts()"
   ]
  },
  {
   "cell_type": "code",
   "execution_count": 22,
   "metadata": {},
   "outputs": [],
   "source": [
    "# filter out SIC6_DESCRIPTIONS that are irrelvant \n",
    "\n",
    "# new dataframe that will contains the filtered set\n",
    "df_filter = pd.DataFrame(columns=df.columns)\n",
    "\n",
    "# remove anything containing a label that only appears less than x amount of times\n",
    "x = 28\n",
    "temp_series = df[\"SIC6_DESCRIPTIONS\"].value_counts()[df[\"SIC6_DESCRIPTIONS\"].value_counts() < x]\n",
    "\n",
    "# extract the labels from the series created above, these are the labels that we will be removing\n",
    "# put them into a list\n",
    "temp_labels = temp_series.index\n",
    "temp_label_list = temp_labels.tolist()\n",
    "\n",
    "# after printing the output at the end, I came back and added label manually taht I wanted to remove\n",
    "temp_label_list += ['CHILD CARE SERVICE', 'FAMILY & CHILDREN SERVICES', 'CLINICS', 'COUNTER TOPS-MANUFACTURERS', 'CABINETS-MANUFACTURERS',\n",
    "                    'DISPLAY FIXTURES & MATERIALS-MFRS', 'STORE FIXTURES-MANUFACTURERS', 'OFFICE & STORE FIXTURES-WOOD (MFRS)',\n",
    "                    'SHELVING-MANUFACTURERS']    \n",
    "   \n",
    "\n",
    "# create new dataframe df_filter that does NOT contain the above undesired labels\n",
    "for i in range(len(df)):\n",
    "    if df.iloc[i][\"SIC6_DESCRIPTIONS\"] in temp_label_list:\n",
    "        # print(df.iloc[i][\"SIC6_DESCRIPTIONS\"])\n",
    "        continue\n",
    "    else:\n",
    "        df_filter.loc[len(df_filter.index)] = df.iloc[i] # adding it to the new DataFrame"
   ]
  },
  {
   "cell_type": "code",
   "execution_count": 23,
   "metadata": {},
   "outputs": [
    {
     "data": {
      "text/plain": [
       "SIC6_DESCRIPTIONS\n",
       "POULTRY FARMS                       403\n",
       "POULTRY PROCESSING PLANTS (MFRS)     87\n",
       "FARMS                                28\n",
       "Name: count, dtype: int64"
      ]
     },
     "execution_count": 23,
     "metadata": {},
     "output_type": "execute_result"
    }
   ],
   "source": [
    "df_filter['SIC6_DESCRIPTIONS'].value_counts()"
   ]
  },
  {
   "cell_type": "code",
   "execution_count": 26,
   "metadata": {},
   "outputs": [
    {
     "data": {
      "text/plain": [
       "<Axes: title={'center': 'Number of SIC Code 254 by State'}, xlabel='STATE', ylabel='Count'>"
      ]
     },
     "execution_count": 26,
     "metadata": {},
     "output_type": "execute_result"
    },
    {
     "data": {
      "image/png": "[encoded data removed]",
      "text/plain": [
       "<Figure size 640x480 with 1 Axes>"
      ]
     },
     "metadata": {},
     "output_type": "display_data"
    }
   ],
   "source": [
    "df_filter['STATE'].value_counts().plot(kind='bar', ylabel=\"Count\", title=\"Number of SIC Code 254 by State\")"
   ]
  },
  {
   "cell_type": "code",
   "execution_count": null,
   "metadata": {},
   "outputs": [],
   "source": []
  }
 ],
 "metadata": {
  "kernelspec": {
   "display_name": "Python 3",
   "language": "python",
   "name": "python3"
  },
  "language_info": {
   "codemirror_mode": {
    "name": "ipython",
    "version": 3
   },
   "file_extension": ".py",
   "mimetype": "text/x-python",
   "name": "python",
   "nbconvert_exporter": "python",
   "pygments_lexer": "ipython3",
   "version": "3.9.7"
  },
  "orig_nbformat": 4
 },
 "nbformat": 4,
 "nbformat_minor": 2
}
