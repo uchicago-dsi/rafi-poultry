{
 "cells": [
  {
   "cell_type": "code",
   "execution_count": 1,
   "metadata": {},
   "outputs": [],
   "source": [
    "import pandas as pd\n",
    "import geopandas as gpd\n",
    "from shapely import Point\n",
    "from math import radians, cos, sin, asin, sqrt"
   ]
  },
  {
   "cell_type": "code",
   "execution_count": 36,
   "metadata": {},
   "outputs": [],
   "source": [
    "def haversine(lon1, lat1, lon2, lat2):\n",
    "    \"\"\"\n",
    "    Calculate the great circle distance in kilometers between two points \n",
    "    on the earth (specified in decimal degrees)\n",
    "    \"\"\"\n",
    "    # convert decimal degrees to radians \n",
    "    lon1, lat1, lon2, lat2 = map(radians, [lon1, lat1, lon2, lat2])\n",
    "\n",
    "    # haversine formula \n",
    "    dlon = lon2 - lon1 \n",
    "    dlat = lat2 - lat1 \n",
    "    a = sin(dlat/2)**2 + cos(lat1) * cos(lat2) * sin(dlon/2)**2\n",
    "    c = 2 * asin(sqrt(a)) \n",
    "    r = 6371 # Radius of earth in kilometers. Use 3956 for miles. Determines return value units.\n",
    "    # print(\"Distance:\", c * r)\n",
    "    return c * r"
   ]
  },
  {
   "cell_type": "code",
   "execution_count": 74,
   "metadata": {},
   "outputs": [],
   "source": [
    "# funtion will take 4 inputs. infogroup_df & counterglow_df2 are the dataframes being analyzed.\n",
    "# the third input is the specific state that we are choosing to analyze\n",
    "# the fourth input is the threshold distance. this distance is the max allowable distance between 2\n",
    "# datapoints. the output is a dataframe that in each row, we have a datapoint that represents a\n",
    "# datapoint from infogroup and (x distance away) a farm spotted in the counterglow data. we are\n",
    "# speculating that it is possible for a spotted farm in counterglow to not have the most precise address\n",
    "# and actually exist in the Infogroup data, but with slightly different longitude and latitude\n",
    "\n",
    "def potential_farms(infogroup_df, counterglow_df, two_letter_state, max_dist_km ):\n",
    "    \n",
    "    # ruduce dataframe to only consist rows with specified two_letter_state\n",
    "    infogroup_state_df      = infogroup_df[infogroup_df[\"STATE\"] == two_letter_state]\n",
    "    counterglow_state_df    = counterglow_df[counterglow_df[\"State\"] == two_letter_state]\n",
    "    \n",
    "    # create two new empty dataframe that we will be adding to when match is found\n",
    "    infogroup_trim     = pd.DataFrame(columns=infogroup_state_df.columns)\n",
    "    counterglow_trim   = pd.DataFrame(columns=counterglow_state_df.columns)\n",
    "    \n",
    "    counter = 0 # to counter matches, can print to terminal if desired\n",
    "    for i in range(len(infogroup_state_df)):\n",
    "        \n",
    "        infogroup_longitude  = infogroup_state_df.iloc[i][\"LONGITUDE\"]  # get longitude\n",
    "        infogroup_latitude   = infogroup_state_df.iloc[i][\"LATITUDE\"]   # get latitude\n",
    "        \n",
    "        for j in range(len(counterglow_state_df)):\n",
    "            \n",
    "            counterglow_latitude    = counterglow_state_df.iloc[j][\"Lat\"]    # get latitude\n",
    "            counterglow_longitude   = counterglow_state_df.iloc[j][\"Lat.1\"]  # get longitude\n",
    "            \n",
    "            dist_km                 = haversine(infogroup_longitude, infogroup_latitude, \n",
    "                                                counterglow_longitude, counterglow_latitude)\n",
    "            \n",
    "            if(dist_km <= max_dist_km): # if the distance is <= the max distance set in function\n",
    "                counter += 1\n",
    "            \n",
    "                infogroup_trim.loc[len(infogroup_trim.index)]      = infogroup_state_df.iloc[i]\n",
    "                counterglow_trim.loc[len(counterglow_trim.index)]  = counterglow_state_df.iloc[j]\n",
    "        \n",
    "    # change the name of the columns for Latitude & Longitude in each dataframe\n",
    "    # for Infogroup Dataframe\n",
    "    infogroup_trim      = infogroup_trim.rename(columns={'LATITUDE': 'LATITUDE 1', \n",
    "                                                        'LONGITUDE': 'LONGITUDE 1'})\n",
    "    counterglow_trim    = counterglow_trim.rename(columns={'Lat' : 'LATITUDE 2',\n",
    "                                                           'Lat.1': 'LONGITUDE 2'})\n",
    "    print(\"Total number of matches:\", counter)        \n",
    "    return infogroup_trim, counterglow_trim   \n",
    "    "
   ]
  },
  {
   "cell_type": "code",
   "execution_count": 77,
   "metadata": {},
   "outputs": [],
   "source": [
    "df_counterglow = pd.read_csv(\"../data/Counterglow+Facility+List+Complete.csv\")"
   ]
  },
  {
   "cell_type": "code",
   "execution_count": 78,
   "metadata": {},
   "outputs": [
    {
     "name": "stdout",
     "output_type": "stream",
     "text": [
      "Total number of matches: 109\n"
     ]
    }
   ],
   "source": [
    "# To see how many matches exist within the dataframe consisting of SIC Codes containing 0291\n",
    "# 0291: General Farms, Primarily Livestock and Animal Specialties.\n",
    "df_sic_0291 = pd.read_csv(\"../data/code_0291.csv\")\n",
    "\n",
    "infogroup_matches_0291, counterglow_matches_0291 = potential_farms(df_sic_0291, df_counterglow, 'IA', 3.5 )"
   ]
  },
  {
   "cell_type": "code",
   "execution_count": 79,
   "metadata": {},
   "outputs": [
    {
     "name": "stdout",
     "output_type": "stream",
     "text": [
      "Total number of matches: 374\n"
     ]
    }
   ],
   "source": [
    "# To see how many matches exist within the dataframe consisting of SIC Codes containing 0241: Dairy Farms\n",
    "df_sic_0241 = pd.read_csv(\"../data/code_0241.csv\")\n",
    "\n",
    "infogroup_matches_0241, counterglow_matches_0241 = potential_farms(df_sic_0241, df_counterglow, 'IA', 3.5 )"
   ]
  }
 ],
 "metadata": {
  "kernelspec": {
   "display_name": "Python 3",
   "language": "python",
   "name": "python3"
  },
  "language_info": {
   "codemirror_mode": {
    "name": "ipython",
    "version": 3
   },
   "file_extension": ".py",
   "mimetype": "text/x-python",
   "name": "python",
   "nbconvert_exporter": "python",
   "pygments_lexer": "ipython3",
   "version": "3.9.7"
  },
  "orig_nbformat": 4
 },
 "nbformat": 4,
 "nbformat_minor": 2
}
