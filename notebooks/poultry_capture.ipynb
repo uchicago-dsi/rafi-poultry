{
 "cells": [
  {
   "attachments": {},
   "cell_type": "markdown",
   "metadata": {},
   "source": [
    "# Visualizing Captured Areas"
   ]
  },
  {
   "cell_type": "markdown",
   "metadata": {},
   "source": [
    "##### This notebook displays the html file containing the country-wide map of poultry-plants with their isochrones, color-coded to indicate which areas have access to 1, 2, or 3+ integrators. This notebook also details the methodology involved in the creation of the map."
   ]
  },
  {
   "cell_type": "code",
   "execution_count": 2,
   "metadata": {},
   "outputs": [],
   "source": [
    "import pandas as pd\n",
    "import numpy as np\n",
    "import folium\n",
    "import os\n",
    "from dotenv import load_dotenv\n",
    "from pipeline.calculate_captured_areas import full_script\n",
    "from pipeline.constants import NATION_MAP"
   ]
  },
  {
   "cell_type": "code",
   "execution_count": 3,
   "metadata": {},
   "outputs": [],
   "source": [
    "#running this cell uses API, will take about 2-3 minutes\n",
    "load_dotenv()\n",
    "token = os.environ['MAPBOX_API_KEY']\n",
    "m = full_script(token)"
   ]
  },
  {
   "cell_type": "code",
   "execution_count": 4,
   "metadata": {},
   "outputs": [
    {
     "data": {
      "text/html": [
       "\n",
       "        <iframe\n",
       "            width=\"100\"\n",
       "            height=\"100\"\n",
       "            src=\"../html/cafo_poultry_eda_state.html\"\n",
       "            frameborder=\"0\"\n",
       "            allowfullscreen\n",
       "            \n",
       "        ></iframe>\n",
       "        "
      ],
      "text/plain": [
       "<IPython.lib.display.IFrame at 0x7f88530e0790>"
      ]
     },
     "execution_count": 4,
     "metadata": {},
     "output_type": "execute_result"
    }
   ],
   "source": [
    "from IPython.display import IFrame\n",
    "IFrame(src=NATION_MAP, width=100, height=100)"
   ]
  },
  {
   "attachments": {},
   "cell_type": "markdown",
   "metadata": {},
   "source": [
    "#### This map is created using the script calculate_captured_areas.py. The poultry plant locations are taken from the FSIS database from the most recent year, in this case 2022. Using plant longitude and latitudes, we are able to create isochrones that capture an area of x radius around each plant. Given that 90% of poultry is processed at a plant within a 60 mile driving radius of the farm the bird originated at, the default value for this function is 60. \n",
    "\n",
    "#### We use shapely union operations to determine which areas have access to one processing plant (in blue), two plants (in orange), and three+ plants (in red). By hovering their mouse over a blue isochrone, the user prompts a tooltip that identifies which parent corporation owns that captured area. The resulting map is saved as both an HTML file and a geo dataframe.\n",
    "\n",
    "#### We created an aditional geodataframe that sorts the isochrones by parent corporation and by state. It is now possible to see how many poultry plants are own, for example, by Tyson in Georgia. \n",
    "\n",
    "#### In the future, we hope to use our graphs to perform small-area case studies. We are interested in how captured areas change over time, especially given our access to FSIS data from 1997 to 2022. "
   ]
  }
 ],
 "metadata": {
  "kernelspec": {
   "display_name": "base",
   "language": "python",
   "name": "python3"
  },
  "language_info": {
   "codemirror_mode": {
    "name": "ipython",
    "version": 3
   },
   "file_extension": ".py",
   "mimetype": "text/x-python",
   "name": "python",
   "nbconvert_exporter": "python",
   "pygments_lexer": "ipython3",
   "version": "3.9.16"
  },
  "orig_nbformat": 4
 },
 "nbformat": 4,
 "nbformat_minor": 2
}
