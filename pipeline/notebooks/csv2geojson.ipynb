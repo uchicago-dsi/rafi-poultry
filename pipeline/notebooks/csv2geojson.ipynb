{
 "cells": [
  {
   "cell_type": "code",
   "execution_count": 2,
   "metadata": {},
   "outputs": [],
   "source": [
    "import geopandas as gpd\n",
    "import pandas as pd"
   ]
  },
  {
   "cell_type": "code",
   "execution_count": 1,
   "metadata": {},
   "outputs": [],
   "source": [
    "FILEPATH = \"/Users/toddnief/Dropbox/1-Projects/dsi/rafi-poultry/rafi-poultry/data/location_match_fullest.csv\""
   ]
  },
  {
   "cell_type": "code",
   "execution_count": 4,
   "metadata": {},
   "outputs": [],
   "source": [
    "df = pd.read_csv(FILEPATH)"
   ]
  },
  {
   "cell_type": "code",
   "execution_count": 5,
   "metadata": {},
   "outputs": [
    {
     "data": {
      "text/html": [
       "<div>\n",
       "<style scoped>\n",
       "    .dataframe tbody tr th:only-of-type {\n",
       "        vertical-align: middle;\n",
       "    }\n",
       "\n",
       "    .dataframe tbody tr th {\n",
       "        vertical-align: top;\n",
       "    }\n",
       "\n",
       "    .dataframe thead th {\n",
       "        text-align: right;\n",
       "    }\n",
       "</style>\n",
       "<table border=\"1\" class=\"dataframe\">\n",
       "  <thead>\n",
       "    <tr style=\"text-align: right;\">\n",
       "      <th></th>\n",
       "      <th>Unnamed: 0.1</th>\n",
       "      <th>Unnamed: 0</th>\n",
       "      <th>EstNumber</th>\n",
       "      <th>EstID</th>\n",
       "      <th>Parent Corporation</th>\n",
       "      <th>Establishment Name</th>\n",
       "      <th>State</th>\n",
       "      <th>Size</th>\n",
       "      <th>Animals Processed</th>\n",
       "      <th>Processed\\nVolume\\nCategory</th>\n",
       "      <th>Slaughter\\nVolume\\nCategory</th>\n",
       "      <th>Full Address</th>\n",
       "      <th>latitude</th>\n",
       "      <th>longitude</th>\n",
       "      <th>Sales Volume (Location)</th>\n",
       "    </tr>\n",
       "  </thead>\n",
       "  <tbody>\n",
       "    <tr>\n",
       "      <th>0</th>\n",
       "      <td>0</td>\n",
       "      <td>71</td>\n",
       "      <td>P1317 + V1317</td>\n",
       "      <td>4495</td>\n",
       "      <td>Cargill</td>\n",
       "      <td>Wayne Farms LLC</td>\n",
       "      <td>Alabama</td>\n",
       "      <td>Large</td>\n",
       "      <td>Chicken</td>\n",
       "      <td>5</td>\n",
       "      <td>5.0</td>\n",
       "      <td>700 McDonald Avenue, Albertville, AL 35950</td>\n",
       "      <td>34.260726</td>\n",
       "      <td>-86.203222</td>\n",
       "      <td>438268.0</td>\n",
       "    </tr>\n",
       "    <tr>\n",
       "      <th>1</th>\n",
       "      <td>1</td>\n",
       "      <td>72</td>\n",
       "      <td>P7485 + V7485</td>\n",
       "      <td>4518</td>\n",
       "      <td>Cargill</td>\n",
       "      <td>Wayne Farms LLC</td>\n",
       "      <td>Alabama</td>\n",
       "      <td>Large</td>\n",
       "      <td>Chicken</td>\n",
       "      <td>5</td>\n",
       "      <td>5.0</td>\n",
       "      <td>1020 County Road 114, Jack, AL 36346</td>\n",
       "      <td>31.500628</td>\n",
       "      <td>-85.903438</td>\n",
       "      <td>576660.0</td>\n",
       "    </tr>\n",
       "  </tbody>\n",
       "</table>\n",
       "</div>"
      ],
      "text/plain": [
       "   Unnamed: 0.1  Unnamed: 0      EstNumber  EstID Parent Corporation  \\\n",
       "0             0          71  P1317 + V1317   4495            Cargill   \n",
       "1             1          72  P7485 + V7485   4518            Cargill   \n",
       "\n",
       "  Establishment Name    State   Size Animals Processed  \\\n",
       "0    Wayne Farms LLC  Alabama  Large           Chicken   \n",
       "1    Wayne Farms LLC  Alabama  Large           Chicken   \n",
       "\n",
       "   Processed\\nVolume\\nCategory  Slaughter\\nVolume\\nCategory  \\\n",
       "0                            5                          5.0   \n",
       "1                            5                          5.0   \n",
       "\n",
       "                                 Full Address   latitude  longitude  \\\n",
       "0  700 McDonald Avenue, Albertville, AL 35950  34.260726 -86.203222   \n",
       "1        1020 County Road 114, Jack, AL 36346  31.500628 -85.903438   \n",
       "\n",
       "   Sales Volume (Location)  \n",
       "0                 438268.0  \n",
       "1                 576660.0  "
      ]
     },
     "execution_count": 5,
     "metadata": {},
     "output_type": "execute_result"
    }
   ],
   "source": [
    "df.head(2)"
   ]
  },
  {
   "cell_type": "code",
   "execution_count": 6,
   "metadata": {},
   "outputs": [],
   "source": [
    "gdf = gpd.GeoDataFrame(df, geometry=gpd.points_from_xy(df.longitude, df.latitude))"
   ]
  },
  {
   "cell_type": "code",
   "execution_count": 7,
   "metadata": {},
   "outputs": [
    {
     "data": {
      "text/html": [
       "<div>\n",
       "<style scoped>\n",
       "    .dataframe tbody tr th:only-of-type {\n",
       "        vertical-align: middle;\n",
       "    }\n",
       "\n",
       "    .dataframe tbody tr th {\n",
       "        vertical-align: top;\n",
       "    }\n",
       "\n",
       "    .dataframe thead th {\n",
       "        text-align: right;\n",
       "    }\n",
       "</style>\n",
       "<table border=\"1\" class=\"dataframe\">\n",
       "  <thead>\n",
       "    <tr style=\"text-align: right;\">\n",
       "      <th></th>\n",
       "      <th>Unnamed: 0.1</th>\n",
       "      <th>Unnamed: 0</th>\n",
       "      <th>EstNumber</th>\n",
       "      <th>EstID</th>\n",
       "      <th>Parent Corporation</th>\n",
       "      <th>Establishment Name</th>\n",
       "      <th>State</th>\n",
       "      <th>Size</th>\n",
       "      <th>Animals Processed</th>\n",
       "      <th>Processed\\nVolume\\nCategory</th>\n",
       "      <th>Slaughter\\nVolume\\nCategory</th>\n",
       "      <th>Full Address</th>\n",
       "      <th>latitude</th>\n",
       "      <th>longitude</th>\n",
       "      <th>Sales Volume (Location)</th>\n",
       "      <th>geometry</th>\n",
       "    </tr>\n",
       "  </thead>\n",
       "  <tbody>\n",
       "    <tr>\n",
       "      <th>0</th>\n",
       "      <td>0</td>\n",
       "      <td>71</td>\n",
       "      <td>P1317 + V1317</td>\n",
       "      <td>4495</td>\n",
       "      <td>Cargill</td>\n",
       "      <td>Wayne Farms LLC</td>\n",
       "      <td>Alabama</td>\n",
       "      <td>Large</td>\n",
       "      <td>Chicken</td>\n",
       "      <td>5</td>\n",
       "      <td>5.0</td>\n",
       "      <td>700 McDonald Avenue, Albertville, AL 35950</td>\n",
       "      <td>34.260726</td>\n",
       "      <td>-86.203222</td>\n",
       "      <td>438268.0</td>\n",
       "      <td>POINT (-86.20322 34.26073)</td>\n",
       "    </tr>\n",
       "    <tr>\n",
       "      <th>1</th>\n",
       "      <td>1</td>\n",
       "      <td>72</td>\n",
       "      <td>P7485 + V7485</td>\n",
       "      <td>4518</td>\n",
       "      <td>Cargill</td>\n",
       "      <td>Wayne Farms LLC</td>\n",
       "      <td>Alabama</td>\n",
       "      <td>Large</td>\n",
       "      <td>Chicken</td>\n",
       "      <td>5</td>\n",
       "      <td>5.0</td>\n",
       "      <td>1020 County Road 114, Jack, AL 36346</td>\n",
       "      <td>31.500628</td>\n",
       "      <td>-85.903438</td>\n",
       "      <td>576660.0</td>\n",
       "      <td>POINT (-85.90344 31.50063)</td>\n",
       "    </tr>\n",
       "  </tbody>\n",
       "</table>\n",
       "</div>"
      ],
      "text/plain": [
       "   Unnamed: 0.1  Unnamed: 0      EstNumber  EstID Parent Corporation  \\\n",
       "0             0          71  P1317 + V1317   4495            Cargill   \n",
       "1             1          72  P7485 + V7485   4518            Cargill   \n",
       "\n",
       "  Establishment Name    State   Size Animals Processed  \\\n",
       "0    Wayne Farms LLC  Alabama  Large           Chicken   \n",
       "1    Wayne Farms LLC  Alabama  Large           Chicken   \n",
       "\n",
       "   Processed\\nVolume\\nCategory  Slaughter\\nVolume\\nCategory  \\\n",
       "0                            5                          5.0   \n",
       "1                            5                          5.0   \n",
       "\n",
       "                                 Full Address   latitude  longitude  \\\n",
       "0  700 McDonald Avenue, Albertville, AL 35950  34.260726 -86.203222   \n",
       "1        1020 County Road 114, Jack, AL 36346  31.500628 -85.903438   \n",
       "\n",
       "   Sales Volume (Location)                    geometry  \n",
       "0                 438268.0  POINT (-86.20322 34.26073)  \n",
       "1                 576660.0  POINT (-85.90344 31.50063)  "
      ]
     },
     "execution_count": 7,
     "metadata": {},
     "output_type": "execute_result"
    }
   ],
   "source": [
    "gdf.head(2)"
   ]
  },
  {
   "cell_type": "code",
   "execution_count": 8,
   "metadata": {},
   "outputs": [
    {
     "data": {
      "text/plain": [
       "Index(['Unnamed: 0.1', 'Unnamed: 0', 'EstNumber', 'EstID',\n",
       "       'Parent Corporation', 'Establishment Name', 'State', 'Size',\n",
       "       'Animals Processed', 'Processed\\nVolume\\nCategory',\n",
       "       'Slaughter\\nVolume\\nCategory', 'Full Address', 'latitude', 'longitude',\n",
       "       'Sales Volume (Location)', 'geometry'],\n",
       "      dtype='object')"
      ]
     },
     "execution_count": 8,
     "metadata": {},
     "output_type": "execute_result"
    }
   ],
   "source": [
    "gdf.columns"
   ]
  },
  {
   "cell_type": "code",
   "execution_count": 9,
   "metadata": {},
   "outputs": [],
   "source": [
    "gdf = gdf.drop(columns=['Unnamed: 0.1', 'Unnamed: 0'])"
   ]
  },
  {
   "cell_type": "code",
   "execution_count": 10,
   "metadata": {},
   "outputs": [
    {
     "data": {
      "text/html": [
       "<div>\n",
       "<style scoped>\n",
       "    .dataframe tbody tr th:only-of-type {\n",
       "        vertical-align: middle;\n",
       "    }\n",
       "\n",
       "    .dataframe tbody tr th {\n",
       "        vertical-align: top;\n",
       "    }\n",
       "\n",
       "    .dataframe thead th {\n",
       "        text-align: right;\n",
       "    }\n",
       "</style>\n",
       "<table border=\"1\" class=\"dataframe\">\n",
       "  <thead>\n",
       "    <tr style=\"text-align: right;\">\n",
       "      <th></th>\n",
       "      <th>EstNumber</th>\n",
       "      <th>EstID</th>\n",
       "      <th>Parent Corporation</th>\n",
       "      <th>Establishment Name</th>\n",
       "      <th>State</th>\n",
       "      <th>Size</th>\n",
       "      <th>Animals Processed</th>\n",
       "      <th>Processed\\nVolume\\nCategory</th>\n",
       "      <th>Slaughter\\nVolume\\nCategory</th>\n",
       "      <th>Full Address</th>\n",
       "      <th>latitude</th>\n",
       "      <th>longitude</th>\n",
       "      <th>Sales Volume (Location)</th>\n",
       "      <th>geometry</th>\n",
       "    </tr>\n",
       "  </thead>\n",
       "  <tbody>\n",
       "    <tr>\n",
       "      <th>0</th>\n",
       "      <td>P1317 + V1317</td>\n",
       "      <td>4495</td>\n",
       "      <td>Cargill</td>\n",
       "      <td>Wayne Farms LLC</td>\n",
       "      <td>Alabama</td>\n",
       "      <td>Large</td>\n",
       "      <td>Chicken</td>\n",
       "      <td>5</td>\n",
       "      <td>5.0</td>\n",
       "      <td>700 McDonald Avenue, Albertville, AL 35950</td>\n",
       "      <td>34.260726</td>\n",
       "      <td>-86.203222</td>\n",
       "      <td>438268.0</td>\n",
       "      <td>POINT (-86.20322 34.26073)</td>\n",
       "    </tr>\n",
       "    <tr>\n",
       "      <th>1</th>\n",
       "      <td>P7485 + V7485</td>\n",
       "      <td>4518</td>\n",
       "      <td>Cargill</td>\n",
       "      <td>Wayne Farms LLC</td>\n",
       "      <td>Alabama</td>\n",
       "      <td>Large</td>\n",
       "      <td>Chicken</td>\n",
       "      <td>5</td>\n",
       "      <td>5.0</td>\n",
       "      <td>1020 County Road 114, Jack, AL 36346</td>\n",
       "      <td>31.500628</td>\n",
       "      <td>-85.903438</td>\n",
       "      <td>576660.0</td>\n",
       "      <td>POINT (-85.90344 31.50063)</td>\n",
       "    </tr>\n",
       "  </tbody>\n",
       "</table>\n",
       "</div>"
      ],
      "text/plain": [
       "       EstNumber  EstID Parent Corporation Establishment Name    State   Size  \\\n",
       "0  P1317 + V1317   4495            Cargill    Wayne Farms LLC  Alabama  Large   \n",
       "1  P7485 + V7485   4518            Cargill    Wayne Farms LLC  Alabama  Large   \n",
       "\n",
       "  Animals Processed  Processed\\nVolume\\nCategory  Slaughter\\nVolume\\nCategory  \\\n",
       "0           Chicken                            5                          5.0   \n",
       "1           Chicken                            5                          5.0   \n",
       "\n",
       "                                 Full Address   latitude  longitude  \\\n",
       "0  700 McDonald Avenue, Albertville, AL 35950  34.260726 -86.203222   \n",
       "1        1020 County Road 114, Jack, AL 36346  31.500628 -85.903438   \n",
       "\n",
       "   Sales Volume (Location)                    geometry  \n",
       "0                 438268.0  POINT (-86.20322 34.26073)  \n",
       "1                 576660.0  POINT (-85.90344 31.50063)  "
      ]
     },
     "execution_count": 10,
     "metadata": {},
     "output_type": "execute_result"
    }
   ],
   "source": [
    "gdf.head(2)"
   ]
  },
  {
   "cell_type": "code",
   "execution_count": 11,
   "metadata": {},
   "outputs": [],
   "source": [
    "gdf.to_file(\"../data/test_plants.geojson\", driver='GeoJSON')"
   ]
  },
  {
   "cell_type": "code",
   "execution_count": null,
   "metadata": {},
   "outputs": [],
   "source": []
  }
 ],
 "metadata": {
  "kernelspec": {
   "display_name": "base",
   "language": "python",
   "name": "python3"
  },
  "language_info": {
   "codemirror_mode": {
    "name": "ipython",
    "version": 3
   },
   "file_extension": ".py",
   "mimetype": "text/x-python",
   "name": "python",
   "nbconvert_exporter": "python",
   "pygments_lexer": "ipython3",
   "version": "3.10.8"
  }
 },
 "nbformat": 4,
 "nbformat_minor": 2
}
